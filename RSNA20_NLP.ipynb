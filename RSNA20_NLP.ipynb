{
  "nbformat": 4,
  "nbformat_minor": 0,
  "metadata": {
    "colab": {
      "name": "RSNA20_NLP.ipynb",
      "provenance": [],
      "collapsed_sections": [],
      "toc_visible": true,
      "authorship_tag": "ABX9TyNFQXu+5snRr8uAIlrchZgf",
      "include_colab_link": true
    },
    "kernelspec": {
      "name": "python3",
      "display_name": "Python 3"
    },
    "accelerator": "GPU"
  },
  "cells": [
    {
      "cell_type": "markdown",
      "metadata": {
        "id": "view-in-github",
        "colab_type": "text"
      },
      "source": [
        "<a href=\"https://colab.research.google.com/github/wfwiggins/RSNA-NLP-2020/blob/master/RSNA20_NLP.ipynb\" target=\"_parent\"><img src=\"https://colab.research.google.com/assets/colab-badge.svg\" alt=\"Open In Colab\"/></a>"
      ]
    },
    {
      "cell_type": "markdown",
      "metadata": {
        "id": "kIjz0KY4kSQV"
      },
      "source": [
        "# **RSNA 2020: Hands-on AI for Non-Coders**\n",
        "\n",
        "## **Basics of Information Extraction from Radiology Reports**\n",
        "\n",
        "In this demonstration, we will utilize techniques of _natural language processing_ (NLP) to train a classifier, which will analyze the text of radiology reports for chest radiographs to predict whether a report is **normal** or **abnormal**."
      ]
    },
    {
      "cell_type": "markdown",
      "metadata": {
        "id": "CIrzuLMzr3Ey"
      },
      "source": [
        "# System Setup & Downloading the Data\n",
        "\n",
        "- The first step will install the necessary libraries, then the system will restart. This _WILL_ generate an error message, which can safely be ignored 😉.\n",
        "- In the second step, we will download the [NLM Open-i \"Indiana University Chest X-ray Reports\" dataset](https://openi.nlm.nih.gov/faq#collection)."
      ]
    },
    {
      "cell_type": "code",
      "metadata": {
        "id": "MIA9a7rckKil",
        "cellView": "both"
      },
      "source": [
        "#@title **Installing libraries & restarting...**\n",
        "\n",
        "import os\n",
        "\n",
        "!pip install fastai --upgrade >/dev/null\n",
        "!pip install xmltodict >/dev/null\n",
        "\n",
        "os.kill(os.getpid(), 9)"
      ],
      "execution_count": null,
      "outputs": []
    },
    {
      "cell_type": "code",
      "metadata": {
        "id": "klDik57Vm9Cg",
        "cellView": "both",
        "outputId": "3bb1ccc5-0e2d-41f8-922b-5657014e5b83",
        "colab": {
          "base_uri": "https://localhost:8080/",
          "height": 34
        }
      },
      "source": [
        "#@title **Downloading the data...**\n",
        "\n",
        "!curl -s https://openi.nlm.nih.gov/imgs/collections/NLMCXR_reports.tgz | tar xvz >/dev/null\n",
        "\n",
        "print('Success!')"
      ],
      "execution_count": 1,
      "outputs": [
        {
          "output_type": "stream",
          "text": [
            "Success!\n"
          ],
          "name": "stdout"
        }
      ]
    },
    {
      "cell_type": "markdown",
      "metadata": {
        "id": "SMmKrqN5tM83"
      },
      "source": [
        "# Reformatting the Data\n",
        "\n",
        "Each of the reports is stored in _extensible markup language_ (XML) format. In order to work with the report text data more easily, we will extract the data and put it into a `pandas.DataFrame`, which is a tabular data structure.\n",
        "\n",
        "The XML metadata contains [MeSH terms](https://www.ncbi.nlm.nih.gov/mesh/) for each report. We will use these to create the _label_ for each report in our dataset. These labels will serve as the targets for training our classifier to predict whether the report is **normal** or **abnormal**."
      ]
    },
    {
      "cell_type": "code",
      "metadata": {
        "id": "Gemrv76EoQVX",
        "cellView": "both",
        "outputId": "4740187a-1989-4dc1-ef24-5090bf7442d9",
        "colab": {
          "base_uri": "https://localhost:8080/",
          "height": 493
        }
      },
      "source": [
        "#@title **Extracting the data...**\n",
        "\n",
        "#@markdown After the relevant data is extracted from the XML files, the total number of reports and the first 5 rows of our data table will show up below.\n",
        "\n",
        "import glob\n",
        "import xmltodict\n",
        "from fastai.basics import *\n",
        "\n",
        "def xml_parse(f):\n",
        "    with open(f) as xml:\n",
        "        report_dict = xmltodict.parse(xml.read())\n",
        "    xml.close()\n",
        "    return report_dict\n",
        "\n",
        "def get_label(report):\n",
        "    label = L(report['eCitation']['MeSH']['major'])\n",
        "    return 'normal' if label[0].lower() == 'normal' else 'abnormal'\n",
        "\n",
        "def get_text(report):\n",
        "    text_dict = {}\n",
        "    text = report['eCitation']['MedlineCitation']['Article']['Abstract']['AbstractText']\n",
        "    findings = text[2]['#text'] if '#text' in text[2] else ''\n",
        "    text_dict['findings'] = findings\n",
        "    impression = text[3]['#text'] if '#text' in text[3] else ''\n",
        "    text_dict['impression'] = impression\n",
        "    text_dict['full-text'] = ' '.join([findings, impression])\n",
        "    return text_dict\n",
        "\n",
        "def process_report(report):\n",
        "    label = get_label(report)\n",
        "    report_dict = get_text(report)\n",
        "    report_dict['label'] = label\n",
        "    return report_dict\n",
        "\n",
        "fps = L(glob.glob('/content/ecgen-radiology/*'))\n",
        "reports = fps.map(xml_parse)\n",
        "reports_df = pd.DataFrame(reports.map(process_report))\n",
        "print('# of reports:', reports_df.shape[0])\n",
        "print()\n",
        "reports_df.head()"
      ],
      "execution_count": 2,
      "outputs": [
        {
          "output_type": "stream",
          "text": [
            "# of reports: 3955\n",
            "\n"
          ],
          "name": "stdout"
        },
        {
          "output_type": "execute_result",
          "data": {
            "text/html": [
              "<div>\n",
              "<style scoped>\n",
              "    .dataframe tbody tr th:only-of-type {\n",
              "        vertical-align: middle;\n",
              "    }\n",
              "\n",
              "    .dataframe tbody tr th {\n",
              "        vertical-align: top;\n",
              "    }\n",
              "\n",
              "    .dataframe thead th {\n",
              "        text-align: right;\n",
              "    }\n",
              "</style>\n",
              "<table border=\"1\" class=\"dataframe\">\n",
              "  <thead>\n",
              "    <tr style=\"text-align: right;\">\n",
              "      <th></th>\n",
              "      <th>findings</th>\n",
              "      <th>impression</th>\n",
              "      <th>full-text</th>\n",
              "      <th>label</th>\n",
              "    </tr>\n",
              "  </thead>\n",
              "  <tbody>\n",
              "    <tr>\n",
              "      <th>0</th>\n",
              "      <td></td>\n",
              "      <td>Heart size is upper normal. Tortuous and calcified aorta. No edema. Bandlike left base and lingular opacities XXXX scarring or atelectasis. No lobar consolidation, pleural effusion or pneumothorax.</td>\n",
              "      <td>Heart size is upper normal. Tortuous and calcified aorta. No edema. Bandlike left base and lingular opacities XXXX scarring or atelectasis. No lobar consolidation, pleural effusion or pneumothorax.</td>\n",
              "      <td>abnormal</td>\n",
              "    </tr>\n",
              "    <tr>\n",
              "      <th>1</th>\n",
              "      <td>The cardiac contours are normal. XXXX scarring left base. The lungs are clear. Thoracic spondylosis.</td>\n",
              "      <td>No acute preoperative process.</td>\n",
              "      <td>The cardiac contours are normal. XXXX scarring left base. The lungs are clear. Thoracic spondylosis. No acute preoperative process.</td>\n",
              "      <td>abnormal</td>\n",
              "    </tr>\n",
              "    <tr>\n",
              "      <th>2</th>\n",
              "      <td>There is mild cardiomegaly. The transverse XXXX is calcified. There is a moderate hiatal hernia. The lungs are clear without focal infiltrate. No pleural effusion or pneumothorax. Degenerative changes of the thoracic spine are noted.</td>\n",
              "      <td>1. Mild cardiomegaly and moderate hiatal hernia.</td>\n",
              "      <td>There is mild cardiomegaly. The transverse XXXX is calcified. There is a moderate hiatal hernia. The lungs are clear without focal infiltrate. No pleural effusion or pneumothorax. Degenerative changes of the thoracic spine are noted. 1. Mild cardiomegaly and moderate hiatal hernia.</td>\n",
              "      <td>abnormal</td>\n",
              "    </tr>\n",
              "    <tr>\n",
              "      <th>3</th>\n",
              "      <td>The heart, pulmonary XXXX and mediastinum are within normal limits. There is no pleural effusion or pneumothorax. There is no focal air space opacity to suggest a pneumonia. There is an 8mm nodule identified within the left lateral midlung partially overlying the posterior left 7th rib. There are mild degenerative changes of the spine.</td>\n",
              "      <td>Left midlung pulmonary nodule. Comparison to a previous XXXX would be most helpful alternatively a noncontrast chest CT could be performed in the nonemergent setting for further characterization. No acute disease.</td>\n",
              "      <td>The heart, pulmonary XXXX and mediastinum are within normal limits. There is no pleural effusion or pneumothorax. There is no focal air space opacity to suggest a pneumonia. There is an 8mm nodule identified within the left lateral midlung partially overlying the posterior left 7th rib. There are mild degenerative changes of the spine. Left midlung pulmonary nodule. Comparison to a previous XXXX would be most helpful alternatively a noncontrast chest CT could be performed in the nonemergent setting for further characterization. No acute disease.</td>\n",
              "      <td>abnormal</td>\n",
              "    </tr>\n",
              "    <tr>\n",
              "      <th>4</th>\n",
              "      <td>The cardiomediastinal silhouette is normal in size and contour. No focal consolidation, pneumothorax or large pleural effusion. Normal XXXX.</td>\n",
              "      <td>Negative for acute abnormality.</td>\n",
              "      <td>The cardiomediastinal silhouette is normal in size and contour. No focal consolidation, pneumothorax or large pleural effusion. Normal XXXX. Negative for acute abnormality.</td>\n",
              "      <td>normal</td>\n",
              "    </tr>\n",
              "  </tbody>\n",
              "</table>\n",
              "</div>"
            ],
            "text/plain": [
              "                                                                                                                                                                                                                                                                                                                                            findings  ...     label\n",
              "0                                                                                                                                                                                                                                                                                                                                                     ...  abnormal\n",
              "1                                                                                                                                                                                                                                               The cardiac contours are normal. XXXX scarring left base. The lungs are clear. Thoracic spondylosis.  ...  abnormal\n",
              "2                                                                                                          There is mild cardiomegaly. The transverse XXXX is calcified. There is a moderate hiatal hernia. The lungs are clear without focal infiltrate. No pleural effusion or pneumothorax. Degenerative changes of the thoracic spine are noted.  ...  abnormal\n",
              "3  The heart, pulmonary XXXX and mediastinum are within normal limits. There is no pleural effusion or pneumothorax. There is no focal air space opacity to suggest a pneumonia. There is an 8mm nodule identified within the left lateral midlung partially overlying the posterior left 7th rib. There are mild degenerative changes of the spine.  ...  abnormal\n",
              "4                                                                                                                                                                                                       The cardiomediastinal silhouette is normal in size and contour. No focal consolidation, pneumothorax or large pleural effusion. Normal XXXX.  ...    normal\n",
              "\n",
              "[5 rows x 4 columns]"
            ]
          },
          "metadata": {
            "tags": []
          },
          "execution_count": 2
        }
      ]
    },
    {
      "cell_type": "markdown",
      "metadata": {
        "id": "4sANCvWZy2_5"
      },
      "source": [
        "# Exploring the data\n",
        "\n",
        "As you'll see in the table above, there are some reports where the \"Impression\" states something along the lines of \"No acute cardiopulmonary abnormality\" but the label is \"abnormal\". This is usually due to a chronic incidental finding or artifact that is mentioned in the \"Findings\", but isn't included in the \"Impression\".\n",
        "\n",
        "> We'll revisit this point later when we're deciding which text from the report we want to use to train our classifier.\n",
        "\n",
        "For now, let's look through a little more of the data and see how many normals and abnormals we have to work with."
      ]
    },
    {
      "cell_type": "code",
      "metadata": {
        "id": "HJQupI3dyCTB",
        "cellView": "form",
        "outputId": "2164c023-efc2-4db3-fe19-2b82185b266e",
        "colab": {
          "base_uri": "https://localhost:8080/",
          "height": 408
        }
      },
      "source": [
        "#@title **Run this cell several times to view random samples of the data**\n",
        "\n",
        "reports_df.sample(5)"
      ],
      "execution_count": 3,
      "outputs": [
        {
          "output_type": "execute_result",
          "data": {
            "text/html": [
              "<div>\n",
              "<style scoped>\n",
              "    .dataframe tbody tr th:only-of-type {\n",
              "        vertical-align: middle;\n",
              "    }\n",
              "\n",
              "    .dataframe tbody tr th {\n",
              "        vertical-align: top;\n",
              "    }\n",
              "\n",
              "    .dataframe thead th {\n",
              "        text-align: right;\n",
              "    }\n",
              "</style>\n",
              "<table border=\"1\" class=\"dataframe\">\n",
              "  <thead>\n",
              "    <tr style=\"text-align: right;\">\n",
              "      <th></th>\n",
              "      <th>findings</th>\n",
              "      <th>impression</th>\n",
              "      <th>full-text</th>\n",
              "      <th>label</th>\n",
              "    </tr>\n",
              "  </thead>\n",
              "  <tbody>\n",
              "    <tr>\n",
              "      <th>1835</th>\n",
              "      <td>The cardiomediastinal silhouette is normal in size and contour. No focal consolidation, pneumothorax or large pleural effusion. Normal XXXX.</td>\n",
              "      <td>Negative for acute abnormality.</td>\n",
              "      <td>The cardiomediastinal silhouette is normal in size and contour. No focal consolidation, pneumothorax or large pleural effusion. Normal XXXX. Negative for acute abnormality.</td>\n",
              "      <td>normal</td>\n",
              "    </tr>\n",
              "    <tr>\n",
              "      <th>448</th>\n",
              "      <td>The heart is normal in size. The mediastinum is unremarkable. The lungs are hypoinflated. with XXXX opacities in the lung bases, XXXX bronchovascular crowding. No focal consolidation or pleural effusion are seen.</td>\n",
              "      <td>Low lung volumes with bibasilar opacities XXXX bronchovascular crowding. No acute infiltrate.</td>\n",
              "      <td>The heart is normal in size. The mediastinum is unremarkable. The lungs are hypoinflated. with XXXX opacities in the lung bases, XXXX bronchovascular crowding. No focal consolidation or pleural effusion are seen. Low lung volumes with bibasilar opacities XXXX bronchovascular crowding. No acute infiltrate.</td>\n",
              "      <td>abnormal</td>\n",
              "    </tr>\n",
              "    <tr>\n",
              "      <th>3391</th>\n",
              "      <td>The opacity at the left lung base appears stable from prior exam. There is elevation of the left hemidiaphragm is stable. The cardiomediastinal silhouette is enlarged but unchanged. XXXX sternotomy XXXX are again noted. There is a large amount of XXXX distending the stomach, which incidentally was also seen on prior exam of 3 years ago. There is no pneumothorax.</td>\n",
              "      <td>1. Left basilar opacity XXXX represents atelectasis/scarring with associated elevated hemidiaphragm. 2. Stable cardiomegaly. 3. No XXXX airspace disease.</td>\n",
              "      <td>The opacity at the left lung base appears stable from prior exam. There is elevation of the left hemidiaphragm is stable. The cardiomediastinal silhouette is enlarged but unchanged. XXXX sternotomy XXXX are again noted. There is a large amount of XXXX distending the stomach, which incidentally was also seen on prior exam of 3 years ago. There is no pneumothorax. 1. Left basilar opacity XXXX represents atelectasis/scarring with associated elevated hemidiaphragm. 2. Stable cardiomegaly. 3. No XXXX airspace disease.</td>\n",
              "      <td>abnormal</td>\n",
              "    </tr>\n",
              "    <tr>\n",
              "      <th>2460</th>\n",
              "      <td>The lungs are clear. There is no focal airspace consolidation. No pleural effusion or pneumothorax. Heart size and mediastinal contour are normal.</td>\n",
              "      <td>No evidence of active disease.</td>\n",
              "      <td>The lungs are clear. There is no focal airspace consolidation. No pleural effusion or pneumothorax. Heart size and mediastinal contour are normal. No evidence of active disease.</td>\n",
              "      <td>normal</td>\n",
              "    </tr>\n",
              "    <tr>\n",
              "      <th>1809</th>\n",
              "      <td>Lungs are clear bilaterally. Cardiac and mediastinal silhouettes are normal. Pulmonary vasculature is normal. No pneumothorax or pleural effusion. No acute bony abnormality.</td>\n",
              "      <td>No acute cardiopulmonary abnormality.</td>\n",
              "      <td>Lungs are clear bilaterally. Cardiac and mediastinal silhouettes are normal. Pulmonary vasculature is normal. No pneumothorax or pleural effusion. No acute bony abnormality. No acute cardiopulmonary abnormality.</td>\n",
              "      <td>normal</td>\n",
              "    </tr>\n",
              "  </tbody>\n",
              "</table>\n",
              "</div>"
            ],
            "text/plain": [
              "                                                                                                                                                                                                                                                                                                                                                                          findings  ...     label\n",
              "1835                                                                                                                                                                                                                                  The cardiomediastinal silhouette is normal in size and contour. No focal consolidation, pneumothorax or large pleural effusion. Normal XXXX.  ...    normal\n",
              "448                                                                                                                                                           The heart is normal in size. The mediastinum is unremarkable. The lungs are hypoinflated. with XXXX opacities in the lung bases, XXXX bronchovascular crowding. No focal consolidation or pleural effusion are seen.  ...  abnormal\n",
              "3391  The opacity at the left lung base appears stable from prior exam. There is elevation of the left hemidiaphragm is stable. The cardiomediastinal silhouette is enlarged but unchanged. XXXX sternotomy XXXX are again noted. There is a large amount of XXXX distending the stomach, which incidentally was also seen on prior exam of 3 years ago. There is no pneumothorax.  ...  abnormal\n",
              "2460                                                                                                                                                                                                                            The lungs are clear. There is no focal airspace consolidation. No pleural effusion or pneumothorax. Heart size and mediastinal contour are normal.  ...    normal\n",
              "1809                                                                                                                                                                                                 Lungs are clear bilaterally. Cardiac and mediastinal silhouettes are normal. Pulmonary vasculature is normal. No pneumothorax or pleural effusion. No acute bony abnormality.  ...    normal\n",
              "\n",
              "[5 rows x 4 columns]"
            ]
          },
          "metadata": {
            "tags": []
          },
          "execution_count": 3
        }
      ]
    },
    {
      "cell_type": "markdown",
      "metadata": {
        "id": "qq2-xd-YyrpC"
      },
      "source": [
        "Here are some of the things you may have noticed about the data, as you reviewed it:\n",
        "- Some reports only have an Impression (i.e. no separate Findings section)\n",
        "- Many reports contain blocks of \"XXXX\" text. This is due to the fact that these reports were anonymized prior to releasing them as an open data set. These blocks likely represent _named entities_ or dates.\n",
        "- As expected, there is wide variation in the length of these chest radiograph reports.\n",
        "\n",
        "---\n",
        "\n",
        "Next, let's count how many of each label we have.\n"
      ]
    },
    {
      "cell_type": "code",
      "metadata": {
        "id": "nqY-EC3opnBW",
        "cellView": "both",
        "outputId": "cec52a74-716c-4f6c-f650-39d3e3f69cc5",
        "colab": {
          "base_uri": "https://localhost:8080/",
          "height": 354
        }
      },
      "source": [
        "#@title **Label counts: # of Normals & Abnormals**\n",
        "\n",
        "label_counts = reports_df.label.value_counts()\n",
        "print('Abnormal:', label_counts['abnormal'])\n",
        "print('Normal:', label_counts['normal'])\n",
        "print()\n",
        "label_counts.plot.bar();"
      ],
      "execution_count": 4,
      "outputs": [
        {
          "output_type": "stream",
          "text": [
            "Abnormal: 2564\n",
            "Normal: 1391\n",
            "\n"
          ],
          "name": "stdout"
        },
        {
          "output_type": "display_data",
          "data": {
            "image/png": "[encoded data removed]",
            "text/plain": [
              "<Figure size 432x288 with 1 Axes>"
            ]
          },
          "metadata": {
            "tags": [],
            "needs_background": "light"
          }
        }
      ]
    },
    {
      "cell_type": "markdown",
      "metadata": {
        "id": "fGQenIsg0uqe"
      },
      "source": [
        "As we see in the bar graph above, there are almost twice as many abnormal reports as there are normal reports. This will be important to remember as we partition our data into training, validation, and test sets.\n",
        "\n",
        "In fact, we'll go ahead and split off (\"hold out\") the test set right now to ensure our model is not exposed to it until the very end. \n",
        "\n",
        "We'll set it up such that the our test set is 15% of our full data set and keep the relative percentage of labels the same as in our full dataset."
      ]
    },
    {
      "cell_type": "code",
      "metadata": {
        "id": "NCMPqjqvs1Mc",
        "cellView": "both",
        "outputId": "e64b6749-a640-40ff-90da-a5b3fc8600c0",
        "colab": {
          "base_uri": "https://localhost:8080/",
          "height": 372
        }
      },
      "source": [
        "#@title **Test set label counts**\n",
        "\n",
        "from sklearn.model_selection import train_test_split\n",
        "\n",
        "np.random.seed(42)\n",
        "\n",
        "train_val, test_df = train_test_split(reports_df, test_size=0.15, stratify=reports_df.label.values)\n",
        "train_val.reset_index(inplace=True)\n",
        "test_df.reset_index(inplace=True)\n",
        "print('Test set size:', test_df.shape[0])\n",
        "test_counts = test_df.label.value_counts()\n",
        "print('Abnormal:', test_counts['abnormal'])\n",
        "print('Normal:', test_counts['normal'])\n",
        "print()\n",
        "test_counts.plot.bar();"
      ],
      "execution_count": 5,
      "outputs": [
        {
          "output_type": "stream",
          "text": [
            "Test set size: 594\n",
            "Abnormal: 385\n",
            "Normal: 209\n",
            "\n"
          ],
          "name": "stdout"
        },
        {
          "output_type": "display_data",
          "data": {
            "image/png": "[encoded data removed]",
            "text/plain": [
              "<Figure size 432x288 with 1 Axes>"
            ]
          },
          "metadata": {
            "tags": [],
            "needs_background": "light"
          }
        }
      ]
    },
    {
      "cell_type": "markdown",
      "metadata": {
        "id": "HI7CMLEg6VjL"
      },
      "source": [
        "# Language Modeling\n",
        "\n",
        "The types of algorithms we use in NLP work with with numbers, not text. Therefore, we need a way to convert text into numbers.\n",
        "\n",
        "## Tokenization\n",
        "\n",
        "_Tokenization_ is the process by which we split text into chunks or _tokens_. An individual token could be a sentence or phrase, a word, a part of a word, or a single character. Most often, we choose to tokenize at the word or sub-word level.\n",
        "\n",
        "Each token is assigned a sequential integer value and the collection of token-integer pairs is called our _vocabulary_.\n",
        "\n",
        "## Embedding\n",
        "\n",
        "While these integers map one-to-one onto our tokens, their numeric value is otherwise meaningless. To embed more information into the numeric representation of our tokens, we employ a process called _language modeling_. We can either use a pre-trained language model for this _embedding_ or we can fine-tune a language model to better model our \"radiology language\". This latter process is called _transfer learning_."
      ]
    },
    {
      "cell_type": "code",
      "metadata": {
        "id": "oBodPuEb5XMK",
        "cellView": "both",
        "outputId": "4809cd99-eeca-4b05-de26-a86bc6ee6508",
        "colab": {
          "base_uri": "https://localhost:8080/",
          "height": 122
        }
      },
      "source": [
        "#@title **Word Tokenization**\n",
        "\n",
        "from fastai.text.all import *\n",
        "\n",
        "spacy = WordTokenizer()\n",
        "text = train_val.loc[0, 'full-text']\n",
        "print('Original text:')\n",
        "print(text)\n",
        "print()\n",
        "tkns = first(spacy([text]))\n",
        "print('After word tokenization (only showing first 10 tokens):')\n",
        "print(coll_repr(tkns))"
      ],
      "execution_count": 6,
      "outputs": [
        {
          "output_type": "stream",
          "text": [
            "Original text:\n",
            "Heart size within normal limits. Mild hyperinflation of the lungs. Mild pectus excavatum deformity. Stable left mid lung calcified granuloma. No focal airspace disease. No pneumothorax or effusions. Changes of chronic lung disease with no acute cardiopulmonary finding.\n",
            "\n",
            "After word tokenization (only showing first 10 tokens):\n",
            "(#45) ['Heart','size','within','normal','limits','.','Mild','hyperinflation','of','the'...]\n"
          ],
          "name": "stdout"
        }
      ]
    },
    {
      "cell_type": "code",
      "metadata": {
        "id": "AzhXiIreGk7T",
        "cellView": "both",
        "outputId": "c1f5fc9c-f221-4648-911f-12f791414865",
        "colab": {
          "base_uri": "https://localhost:8080/",
          "height": 34
        }
      },
      "source": [
        "#@title **fast.ai Tokenization**\n",
        "\n",
        "tkn = Tokenizer(spacy)\n",
        "toks = tkn(text)\n",
        "print(coll_repr(toks, 15))"
      ],
      "execution_count": 7,
      "outputs": [
        {
          "output_type": "stream",
          "text": [
            "(#53) ['xxbos','xxmaj','heart','size','within','normal','limits','.','xxmaj','mild','hyperinflation','of','the','lungs','.'...]\n"
          ],
          "name": "stdout"
        }
      ]
    },
    {
      "cell_type": "markdown",
      "metadata": {
        "id": "1QrDY1dqKw_1"
      },
      "source": [
        "## Added features from fast.ai\n",
        "\n",
        "You'll notice some odd-appearing tokens in the above output. These are special tokens that indicate certain things about the text.\n",
        "- `'xxbos'` indicates the beginning of the text _stream_\n",
        "- `'xxmaj'` indicates that the following character was capitalized before fast.ai lowered it\n",
        "\n",
        "These special tokens enrich the data while reducing the vocab by eliminating redundant upper and lower case variants of individual words."
      ]
    },
    {
      "cell_type": "markdown",
      "metadata": {
        "id": "FqTTlDBHM7Z3"
      },
      "source": [
        "## Numericalization\n",
        "\n",
        "Now that we've converted our text to tokens, the next step in embedding is to convert each unique token to a number.\n",
        "\n",
        "For language modeling, we can do this on all of the text that we intend to use for training and validation. So we'll combine the **Findings** and **Impression** for each of our reports and tokenize the text to define our _vocabulary_. Each token in the vocabulary will be identified by a unique number."
      ]
    },
    {
      "cell_type": "code",
      "metadata": {
        "id": "9jB19pgwKUWU",
        "cellView": "both",
        "outputId": "4bf5d39d-bfaf-4b72-a16c-299b48fabc14",
        "colab": {
          "base_uri": "https://localhost:8080/",
          "height": 35
        }
      },
      "source": [
        "#@title **Computing vocabulary...**\n",
        "\n",
        "txts = L(train_val['full-text'].to_list())\n",
        "toks = txts.map(tkn)\n",
        "num = Numericalize()\n",
        "num.setup(toks)\n",
        "coll_repr(num.vocab, 20)"
      ],
      "execution_count": 8,
      "outputs": [
        {
          "output_type": "execute_result",
          "data": {
            "application/vnd.google.colaboratory.intrinsic+json": {
              "type": "string"
            },
            "text/plain": [
              "\"(#1192) ['xxunk','xxpad','xxbos','xxeos','xxfld','xxrep','xxwrep','xxup','xxmaj','.','no','the','is','are','normal',',','4','x','and','of'...]\""
            ]
          },
          "metadata": {
            "tags": []
          },
          "execution_count": 8
        }
      ]
    },
    {
      "cell_type": "markdown",
      "metadata": {
        "id": "mrete-DVQzpT"
      },
      "source": [
        "As you can see above, we have 1,168 tokens in our vocabulary. The special tokens from `fast.ai` appear first, followed by every other token in order of decreasing frequency. By default, `fast.ai` only includes tokens that appear at least 3 times in the _corpus_ (collection of texts). "
      ]
    },
    {
      "cell_type": "code",
      "metadata": {
        "id": "apVezMTKOtd1",
        "cellView": "both",
        "outputId": "1c1730d3-16d8-4349-f17c-09f767633dd8",
        "colab": {
          "base_uri": "https://localhost:8080/",
          "height": 51
        }
      },
      "source": [
        "#@title **Numericalizing tokens...**\n",
        "\n",
        "nums = num(toks[0][:14])\n",
        "print(nums)\n",
        "print(' '.join(num.vocab[i] for i in nums))"
      ],
      "execution_count": 9,
      "outputs": [
        {
          "output_type": "stream",
          "text": [
            "TensorText([  2,   8,  26,  28,  33,  14,  36,   9,   8,  56, 386,  19,  11,  27])\n",
            "xxbos xxmaj heart size within normal limits . xxmaj mild hyperinflation of the lungs\n"
          ],
          "name": "stdout"
        }
      ]
    },
    {
      "cell_type": "markdown",
      "metadata": {
        "id": "Ln-1OfouTxvH"
      },
      "source": [
        "Here, we see a subset of the numericalized tokens (top) with their corresponding word tokens (bottom) from the first report in our _corpus_. "
      ]
    },
    {
      "cell_type": "markdown",
      "metadata": {
        "id": "PTH79qDqW4Zw"
      },
      "source": [
        "## Language Model Transfer Learning\n",
        "\n",
        "By default, `fastai.text` uses a language model pre-trained on the WikiText-103 corpus, which is a frequently used benchmark for NLP models, similar to ImageNet for image classification models.\n",
        "\n",
        "In their 2018 ACL paper \"[Universal Language Model Fine-Tuning for Text Classification](https://arxiv.org/abs/1801.06146)\", Jeremy Howard and Sebastian Ruder proposed the ULM-FiT approach of fine-tuning the language model on the corpus on which we will train our text classification model.\n",
        "\n",
        "Here, we will fine-tune the language model in two stages."
      ]
    },
    {
      "cell_type": "code",
      "metadata": {
        "id": "MJAoDjvwS9X0",
        "cellView": "both",
        "outputId": "18f4932d-7c86-4713-a384-94e823d296ed",
        "colab": {
          "base_uri": "https://localhost:8080/",
          "height": 80
        }
      },
      "source": [
        "#@title **Fine-tuning the language model (part 1)...**\n",
        "\n",
        "dls_lm = TextDataLoaders.from_df(train_val, valid_pct=0.3, seed=42, text_col='full-text', is_lm=True)\n",
        "learn_lm = language_model_learner(dls_lm, AWD_LSTM, metrics=[accuracy, Perplexity()]).to_fp16()\n",
        "learn_lm.fit_one_cycle(1, 2e-2)"
      ],
      "execution_count": 10,
      "outputs": [
        {
          "output_type": "display_data",
          "data": {
            "text/html": [
              ""
            ],
            "text/plain": [
              "<IPython.core.display.HTML object>"
            ]
          },
          "metadata": {
            "tags": []
          }
        },
        {
          "output_type": "display_data",
          "data": {
            "text/html": [
              "<table border=\"1\" class=\"dataframe\">\n",
              "  <thead>\n",
              "    <tr style=\"text-align: left;\">\n",
              "      <th>epoch</th>\n",
              "      <th>train_loss</th>\n",
              "      <th>valid_loss</th>\n",
              "      <th>accuracy</th>\n",
              "      <th>perplexity</th>\n",
              "      <th>time</th>\n",
              "    </tr>\n",
              "  </thead>\n",
              "  <tbody>\n",
              "    <tr>\n",
              "      <td>0</td>\n",
              "      <td>3.613854</td>\n",
              "      <td>2.348312</td>\n",
              "      <td>0.510837</td>\n",
              "      <td>10.467884</td>\n",
              "      <td>00:21</td>\n",
              "    </tr>\n",
              "  </tbody>\n",
              "</table>"
            ],
            "text/plain": [
              "<IPython.core.display.HTML object>"
            ]
          },
          "metadata": {
            "tags": []
          }
        }
      ]
    },
    {
      "cell_type": "code",
      "metadata": {
        "id": "WzMPzJjWbWLx",
        "cellView": "both",
        "outputId": "0966ce83-9787-4c35-9395-870f00506b50",
        "colab": {
          "base_uri": "https://localhost:8080/",
          "height": 359
        }
      },
      "source": [
        "#@title **Fine-tuning the language model (part 2)...**\n",
        "\n",
        "learn_lm.unfreeze()\n",
        "learn_lm.fit_one_cycle(10, 2e-3)"
      ],
      "execution_count": 11,
      "outputs": [
        {
          "output_type": "display_data",
          "data": {
            "text/html": [
              "<table border=\"1\" class=\"dataframe\">\n",
              "  <thead>\n",
              "    <tr style=\"text-align: left;\">\n",
              "      <th>epoch</th>\n",
              "      <th>train_loss</th>\n",
              "      <th>valid_loss</th>\n",
              "      <th>accuracy</th>\n",
              "      <th>perplexity</th>\n",
              "      <th>time</th>\n",
              "    </tr>\n",
              "  </thead>\n",
              "  <tbody>\n",
              "    <tr>\n",
              "      <td>0</td>\n",
              "      <td>2.535728</td>\n",
              "      <td>2.107244</td>\n",
              "      <td>0.553940</td>\n",
              "      <td>8.225536</td>\n",
              "      <td>00:25</td>\n",
              "    </tr>\n",
              "    <tr>\n",
              "      <td>1</td>\n",
              "      <td>2.338757</td>\n",
              "      <td>1.892078</td>\n",
              "      <td>0.587008</td>\n",
              "      <td>6.633138</td>\n",
              "      <td>00:25</td>\n",
              "    </tr>\n",
              "    <tr>\n",
              "      <td>2</td>\n",
              "      <td>2.156376</td>\n",
              "      <td>1.743105</td>\n",
              "      <td>0.617861</td>\n",
              "      <td>5.715061</td>\n",
              "      <td>00:24</td>\n",
              "    </tr>\n",
              "    <tr>\n",
              "      <td>3</td>\n",
              "      <td>1.974364</td>\n",
              "      <td>1.632348</td>\n",
              "      <td>0.637067</td>\n",
              "      <td>5.115871</td>\n",
              "      <td>00:24</td>\n",
              "    </tr>\n",
              "    <tr>\n",
              "      <td>4</td>\n",
              "      <td>1.839169</td>\n",
              "      <td>1.568118</td>\n",
              "      <td>0.653278</td>\n",
              "      <td>4.797609</td>\n",
              "      <td>00:24</td>\n",
              "    </tr>\n",
              "    <tr>\n",
              "      <td>5</td>\n",
              "      <td>1.721865</td>\n",
              "      <td>1.524298</td>\n",
              "      <td>0.661763</td>\n",
              "      <td>4.591917</td>\n",
              "      <td>00:24</td>\n",
              "    </tr>\n",
              "    <tr>\n",
              "      <td>6</td>\n",
              "      <td>1.627955</td>\n",
              "      <td>1.504986</td>\n",
              "      <td>0.666829</td>\n",
              "      <td>4.504091</td>\n",
              "      <td>00:25</td>\n",
              "    </tr>\n",
              "    <tr>\n",
              "      <td>7</td>\n",
              "      <td>1.554954</td>\n",
              "      <td>1.492480</td>\n",
              "      <td>0.669587</td>\n",
              "      <td>4.448114</td>\n",
              "      <td>00:24</td>\n",
              "    </tr>\n",
              "    <tr>\n",
              "      <td>8</td>\n",
              "      <td>1.494281</td>\n",
              "      <td>1.484212</td>\n",
              "      <td>0.671646</td>\n",
              "      <td>4.411487</td>\n",
              "      <td>00:24</td>\n",
              "    </tr>\n",
              "    <tr>\n",
              "      <td>9</td>\n",
              "      <td>1.459429</td>\n",
              "      <td>1.482608</td>\n",
              "      <td>0.672276</td>\n",
              "      <td>4.404417</td>\n",
              "      <td>00:24</td>\n",
              "    </tr>\n",
              "  </tbody>\n",
              "</table>"
            ],
            "text/plain": [
              "<IPython.core.display.HTML object>"
            ]
          },
          "metadata": {
            "tags": []
          }
        }
      ]
    },
    {
      "cell_type": "code",
      "metadata": {
        "id": "A3TeFPXNerD2",
        "cellView": "both"
      },
      "source": [
        "#@title **Saving the embedding layers of our fine-tuned language model...**\n",
        "\n",
        "learn_lm.export('fine-tuned')\n",
        "learn_lm.save_encoder('fine-tuned-enc')"
      ],
      "execution_count": 12,
      "outputs": []
    },
    {
      "cell_type": "markdown",
      "metadata": {
        "id": "hQgjglXrQmBK"
      },
      "source": [
        "# Report Classifier Training\n",
        "\n",
        "In the steps that follow, we will train a second model as a text classifier, using embeddings from our fine-tuned language model. We will then test the classifier on our held-out test set to see how it performs on data it hasn't seen yet."
      ]
    },
    {
      "cell_type": "code",
      "metadata": {
        "id": "BpySN4uawgCM",
        "outputId": "44eb6b5b-3855-4b71-b3ce-2999cfc0aeae",
        "colab": {
          "base_uri": "https://localhost:8080/",
          "height": 68
        }
      },
      "source": [
        "#@title **Download the model**\n",
        "\n",
        "#@markdown If you skipped the previous section where we fine-tuned the language model, run this cell to download the fine-tuned embedding layers from GitHub.\n",
        "\n",
        "!wget -q https://github.com/wfwiggins/RSNA-NLP-2020/blob/master/models.zip?raw=true\n",
        "!unzip -o models.zip?raw=true -d /content/ >/dev/null\n",
        "!rm models.zip?raw=true\n",
        "\n",
        "print('Success!')"
      ],
      "execution_count": 13,
      "outputs": [
        {
          "output_type": "stream",
          "text": [
            "Archive:  models.zip?raw=true\n",
            "  inflating: /content/models/models/fine-tuned.pth  \n",
            "Success!\n"
          ],
          "name": "stdout"
        }
      ]
    },
    {
      "cell_type": "code",
      "metadata": {
        "id": "dGez3xTLQk4K",
        "cellView": "both",
        "outputId": "8fb8b60c-bdde-4b11-f5fa-778c1ccb7597",
        "colab": {
          "base_uri": "https://localhost:8080/",
          "height": 295
        }
      },
      "source": [
        "#@title **Setting up the Training Experiment**\n",
        "\n",
        "#@markdown Select options for training, then run the next few cells to train and test your model.\n",
        "#@markdown Once you've viewed the results, you can come back and run this cell again under different conditions to see how each selection affects model performance.\n",
        "\n",
        "training_target = 'full-text' #@param [\"full-text\", \"findings\", \"impression\"]\n",
        "validation_pct = 0.3 #@param {type:\"slider\", min:0.1, max:0.4, step:0.05}\n",
        "fine_tuned_LM = True #@param {type:\"boolean\"}\n",
        "\n",
        "dls_cls = TextDataLoaders.from_df(train_val, valid_pct=validation_pct, seed=42, text_col=training_target, label_col='label')\n",
        "dls_cls.show_batch(max_n=3)"
      ],
      "execution_count": 14,
      "outputs": [
        {
          "output_type": "display_data",
          "data": {
            "text/html": [
              ""
            ],
            "text/plain": [
              "<IPython.core.display.HTML object>"
            ]
          },
          "metadata": {
            "tags": []
          }
        },
        {
          "output_type": "display_data",
          "data": {
            "text/html": [
              "<table border=\"1\" class=\"dataframe\">\n",
              "  <thead>\n",
              "    <tr style=\"text-align: right;\">\n",
              "      <th></th>\n",
              "      <th>text</th>\n",
              "      <th>category</th>\n",
              "    </tr>\n",
              "  </thead>\n",
              "  <tbody>\n",
              "    <tr>\n",
              "      <th>0</th>\n",
              "      <td>xxbos xxmaj chest : 2 images . xxmaj heart size is normal . xxmaj mediastinal contours are maintained . xxmaj there is a mild pectus excavatum deformity . xxmaj the lungs are clear of focal infiltrate . xxmaj there is no evidence for pleural effusion or pneumothorax . xxmaj no convincing acute bony findings . xxmaj right shoulder : 3 images . xxmaj there has been xxrep 4 x and screw fixation of the xxunk right clavicle . xxmaj the lateral most screw is fractured . xxmaj this is age - indeterminate as no prior studies are available for comparison . xxmaj otherwise , the surgical xxrep 4 x appears intact . xxmaj the humeral head is seen within the glenoid , without evidence for dislocation . xxmaj no bony fractures are seen . xxmaj the visualized right ribs appear intact . xxmaj right clavicle : 2 images . xxmaj</td>\n",
              "      <td>abnormal</td>\n",
              "    </tr>\n",
              "    <tr>\n",
              "      <th>1</th>\n",
              "      <td>xxbos xxmaj the heart is mildly enlarged . xxmaj the lungs are hypoinflated with mildly elevated left hemidiaphragm . xxmaj there is patchy opacity in the left lung base which may be secondary to atelectasis and / or possible infiltrate . xxmaj increased markings are noted throughout and were present on prior xxup ct . xxmaj the study is limited secondary to moderate xxrep 4 x motion . xxmaj underlying emphysematous changes are identified . xxmaj hypoinflation with elevated left hemidiaphragm and possible left basilar infiltrate versus atelectasis . xxmaj followup evaluation is suggested in 2 to 4 weeks . xxup xxunk : xxmaj exam : xxup chest xxunk xxup frontal / xxup lateral xxmaj xxunk : xxrep 4 x , xxrep 4 x xxrep 4 x xxup xxunk xxmaj comparison : xxup ct chest xxrep 4 x xxmaj history : xxmaj xxunk of xxunk xxup findings : xxmaj the</td>\n",
              "      <td>abnormal</td>\n",
              "    </tr>\n",
              "    <tr>\n",
              "      <th>2</th>\n",
              "      <td>xxbos xxmaj lungs are hyperinflated with interstitial changes of severe emphysema . xxmaj there is an ill - defined pleural parenchymal opacity in the left upper lobe . xxmaj this may represent scarring but is incompletely evaluated on the outside study , without xxunk and xxunk xxunk . xxmaj there is mild xxrep 4 x scarring and / or atelectasis in the lung bases . xxmaj lungs otherwise grossly clear . xxmaj there is no pneumothorax or pleural effusion . xxmaj heart size is normal . xxmaj there are mild degenerative endplate changes in the thoracic spine . xxmaj there is generalized osteopenia . 1 . xxmaj severe emphysema . 2 . xxmaj irregular , pleural - parenchymal opacity in left upper lobe . xxmaj this may irregular pleural - parenchymal scarring , however , recommend comparison with more remote outside imaging , if available to determine xxunk - xxunk</td>\n",
              "      <td>abnormal</td>\n",
              "    </tr>\n",
              "  </tbody>\n",
              "</table>"
            ],
            "text/plain": [
              "<IPython.core.display.HTML object>"
            ]
          },
          "metadata": {
            "tags": []
          }
        }
      ]
    },
    {
      "cell_type": "markdown",
      "metadata": {
        "id": "ORbdBqOOVzrM"
      },
      "source": [
        "## Iterative Training Process\n",
        "\n",
        "So that we don't propagate too much error through the network during training, we will train the final layers first, then iteratively _unfreeze_ (i.e. make trainable) a few preceding layers and train a little more before repeating this process."
      ]
    },
    {
      "cell_type": "code",
      "metadata": {
        "id": "nGid1qqwUxGh",
        "cellView": "both",
        "outputId": "7b666380-f46c-4a0d-9f28-c4f2bb5fc974",
        "colab": {
          "base_uri": "https://localhost:8080/",
          "height": 487
        }
      },
      "source": [
        "#@title **Training the model...**\n",
        "\n",
        "learn_cls = text_classifier_learner(dls_cls, AWD_LSTM, drop_mult=0.5, metrics=accuracy).to_fp16()\n",
        "if fine_tuned_LM: learn_cls.load_encoder('fine-tuned-enc')\n",
        "learn_cls.fit_one_cycle(1, 2e-2)\n",
        "print(\"\\nPart 1/4 complete.\\n\")\n",
        "\n",
        "# Unfreezing and training a little more...\n",
        "learn_cls.freeze_to(-2)\n",
        "learn_cls.fit_one_cycle(1, slice(1e-2/(2.6**4),1e-2))\n",
        "print(\"\\nPart 2/4 complete.\\n\")\n",
        "\n",
        "# Unfreezing and training a little more, again...\n",
        "learn_cls.freeze_to(-3)\n",
        "learn_cls.fit_one_cycle(1, slice(5e-3/(2.6**4),5e-3))\n",
        "print(\"\\nPart 3/4 complete.\\n\")\n",
        "\n",
        "# Now let's unfreeze the whole model and finish training.\n",
        "learn_cls.unfreeze()\n",
        "learn_cls.fit_one_cycle(1, slice(1e-3/(2.6**4),1e-3))\n",
        "print(\"\\nPart 4/4 complete.\")"
      ],
      "execution_count": 15,
      "outputs": [
        {
          "output_type": "display_data",
          "data": {
            "text/html": [
              "<table border=\"1\" class=\"dataframe\">\n",
              "  <thead>\n",
              "    <tr style=\"text-align: left;\">\n",
              "      <th>epoch</th>\n",
              "      <th>train_loss</th>\n",
              "      <th>valid_loss</th>\n",
              "      <th>accuracy</th>\n",
              "      <th>time</th>\n",
              "    </tr>\n",
              "  </thead>\n",
              "  <tbody>\n",
              "    <tr>\n",
              "      <td>0</td>\n",
              "      <td>0.744739</td>\n",
              "      <td>0.372792</td>\n",
              "      <td>0.894841</td>\n",
              "      <td>00:09</td>\n",
              "    </tr>\n",
              "  </tbody>\n",
              "</table>"
            ],
            "text/plain": [
              "<IPython.core.display.HTML object>"
            ]
          },
          "metadata": {
            "tags": []
          }
        },
        {
          "output_type": "stream",
          "text": [
            "\n",
            "Part 1/4 complete.\n",
            "\n"
          ],
          "name": "stdout"
        },
        {
          "output_type": "display_data",
          "data": {
            "text/html": [
              "<table border=\"1\" class=\"dataframe\">\n",
              "  <thead>\n",
              "    <tr style=\"text-align: left;\">\n",
              "      <th>epoch</th>\n",
              "      <th>train_loss</th>\n",
              "      <th>valid_loss</th>\n",
              "      <th>accuracy</th>\n",
              "      <th>time</th>\n",
              "    </tr>\n",
              "  </thead>\n",
              "  <tbody>\n",
              "    <tr>\n",
              "      <td>0</td>\n",
              "      <td>0.573684</td>\n",
              "      <td>0.224475</td>\n",
              "      <td>0.940476</td>\n",
              "      <td>00:10</td>\n",
              "    </tr>\n",
              "  </tbody>\n",
              "</table>"
            ],
            "text/plain": [
              "<IPython.core.display.HTML object>"
            ]
          },
          "metadata": {
            "tags": []
          }
        },
        {
          "output_type": "stream",
          "text": [
            "\n",
            "Part 2/4 complete.\n",
            "\n"
          ],
          "name": "stdout"
        },
        {
          "output_type": "display_data",
          "data": {
            "text/html": [
              "<table border=\"1\" class=\"dataframe\">\n",
              "  <thead>\n",
              "    <tr style=\"text-align: left;\">\n",
              "      <th>epoch</th>\n",
              "      <th>train_loss</th>\n",
              "      <th>valid_loss</th>\n",
              "      <th>accuracy</th>\n",
              "      <th>time</th>\n",
              "    </tr>\n",
              "  </thead>\n",
              "  <tbody>\n",
              "    <tr>\n",
              "      <td>0</td>\n",
              "      <td>0.438052</td>\n",
              "      <td>0.212262</td>\n",
              "      <td>0.928571</td>\n",
              "      <td>00:16</td>\n",
              "    </tr>\n",
              "  </tbody>\n",
              "</table>"
            ],
            "text/plain": [
              "<IPython.core.display.HTML object>"
            ]
          },
          "metadata": {
            "tags": []
          }
        },
        {
          "output_type": "stream",
          "text": [
            "\n",
            "Part 3/4 complete.\n",
            "\n"
          ],
          "name": "stdout"
        },
        {
          "output_type": "display_data",
          "data": {
            "text/html": [
              "<table border=\"1\" class=\"dataframe\">\n",
              "  <thead>\n",
              "    <tr style=\"text-align: left;\">\n",
              "      <th>epoch</th>\n",
              "      <th>train_loss</th>\n",
              "      <th>valid_loss</th>\n",
              "      <th>accuracy</th>\n",
              "      <th>time</th>\n",
              "    </tr>\n",
              "  </thead>\n",
              "  <tbody>\n",
              "    <tr>\n",
              "      <td>0</td>\n",
              "      <td>0.337362</td>\n",
              "      <td>0.152648</td>\n",
              "      <td>0.953373</td>\n",
              "      <td>00:21</td>\n",
              "    </tr>\n",
              "    <tr>\n",
              "      <td>1</td>\n",
              "      <td>0.299714</td>\n",
              "      <td>0.157838</td>\n",
              "      <td>0.945437</td>\n",
              "      <td>00:20</td>\n",
              "    </tr>\n",
              "  </tbody>\n",
              "</table>"
            ],
            "text/plain": [
              "<IPython.core.display.HTML object>"
            ]
          },
          "metadata": {
            "tags": []
          }
        },
        {
          "output_type": "stream",
          "text": [
            "\n",
            "Part 4/4 complete.\n"
          ],
          "name": "stdout"
        }
      ]
    },
    {
      "cell_type": "markdown",
      "metadata": {
        "id": "I1A1RLCpZ4-F"
      },
      "source": [
        "## Testing the model\n",
        "\n",
        "Now that our model is trained, let's test it on our held-out test dataset."
      ]
    },
    {
      "cell_type": "code",
      "metadata": {
        "id": "0GfUgbFD07d0",
        "outputId": "975ab2fe-8aeb-4172-c4bb-04a2993476f8",
        "colab": {
          "base_uri": "https://localhost:8080/",
          "height": 170
        }
      },
      "source": [
        "#@title **Evaluating model performance...**\n",
        "\n",
        "test_items = test_df[[training_target, 'label']].copy()\n",
        "test_items.columns = ['text', 'label']\n",
        "dl_test = learn_cls.dls.test_dl(test_items, with_labels=True)\n",
        "interp = ClassificationInterpretation.from_learner(learn_cls, dl=dl_test)\n",
        "interp.print_classification_report()"
      ],
      "execution_count": 16,
      "outputs": [
        {
          "output_type": "display_data",
          "data": {
            "text/html": [
              ""
            ],
            "text/plain": [
              "<IPython.core.display.HTML object>"
            ]
          },
          "metadata": {
            "tags": []
          }
        },
        {
          "output_type": "stream",
          "text": [
            "              precision    recall  f1-score   support\n",
            "\n",
            "    abnormal       0.95      0.97      0.96       385\n",
            "      normal       0.95      0.91      0.93       209\n",
            "\n",
            "    accuracy                           0.95       594\n",
            "   macro avg       0.95      0.94      0.95       594\n",
            "weighted avg       0.95      0.95      0.95       594\n",
            "\n"
          ],
          "name": "stdout"
        }
      ]
    },
    {
      "cell_type": "code",
      "metadata": {
        "id": "ahD2tbSPENCx",
        "outputId": "bc7fc3a4-3928-4180-b56f-19b50b07c57c",
        "colab": {
          "base_uri": "https://localhost:8080/",
          "height": 311
        }
      },
      "source": [
        "#@title **The confusion matrix**\n",
        "\n",
        "#@markdown The _confusion matrix_ is a graphical representation of how the model performed.\n",
        "#@markdown In our case, it is a 2x2 table comparing model predictions to the actual label for each class (i.e. \"normal\" and \"abnormal\").\n",
        "\n",
        "interp.plot_confusion_matrix()"
      ],
      "execution_count": 17,
      "outputs": [
        {
          "output_type": "display_data",
          "data": {
            "image/png": "[encoded data removed]",
            "text/plain": [
              "<Figure size 432x288 with 1 Axes>"
            ]
          },
          "metadata": {
            "tags": [],
            "needs_background": "light"
          }
        }
      ]
    },
    {
      "cell_type": "code",
      "metadata": {
        "id": "DobcZhKzZDKq",
        "outputId": "b4f29184-2577-4ca0-b156-06e6c78aae5b",
        "colab": {
          "base_uri": "https://localhost:8080/",
          "height": 564
        }
      },
      "source": [
        "#@title **Printing out the top \"losses\"**\n",
        "\n",
        "#@markdown The _loss function_ gives us a numerical value telling us how far off the model's prediction is from the actual class.\n",
        "#@markdown The higher the loss, the more confused our model is.\n",
        "\n",
        "#@markdown Analyzing the top losses can help you understand why your model fails when it fails.\n",
        "#@markdown Here, we plot the top 4 losses for our test dataset.\n",
        "\n",
        "interp.plot_top_losses(4)"
      ],
      "execution_count": 18,
      "outputs": [
        {
          "output_type": "display_data",
          "data": {
            "text/html": [
              "<table border=\"1\" class=\"dataframe\">\n",
              "  <thead>\n",
              "    <tr style=\"text-align: right;\">\n",
              "      <th></th>\n",
              "      <th>input</th>\n",
              "      <th>target</th>\n",
              "      <th>predicted</th>\n",
              "      <th>probability</th>\n",
              "      <th>loss</th>\n",
              "    </tr>\n",
              "  </thead>\n",
              "  <tbody>\n",
              "    <tr>\n",
              "      <th>0</th>\n",
              "      <td>xxbos xxmaj chest . xxmaj the trachea is midline . xxmaj negative for pneumothorax , pleural effusion or focal airspace consolidation . xxmaj the heart size is normal . xxmaj abdomen . xxmaj no pneumoperitoneum . xxmaj there is a normal bowel xxrep 4 x pattern . xxmaj air and stool visible throughout the xxunk large colon including the xxunk . xxmaj no xxunk dilated small bowel loops . xxmaj no evidence for xxunk or small bowel obstruction . xxmaj no pathologic calcifications xxrep 4 x over the abdomen or pelvis . xxrep 4 x xxrep 4 x are without fracture or destructive lesion , though there are mild degenerative changes throughout the lumbar spine . xxmaj small hiatal hernia is not as well demonstrated on this exam . xxmaj chest . 1 . xxmaj no acute cardiopulmonary abnormality . xxmaj abdomen . 1 . xxmaj no acute xxunk -</td>\n",
              "      <td>normal</td>\n",
              "      <td>abnormal</td>\n",
              "      <td>0.9965301156044006</td>\n",
              "      <td>5.663632392883301</td>\n",
              "    </tr>\n",
              "    <tr>\n",
              "      <th>1</th>\n",
              "      <td>xxpad xxpad xxpad xxpad xxpad xxpad xxpad xxpad xxpad xxpad xxpad xxpad xxpad xxpad xxpad xxpad xxpad xxpad xxpad xxpad xxpad xxpad xxpad xxpad xxpad xxpad xxpad xxpad xxpad xxpad xxpad xxpad xxpad xxpad xxpad xxpad xxpad xxpad xxpad xxpad xxpad xxpad xxpad xxpad xxpad xxpad xxpad xxpad xxpad xxpad xxpad xxpad xxpad xxpad xxpad xxpad xxpad xxpad xxpad xxpad xxpad xxpad xxpad xxpad xxpad xxpad xxpad xxpad xxpad xxpad xxpad xxpad xxpad xxpad xxpad xxpad xxpad xxpad xxpad xxpad xxpad xxpad xxpad xxpad xxpad xxpad xxpad xxpad xxpad xxpad xxpad xxpad xxpad xxpad xxpad xxpad xxpad xxpad xxpad xxpad xxpad xxpad xxpad xxpad xxpad xxpad xxpad xxpad xxpad xxpad xxpad xxpad xxpad xxpad xxpad xxpad xxpad xxpad xxpad xxpad xxpad xxpad xxpad xxpad xxpad xxpad xxpad xxpad xxpad xxpad xxpad xxpad xxpad xxpad xxpad xxpad xxpad xxpad xxpad xxpad xxpad xxpad xxpad xxpad xxbos xxmaj left knee . xxmaj</td>\n",
              "      <td>normal</td>\n",
              "      <td>abnormal</td>\n",
              "      <td>0.9651520252227783</td>\n",
              "      <td>3.3567588329315186</td>\n",
              "    </tr>\n",
              "    <tr>\n",
              "      <th>2</th>\n",
              "      <td>xxpad xxpad xxpad xxpad xxpad xxpad xxpad xxpad xxpad xxpad xxpad xxpad xxpad xxpad xxpad xxpad xxpad xxpad xxpad xxpad xxpad xxpad xxpad xxpad xxpad xxpad xxpad xxpad xxpad xxpad xxpad xxpad xxpad xxpad xxpad xxpad xxpad xxpad xxpad xxpad xxpad xxpad xxpad xxpad xxpad xxpad xxpad xxpad xxpad xxpad xxpad xxpad xxpad xxpad xxpad xxpad xxpad xxpad xxpad xxpad xxpad xxpad xxpad xxpad xxpad xxpad xxpad xxpad xxpad xxpad xxpad xxpad xxpad xxpad xxpad xxpad xxpad xxpad xxpad xxpad xxpad xxpad xxpad xxpad xxpad xxpad xxpad xxpad xxpad xxpad xxpad xxpad xxpad xxpad xxpad xxpad xxpad xxpad xxpad xxpad xxpad xxpad xxpad xxpad xxpad xxpad xxpad xxpad xxpad xxpad xxpad xxpad xxpad xxpad xxpad xxpad xxpad xxpad xxpad xxpad xxpad xxpad xxpad xxpad xxpad xxpad xxpad xxpad xxpad xxpad xxpad xxpad xxpad xxpad xxpad xxpad xxpad xxpad xxpad xxpad xxpad xxpad xxpad xxpad xxbos xxmaj heart size within normal</td>\n",
              "      <td>abnormal</td>\n",
              "      <td>normal</td>\n",
              "      <td>0.9535785913467407</td>\n",
              "      <td>3.0699944496154785</td>\n",
              "    </tr>\n",
              "    <tr>\n",
              "      <th>3</th>\n",
              "      <td>xxpad xxpad xxpad xxpad xxpad xxpad xxpad xxpad xxpad xxpad xxpad xxpad xxpad xxpad xxpad xxpad xxpad xxpad xxpad xxpad xxpad xxpad xxpad xxpad xxpad xxpad xxpad xxpad xxpad xxpad xxpad xxpad xxpad xxpad xxpad xxpad xxpad xxpad xxpad xxpad xxpad xxpad xxpad xxpad xxpad xxpad xxpad xxpad xxpad xxpad xxpad xxpad xxpad xxpad xxpad xxpad xxpad xxpad xxpad xxpad xxpad xxpad xxpad xxpad xxpad xxpad xxpad xxpad xxpad xxpad xxpad xxpad xxbos xxmaj the xxrep 4 x examination consists of frontal and lateral radiographs of the chest . xxmaj the cardiomediastinal contours are within normal limits . xxmaj pulmonary vascularity is within normal limits . xxmaj no focal consolidation , pleural effusion , or pneumothorax identified . xxmaj deformity of the right clavicle related to remote xxrep 4 x is again seen . xxmaj visualized upper abdomen grossly unremarkable . xxmaj no evidence of acute cardiopulmonary process . xxpad</td>\n",
              "      <td>normal</td>\n",
              "      <td>abnormal</td>\n",
              "      <td>0.9520864486694336</td>\n",
              "      <td>3.0383572578430176</td>\n",
              "    </tr>\n",
              "  </tbody>\n",
              "</table>"
            ],
            "text/plain": [
              "<IPython.core.display.HTML object>"
            ]
          },
          "metadata": {
            "tags": []
          }
        }
      ]
    },
    {
      "cell_type": "markdown",
      "metadata": {
        "id": "5n9v8V--I89P"
      },
      "source": [
        "# Language Model Text Generation\n",
        "\n",
        "Just for fun, let's see how well our language model does at generating text."
      ]
    },
    {
      "cell_type": "code",
      "metadata": {
        "id": "_W9x5gRKISQ0",
        "cellView": "both",
        "outputId": "f80a11e6-4096-486e-fb86-34db87a8e46f",
        "colab": {
          "base_uri": "https://localhost:8080/",
          "height": 85
        }
      },
      "source": [
        "#@title **Text Generator**\n",
        "\n",
        "#@markdown Enter ~3-5 words to give our language model something to work with, then select other options and run the cell.\n",
        "\n",
        "text = 'Normal heart size' #@param {type: \"string\"}\n",
        "words_per_sentence = 18 #@param {type: \"integer\"}\n",
        "num_sentences = 2 #@param {type: \"integer\"}\n",
        "\n",
        "if not learn_lm: learn_lm = load_learner('fine-tuned')\n",
        "print('Generating predictions...')\n",
        "preds = [learn_lm.predict(text, words_per_sentence, temperature=0.75) for _ in range(num_sentences)]\n",
        "print()\n",
        "for i, pred in enumerate(preds): print(f'Sentence {i + 1}: {pred}')"
      ],
      "execution_count": 21,
      "outputs": [
        {
          "output_type": "stream",
          "text": [
            "Generating predictions...\n"
          ],
          "name": "stdout"
        },
        {
          "output_type": "display_data",
          "data": {
            "text/html": [
              ""
            ],
            "text/plain": [
              "<IPython.core.display.HTML object>"
            ]
          },
          "metadata": {
            "tags": []
          }
        },
        {
          "output_type": "display_data",
          "data": {
            "text/html": [
              ""
            ],
            "text/plain": [
              "<IPython.core.display.HTML object>"
            ]
          },
          "metadata": {
            "tags": []
          }
        },
        {
          "output_type": "stream",
          "text": [
            "\n",
            "Sentence 1: Normal heart size and mediastinal contours . No focal airspace consolidation . No pleural effusion or pneumothorax .\n",
            "Sentence 2: Normal heart size and mediastinal contours . Lungs are clear without focal consolidation , pneumothorax , or pleural effusion .\n"
          ],
          "name": "stdout"
        }
      ]
    },
    {
      "cell_type": "markdown",
      "metadata": {
        "id": "9mzzwIBTQRSh"
      },
      "source": [
        "Looks like our generated text is pretty realistic, so there's hope that our language model embeddings will help us to train an accurate report classifier."
      ]
    },
    {
      "cell_type": "code",
      "metadata": {
        "id": "gpPthCoZ0Q3P"
      },
      "source": [
        ""
      ],
      "execution_count": null,
      "outputs": []
    }
  ]
}