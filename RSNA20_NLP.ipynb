{
  "nbformat": 4,
  "nbformat_minor": 0,
  "metadata": {
    "colab": {
      "name": "RSNA20_NLP.ipynb",
      "provenance": [],
      "collapsed_sections": [],
      "authorship_tag": "ABX9TyOoC4NbKRMlCBTb8wO6Ep3t",
      "include_colab_link": true
    },
    "kernelspec": {
      "name": "python3",
      "display_name": "Python 3"
    }
  },
  "cells": [
    {
      "cell_type": "markdown",
      "metadata": {
        "id": "view-in-github",
        "colab_type": "text"
      },
      "source": [
        "<a href=\"https://colab.research.google.com/github/wfwiggins/RSNA-NLP-2020/blob/master/RSNA20_NLP.ipynb\" target=\"_parent\"><img src=\"https://colab.research.google.com/assets/colab-badge.svg\" alt=\"Open In Colab\"/></a>"
      ]
    },
    {
      "cell_type": "markdown",
      "metadata": {
        "id": "kIjz0KY4kSQV",
        "colab_type": "text"
      },
      "source": [
        "# **RSNA 2020**\n",
        "## **Hands-on AI for Non-Coders:** Basics of Information Extraction from Radiology Reports\n"
      ]
    },
    {
      "cell_type": "code",
      "metadata": {
        "id": "MIA9a7rckKil",
        "colab_type": "code",
        "cellView": "both",
        "colab": {}
      },
      "source": [
        "#@title **System Setup:** After installation of the necessary libraries, the system will restart. This _WILL_ generate an error message, which is expected 😉\n",
        "\n",
        "# Installing dependencies\n",
        "import os\n",
        "from IPython.display import clear_output\n",
        "\n",
        "!pip install fastai --upgrade >/dev/null\n",
        "!pip install xmltodict >/dev/null\n",
        "\n",
        "clear_output()\n",
        "os.kill(os.getpid(), 9)"
      ],
      "execution_count": null,
      "outputs": []
    },
    {
      "cell_type": "code",
      "metadata": {
        "id": "klDik57Vm9Cg",
        "colab_type": "code",
        "colab": {
          "base_uri": "https://localhost:8080/",
          "height": 68
        },
        "outputId": "77f877b7-e940-438a-9f4a-1b6b3eee7aaa"
      },
      "source": [
        "#@title **Downloading the Data:** This step will download a subset of the [NLM Open-i \"Indiana University Chest X-ray Reports\" dataset](https://openi.nlm.nih.gov/faq#collection).\n",
        "\n",
        "!curl https://openi.nlm.nih.gov/imgs/collections/NLMCXR_reports.tgz | tar xvz >/dev/null\n"
      ],
      "execution_count": null,
      "outputs": [
        {
          "output_type": "stream",
          "text": [
            "  % Total    % Received % Xferd  Average Speed   Time    Time     Time  Current\n",
            "                                 Dload  Upload   Total   Spent    Left  Speed\n",
            "100 1086k  100 1086k    0     0  2786k      0 --:--:-- --:--:-- --:--:-- 2786k\n"
          ],
          "name": "stdout"
        }
      ]
    },
    {
      "cell_type": "code",
      "metadata": {
        "id": "Gemrv76EoQVX",
        "colab_type": "code",
        "colab": {
          "base_uri": "https://localhost:8080/",
          "height": 555
        },
        "outputId": "effc41dc-0207-4ae2-d131-1da8ca7d2ddd"
      },
      "source": [
        "#@title **Preprocessing steps:** The reports come in XML format. In this cell, we parse the XML data and extract the \"Findings\" and \"Impression\" from each report, then extract labels of \"normal\" or \"abnormal\" from the metadata included in the XML file.\n",
        "\n",
        "import glob\n",
        "import xmltodict\n",
        "from fastai.basics import *\n",
        "\n",
        "def xml_parse(f):\n",
        "    with open(f) as xml:\n",
        "        report_dict = xmltodict.parse(xml.read())\n",
        "    xml.close()\n",
        "    return report_dict\n",
        "\n",
        "def get_label(report):\n",
        "    label = L(report['eCitation']['MeSH']['major'])\n",
        "    return 'normal' if label[0].lower() == 'normal' else 'abnormal'\n",
        "\n",
        "def get_text(report):\n",
        "    text_dict = {}\n",
        "    text = report['eCitation']['MedlineCitation']['Article']['Abstract']['AbstractText']\n",
        "    findings = text[2]\n",
        "    text_dict['findings'] = findings['#text'] if '#text' in findings else ''\n",
        "    impression = text[3]\n",
        "    text_dict['impression'] = impression['#text'] if '#text' in impression else ''\n",
        "    return text_dict\n",
        "\n",
        "def process_report(report):\n",
        "    label = get_label(report)\n",
        "    report_dict = get_text(report)\n",
        "    report_dict['label'] = label\n",
        "    return report_dict\n",
        "\n",
        "fps = L(glob.glob('/content/ecgen-radiology/*'))\n",
        "reports = fps.map(xml_parse)\n",
        "reports_df = pd.DataFrame(reports.map(process_report))\n",
        "reports_df"
      ],
      "execution_count": null,
      "outputs": [
        {
          "output_type": "execute_result",
          "data": {
            "text/html": [
              "<div>\n",
              "<style scoped>\n",
              "    .dataframe tbody tr th:only-of-type {\n",
              "        vertical-align: middle;\n",
              "    }\n",
              "\n",
              "    .dataframe tbody tr th {\n",
              "        vertical-align: top;\n",
              "    }\n",
              "\n",
              "    .dataframe thead th {\n",
              "        text-align: right;\n",
              "    }\n",
              "</style>\n",
              "<table border=\"1\" class=\"dataframe\">\n",
              "  <thead>\n",
              "    <tr style=\"text-align: right;\">\n",
              "      <th></th>\n",
              "      <th>findings</th>\n",
              "      <th>impression</th>\n",
              "      <th>label</th>\n",
              "    </tr>\n",
              "  </thead>\n",
              "  <tbody>\n",
              "    <tr>\n",
              "      <th>0</th>\n",
              "      <td></td>\n",
              "      <td>No comparison chest x-XXXX. Well-expanded and clear lungs. Mediastinal contour within normal limits. No acute cardiopulmonary abnormality identified.</td>\n",
              "      <td>normal</td>\n",
              "    </tr>\n",
              "    <tr>\n",
              "      <th>1</th>\n",
              "      <td>The heart is normal size. The mediastinum is unremarkable. There is no pleural effusion, pneumothorax, or focal airspace disease. The XXXX are unremarkable.</td>\n",
              "      <td>No acute cardiopulmonary abnormality.</td>\n",
              "      <td>normal</td>\n",
              "    </tr>\n",
              "    <tr>\n",
              "      <th>2</th>\n",
              "      <td>No pneumothorax, pleural effusion or airspace consolidation. Stable right lower lung granuloma. Interval to right clavicle XXXX procedure. Heart size and pulmonary vasculature appear within normal limits. XXXX XXXX are intact.</td>\n",
              "      <td>No acute cardiopulmonary abnormality. .</td>\n",
              "      <td>abnormal</td>\n",
              "    </tr>\n",
              "    <tr>\n",
              "      <th>3</th>\n",
              "      <td>The lungs and pleural spaces show no acute abnormality. Heart size and pulmonary vascularity within normal limits. .</td>\n",
              "      <td>1. No acute pulmonary abnormality.</td>\n",
              "      <td>normal</td>\n",
              "    </tr>\n",
              "    <tr>\n",
              "      <th>4</th>\n",
              "      <td>The heart is normal in size and contour. There is no mediastinal widening. The lungs are clear bilaterally. No large pleural effusion or pneumothorax. Mild dextro curvature of the thoracic spine, possibly positional.</td>\n",
              "      <td>No acute cardiopulmonary abnormalities.</td>\n",
              "      <td>abnormal</td>\n",
              "    </tr>\n",
              "    <tr>\n",
              "      <th>...</th>\n",
              "      <td>...</td>\n",
              "      <td>...</td>\n",
              "      <td>...</td>\n",
              "    </tr>\n",
              "    <tr>\n",
              "      <th>3950</th>\n",
              "      <td>Stable cardiomegaly. The lungs are clear. Stable left lung base calcifications. No focal consolidations. No pneumothorax or pleural effusions. The XXXX are intact.</td>\n",
              "      <td>No acute cardiopulmonary abnormalities. Stable cardiomegaly.</td>\n",
              "      <td>abnormal</td>\n",
              "    </tr>\n",
              "    <tr>\n",
              "      <th>3951</th>\n",
              "      <td>No focal consolidation. No visualized pneumothorax. No large pleural effusions. The heart size and cardiomediastinal silhouette is grossly unremarkable. There is motion artifact on the lateral radiograph.</td>\n",
              "      <td>1. No acute cardiopulmonary findings.</td>\n",
              "      <td>abnormal</td>\n",
              "    </tr>\n",
              "    <tr>\n",
              "      <th>3952</th>\n",
              "      <td>Cardiac and mediastinal contours are within normal limits. The lungs are clear. Bony structures are intact.</td>\n",
              "      <td>Negative chest x-XXXX.</td>\n",
              "      <td>normal</td>\n",
              "    </tr>\n",
              "    <tr>\n",
              "      <th>3953</th>\n",
              "      <td>Cardiac silhouette within normal limits. Central pulmonary vasculature is not engorged. No pneumothorax or pleural effusion. Visualized osseous structures are unremarkable. No edema or focal consolidation in the lungs.</td>\n",
              "      <td>No evidence of acute cardiopulmonary process.</td>\n",
              "      <td>normal</td>\n",
              "    </tr>\n",
              "    <tr>\n",
              "      <th>3954</th>\n",
              "      <td>Stable left lower lung increased interstitial markings. No XXXX focal alveolar opacities. Low lung volumes. Heart size is normal. No pneumothorax or pleural effusions.</td>\n",
              "      <td>Stable left lower lung interstitial infiltrates or fibrosis. No acute cardiopulmonary findings.</td>\n",
              "      <td>abnormal</td>\n",
              "    </tr>\n",
              "  </tbody>\n",
              "</table>\n",
              "<p>3955 rows × 3 columns</p>\n",
              "</div>"
            ],
            "text/plain": [
              "                                                                                                                                                                                                                                findings  ...     label\n",
              "0                                                                                                                                                                                                                                         ...    normal\n",
              "1                                                                           The heart is normal size. The mediastinum is unremarkable. There is no pleural effusion, pneumothorax, or focal airspace disease. The XXXX are unremarkable.  ...    normal\n",
              "2     No pneumothorax, pleural effusion or airspace consolidation. Stable right lower lung granuloma. Interval to right clavicle XXXX procedure. Heart size and pulmonary vasculature appear within normal limits. XXXX XXXX are intact.  ...  abnormal\n",
              "3                                                                                                                   The lungs and pleural spaces show no acute abnormality. Heart size and pulmonary vascularity within normal limits. .  ...    normal\n",
              "4               The heart is normal in size and contour. There is no mediastinal widening. The lungs are clear bilaterally. No large pleural effusion or pneumothorax. Mild dextro curvature of the thoracic spine, possibly positional.  ...  abnormal\n",
              "...                                                                                                                                                                                                                                  ...  ...       ...\n",
              "3950                                                                 Stable cardiomegaly. The lungs are clear. Stable left lung base calcifications. No focal consolidations. No pneumothorax or pleural effusions. The XXXX are intact.  ...  abnormal\n",
              "3951                        No focal consolidation. No visualized pneumothorax. No large pleural effusions. The heart size and cardiomediastinal silhouette is grossly unremarkable. There is motion artifact on the lateral radiograph.  ...  abnormal\n",
              "3952                                                                                                                         Cardiac and mediastinal contours are within normal limits. The lungs are clear. Bony structures are intact.  ...    normal\n",
              "3953          Cardiac silhouette within normal limits. Central pulmonary vasculature is not engorged. No pneumothorax or pleural effusion. Visualized osseous structures are unremarkable. No edema or focal consolidation in the lungs.  ...    normal\n",
              "3954                                                             Stable left lower lung increased interstitial markings. No XXXX focal alveolar opacities. Low lung volumes. Heart size is normal. No pneumothorax or pleural effusions.  ...  abnormal\n",
              "\n",
              "[3955 rows x 3 columns]"
            ]
          },
          "metadata": {
            "tags": []
          },
          "execution_count": 1
        }
      ]
    },
    {
      "cell_type": "markdown",
      "metadata": {
        "id": "4sANCvWZy2_5",
        "colab_type": "text"
      },
      "source": [
        "# Exploring the data\n",
        "\n",
        "As you'll see in the table above, there are some reports where the \"Impression\" states something along the lines of \"No acute cardiopulmonary abnormality\" but the label is \"abnormal\". This is usually due to a chronic incidental finding or artifact that is mentioned in the \"Findings\", but isn't included in the \"Impression\".\n",
        "\n",
        "This point is important to remember when we think about which text we want to use to train our classifier."
      ]
    },
    {
      "cell_type": "code",
      "metadata": {
        "id": "nqY-EC3opnBW",
        "colab_type": "code",
        "colab": {
          "base_uri": "https://localhost:8080/",
          "height": 354
        },
        "outputId": "f0516fde-0ee9-4786-8c7c-c7f6a0392bd6"
      },
      "source": [
        "#@title Let's take a look at the relative balance between normal and abnormal reports in our dataset.\n",
        "label_counts = reports_df.label.value_counts()\n",
        "print('# of Abnormal:', label_counts['abnormal'])\n",
        "print('# of Normal:', label_counts['normal'])\n",
        "print()\n",
        "label_counts.plot.bar(x='Label', y='# of Reports');"
      ],
      "execution_count": null,
      "outputs": [
        {
          "output_type": "stream",
          "text": [
            "# of Abnormal: 2564\n",
            "# of Normal: 1391\n",
            "\n"
          ],
          "name": "stdout"
        },
        {
          "output_type": "display_data",
          "data": {
            "image/png": "[encoded data removed]",
            "text/plain": [
              "<Figure size 432x288 with 1 Axes>"
            ]
          },
          "metadata": {
            "tags": [],
            "needs_background": "light"
          }
        }
      ]
    },
    {
      "cell_type": "code",
      "metadata": {
        "id": "NCMPqjqvs1Mc",
        "colab_type": "code",
        "colab": {}
      },
      "source": [
        ""
      ],
      "execution_count": null,
      "outputs": []
    }
  ]
}