{
  "nbformat": 4,
  "nbformat_minor": 0,
  "metadata": {
    "colab": {
      "name": "RSNA20_NLP.ipynb",
      "provenance": [],
      "collapsed_sections": [],
      "authorship_tag": "ABX9TyPwBa6mpCUDpj1h1HrqtifI",
      "include_colab_link": true
    },
    "kernelspec": {
      "name": "python3",
      "display_name": "Python 3"
    }
  },
  "cells": [
    {
      "cell_type": "markdown",
      "metadata": {
        "id": "view-in-github",
        "colab_type": "text"
      },
      "source": [
        "<a href=\"https://colab.research.google.com/github/wfwiggins/RSNA-NLP-2020/blob/master/RSNA20_NLP.ipynb\" target=\"_parent\"><img src=\"https://colab.research.google.com/assets/colab-badge.svg\" alt=\"Open In Colab\"/></a>"
      ]
    },
    {
      "cell_type": "markdown",
      "metadata": {
        "id": "kIjz0KY4kSQV",
        "colab_type": "text"
      },
      "source": [
        "# **RSNA 2020**\n",
        "\n",
        "## **Hands-on AI for Non-Coders:** Basics of Information Extraction from Radiology Reports\n",
        "\n",
        "In this demonstration, we will utilize techniques of _natural language processing_ (NLP) to train a classifier, which will analyze the text of radiology reports for chest radiographs to predict whether a report is **normal** or **abnormal**."
      ]
    },
    {
      "cell_type": "markdown",
      "metadata": {
        "id": "CIrzuLMzr3Ey",
        "colab_type": "text"
      },
      "source": [
        "# System Setup & Downloading the Data\n",
        "\n",
        "- The first step will install the necessary libraries, then the system will restart. This _WILL_ generate an error message, which can safely be ignored 😉.\n",
        "- In the second step, we will download the [NLM Open-i \"Indiana University Chest X-ray Reports\" dataset](https://openi.nlm.nih.gov/faq#collection)."
      ]
    },
    {
      "cell_type": "code",
      "metadata": {
        "id": "MIA9a7rckKil",
        "colab_type": "code",
        "cellView": "both",
        "colab": {}
      },
      "source": [
        "#@title **Installing libraries & restarting...**\n",
        "\n",
        "# Installing dependencies\n",
        "import os\n",
        "from IPython.display import clear_output\n",
        "\n",
        "!pip install fastai --upgrade >/dev/null\n",
        "!pip install xmltodict >/dev/null\n",
        "\n",
        "clear_output()\n",
        "os.kill(os.getpid(), 9)"
      ],
      "execution_count": null,
      "outputs": []
    },
    {
      "cell_type": "code",
      "metadata": {
        "id": "klDik57Vm9Cg",
        "colab_type": "code",
        "colab": {
          "base_uri": "https://localhost:8080/",
          "height": 70
        },
        "cellView": "both",
        "outputId": "dfcd6521-3ef8-4fae-c3fb-045919b5feb5"
      },
      "source": [
        "#@title **Downloading the data...**\n",
        "\n",
        "!curl https://openi.nlm.nih.gov/imgs/collections/NLMCXR_reports.tgz | tar xvz >/dev/null\n"
      ],
      "execution_count": 1,
      "outputs": [
        {
          "output_type": "stream",
          "text": [
            "  % Total    % Received % Xferd  Average Speed   Time    Time     Time  Current\n",
            "                                 Dload  Upload   Total   Spent    Left  Speed\n",
            "100 1086k  100 1086k    0     0   181k      0  0:00:05  0:00:05 --:--:--  243k\n"
          ],
          "name": "stdout"
        }
      ]
    },
    {
      "cell_type": "markdown",
      "metadata": {
        "id": "SMmKrqN5tM83",
        "colab_type": "text"
      },
      "source": [
        "# Reformatting the Data\n",
        "\n",
        "Each of the reports is stored in _extensible markup language_ (XML) format. In order to work with the report text data more easily, we will extract the data and put it into a `pandas.DataFrame`, which is a tabular data structure.\n",
        "\n",
        "The XML metadata contains MeSH terms for each report. We will use these to create the _label_ for each report in our dataset. These labels will serve as the targets for training our classifier to predict whether the report is **normal** or **abnormal**."
      ]
    },
    {
      "cell_type": "code",
      "metadata": {
        "id": "Gemrv76EoQVX",
        "colab_type": "code",
        "colab": {
          "base_uri": "https://localhost:8080/",
          "height": 778
        },
        "cellView": "both",
        "outputId": "c2a543c8-5255-4794-8611-39cb0c95b52b"
      },
      "source": [
        "#@title **Extracting the data...**\n",
        "\n",
        "import glob\n",
        "import xmltodict\n",
        "from fastai.basics import *\n",
        "\n",
        "def xml_parse(f):\n",
        "    with open(f) as xml:\n",
        "        report_dict = xmltodict.parse(xml.read())\n",
        "    xml.close()\n",
        "    return report_dict\n",
        "\n",
        "def get_label(report):\n",
        "    label = L(report['eCitation']['MeSH']['major'])\n",
        "    return 'normal' if label[0].lower() == 'normal' else 'abnormal'\n",
        "\n",
        "def get_text(report):\n",
        "    text_dict = {}\n",
        "    text = report['eCitation']['MedlineCitation']['Article']['Abstract']['AbstractText']\n",
        "    findings = text[2]\n",
        "    text_dict['findings'] = findings['#text'] if '#text' in findings else ''\n",
        "    impression = text[3]\n",
        "    text_dict['impression'] = impression['#text'] if '#text' in impression else ''\n",
        "    return text_dict\n",
        "\n",
        "def process_report(report):\n",
        "    label = get_label(report)\n",
        "    report_dict = get_text(report)\n",
        "    report_dict['label'] = label\n",
        "    return report_dict\n",
        "\n",
        "fps = L(glob.glob('/content/ecgen-radiology/*'))\n",
        "reports = fps.map(xml_parse)\n",
        "reports_df = pd.DataFrame(reports.map(process_report))\n",
        "reports_df"
      ],
      "execution_count": 2,
      "outputs": [
        {
          "output_type": "execute_result",
          "data": {
            "text/html": [
              "<div>\n",
              "<style scoped>\n",
              "    .dataframe tbody tr th:only-of-type {\n",
              "        vertical-align: middle;\n",
              "    }\n",
              "\n",
              "    .dataframe tbody tr th {\n",
              "        vertical-align: top;\n",
              "    }\n",
              "\n",
              "    .dataframe thead th {\n",
              "        text-align: right;\n",
              "    }\n",
              "</style>\n",
              "<table border=\"1\" class=\"dataframe\">\n",
              "  <thead>\n",
              "    <tr style=\"text-align: right;\">\n",
              "      <th></th>\n",
              "      <th>findings</th>\n",
              "      <th>impression</th>\n",
              "      <th>label</th>\n",
              "    </tr>\n",
              "  </thead>\n",
              "  <tbody>\n",
              "    <tr>\n",
              "      <th>0</th>\n",
              "      <td></td>\n",
              "      <td>No comparison chest x-XXXX. Well-expanded and clear lungs. Mediastinal contour within normal limits. No acute cardiopulmonary abnormality identified.</td>\n",
              "      <td>normal</td>\n",
              "    </tr>\n",
              "    <tr>\n",
              "      <th>1</th>\n",
              "      <td>The heart is normal size. The mediastinum is unremarkable. There is no pleural effusion, pneumothorax, or focal airspace disease. The XXXX are unremarkable.</td>\n",
              "      <td>No acute cardiopulmonary abnormality.</td>\n",
              "      <td>normal</td>\n",
              "    </tr>\n",
              "    <tr>\n",
              "      <th>2</th>\n",
              "      <td>No pneumothorax, pleural effusion or airspace consolidation. Stable right lower lung granuloma. Interval to right clavicle XXXX procedure. Heart size and pulmonary vasculature appear within normal limits. XXXX XXXX are intact.</td>\n",
              "      <td>No acute cardiopulmonary abnormality. .</td>\n",
              "      <td>abnormal</td>\n",
              "    </tr>\n",
              "    <tr>\n",
              "      <th>3</th>\n",
              "      <td>The lungs and pleural spaces show no acute abnormality. Heart size and pulmonary vascularity within normal limits. .</td>\n",
              "      <td>1. No acute pulmonary abnormality.</td>\n",
              "      <td>normal</td>\n",
              "    </tr>\n",
              "    <tr>\n",
              "      <th>4</th>\n",
              "      <td>The heart is normal in size and contour. There is no mediastinal widening. The lungs are clear bilaterally. No large pleural effusion or pneumothorax. Mild dextro curvature of the thoracic spine, possibly positional.</td>\n",
              "      <td>No acute cardiopulmonary abnormalities.</td>\n",
              "      <td>abnormal</td>\n",
              "    </tr>\n",
              "    <tr>\n",
              "      <th>...</th>\n",
              "      <td>...</td>\n",
              "      <td>...</td>\n",
              "      <td>...</td>\n",
              "    </tr>\n",
              "    <tr>\n",
              "      <th>3950</th>\n",
              "      <td>Stable cardiomegaly. The lungs are clear. Stable left lung base calcifications. No focal consolidations. No pneumothorax or pleural effusions. The XXXX are intact.</td>\n",
              "      <td>No acute cardiopulmonary abnormalities. Stable cardiomegaly.</td>\n",
              "      <td>abnormal</td>\n",
              "    </tr>\n",
              "    <tr>\n",
              "      <th>3951</th>\n",
              "      <td>No focal consolidation. No visualized pneumothorax. No large pleural effusions. The heart size and cardiomediastinal silhouette is grossly unremarkable. There is motion artifact on the lateral radiograph.</td>\n",
              "      <td>1. No acute cardiopulmonary findings.</td>\n",
              "      <td>abnormal</td>\n",
              "    </tr>\n",
              "    <tr>\n",
              "      <th>3952</th>\n",
              "      <td>Cardiac and mediastinal contours are within normal limits. The lungs are clear. Bony structures are intact.</td>\n",
              "      <td>Negative chest x-XXXX.</td>\n",
              "      <td>normal</td>\n",
              "    </tr>\n",
              "    <tr>\n",
              "      <th>3953</th>\n",
              "      <td>Cardiac silhouette within normal limits. Central pulmonary vasculature is not engorged. No pneumothorax or pleural effusion. Visualized osseous structures are unremarkable. No edema or focal consolidation in the lungs.</td>\n",
              "      <td>No evidence of acute cardiopulmonary process.</td>\n",
              "      <td>normal</td>\n",
              "    </tr>\n",
              "    <tr>\n",
              "      <th>3954</th>\n",
              "      <td>Stable left lower lung increased interstitial markings. No XXXX focal alveolar opacities. Low lung volumes. Heart size is normal. No pneumothorax or pleural effusions.</td>\n",
              "      <td>Stable left lower lung interstitial infiltrates or fibrosis. No acute cardiopulmonary findings.</td>\n",
              "      <td>abnormal</td>\n",
              "    </tr>\n",
              "  </tbody>\n",
              "</table>\n",
              "<p>3955 rows × 3 columns</p>\n",
              "</div>"
            ],
            "text/plain": [
              "                                                                                                                                                                                                                                findings  ...     label\n",
              "0                                                                                                                                                                                                                                         ...    normal\n",
              "1                                                                           The heart is normal size. The mediastinum is unremarkable. There is no pleural effusion, pneumothorax, or focal airspace disease. The XXXX are unremarkable.  ...    normal\n",
              "2     No pneumothorax, pleural effusion or airspace consolidation. Stable right lower lung granuloma. Interval to right clavicle XXXX procedure. Heart size and pulmonary vasculature appear within normal limits. XXXX XXXX are intact.  ...  abnormal\n",
              "3                                                                                                                   The lungs and pleural spaces show no acute abnormality. Heart size and pulmonary vascularity within normal limits. .  ...    normal\n",
              "4               The heart is normal in size and contour. There is no mediastinal widening. The lungs are clear bilaterally. No large pleural effusion or pneumothorax. Mild dextro curvature of the thoracic spine, possibly positional.  ...  abnormal\n",
              "...                                                                                                                                                                                                                                  ...  ...       ...\n",
              "3950                                                                 Stable cardiomegaly. The lungs are clear. Stable left lung base calcifications. No focal consolidations. No pneumothorax or pleural effusions. The XXXX are intact.  ...  abnormal\n",
              "3951                        No focal consolidation. No visualized pneumothorax. No large pleural effusions. The heart size and cardiomediastinal silhouette is grossly unremarkable. There is motion artifact on the lateral radiograph.  ...  abnormal\n",
              "3952                                                                                                                         Cardiac and mediastinal contours are within normal limits. The lungs are clear. Bony structures are intact.  ...    normal\n",
              "3953          Cardiac silhouette within normal limits. Central pulmonary vasculature is not engorged. No pneumothorax or pleural effusion. Visualized osseous structures are unremarkable. No edema or focal consolidation in the lungs.  ...    normal\n",
              "3954                                                             Stable left lower lung increased interstitial markings. No XXXX focal alveolar opacities. Low lung volumes. Heart size is normal. No pneumothorax or pleural effusions.  ...  abnormal\n",
              "\n",
              "[3955 rows x 3 columns]"
            ]
          },
          "metadata": {
            "tags": []
          },
          "execution_count": 2
        }
      ]
    },
    {
      "cell_type": "markdown",
      "metadata": {
        "id": "4sANCvWZy2_5",
        "colab_type": "text"
      },
      "source": [
        "# Exploring the data\n",
        "\n",
        "As you'll see in the table above, there are some reports where the \"Impression\" states something along the lines of \"No acute cardiopulmonary abnormality\" but the label is \"abnormal\". This is usually due to a chronic incidental finding or artifact that is mentioned in the \"Findings\", but isn't included in the \"Impression\".\n",
        "\n",
        "> We'll revisit this point later when we're deciding which text from the report we want to use to train our classifier.\n",
        "\n",
        "For now, let's look through a little more of the data and see how many normals and abnormals we have to work with."
      ]
    },
    {
      "cell_type": "code",
      "metadata": {
        "id": "HJQupI3dyCTB",
        "colab_type": "code",
        "colab": {
          "base_uri": "https://localhost:8080/",
          "height": 564
        },
        "outputId": "bd523150-20a7-43f4-9ee7-5f023a58dade"
      },
      "source": [
        "#@title **Run this cell several times to view random samples of the data**\n",
        "\n",
        "reports_df.sample(5)"
      ],
      "execution_count": 6,
      "outputs": [
        {
          "output_type": "execute_result",
          "data": {
            "text/html": [
              "<div>\n",
              "<style scoped>\n",
              "    .dataframe tbody tr th:only-of-type {\n",
              "        vertical-align: middle;\n",
              "    }\n",
              "\n",
              "    .dataframe tbody tr th {\n",
              "        vertical-align: top;\n",
              "    }\n",
              "\n",
              "    .dataframe thead th {\n",
              "        text-align: right;\n",
              "    }\n",
              "</style>\n",
              "<table border=\"1\" class=\"dataframe\">\n",
              "  <thead>\n",
              "    <tr style=\"text-align: right;\">\n",
              "      <th></th>\n",
              "      <th>findings</th>\n",
              "      <th>impression</th>\n",
              "      <th>label</th>\n",
              "    </tr>\n",
              "  </thead>\n",
              "  <tbody>\n",
              "    <tr>\n",
              "      <th>1510</th>\n",
              "      <td></td>\n",
              "      <td>Heart size mildly enlarged for technique, mediastinal contours appear similar to prior, right chest XXXX tip in the high SVC. No focal alveolar consolidation, no definite pleural effusion seen. Bronchovascular crowding without typical findings of pulmonary edema.</td>\n",
              "      <td>abnormal</td>\n",
              "    </tr>\n",
              "    <tr>\n",
              "      <th>1932</th>\n",
              "      <td>Low lung volumes with bibasilar subsegmental atelectasis. No focal consolidations, pleural effusions, or pneumothoraces. Cardiomediastinal silhouette is within normal limits. Degenerative changes of the thoracic spine.</td>\n",
              "      <td>No acute cardiopulmonary abnormality.</td>\n",
              "      <td>abnormal</td>\n",
              "    </tr>\n",
              "    <tr>\n",
              "      <th>2446</th>\n",
              "      <td>The XXXX examination consists of frontal and lateral radiographs of the chest. The cardiac silhouette is moderately enlarged with a cardiothoracic ratio of 16.2/24.7. Diffuse coarse interstitial opacity seen throughout the lungs with perihilar and lower lobe predominance. There is right greater than left bibasilar consolidation. There are small pleural effusions, right larger than left. No evidence of pneumothorax. Dense atherosclerotic calcification seen involving the thoracic and upper abdominal aorta.</td>\n",
              "      <td>Enlarged cardiac silhouette with coarse perihilar and lower lobe interstitial opacities may be due to diffuse infection or heart failure. Small pleural effusions.</td>\n",
              "      <td>abnormal</td>\n",
              "    </tr>\n",
              "    <tr>\n",
              "      <th>883</th>\n",
              "      <td>Chest. Right hemidiaphragm remains elevated. Consolidation and atelectasis are present in the right lung base. Left lung is clear. No pleural air collections. Shoulder and clavicle. Fractures present in the right scapula the base of the glenoid process. It is attached to the coracoid process and a portion of the spine. The humeral head is located within the glenoid articular surface. Cutaneous air is present. Fracture is present in the posterior portion of the right 3rd rib. The acromioclavicular joint and coracoclavicular joints are widened.</td>\n",
              "      <td>1. Chest. Continued right hemidiaphragm elevation with right lower lobe airspace disease. 2. Right shoulder. Scapular fracture. 3. Clavicle. Acromioclavicular separation.</td>\n",
              "      <td>abnormal</td>\n",
              "    </tr>\n",
              "    <tr>\n",
              "      <th>663</th>\n",
              "      <td>The heart and lungs have XXXX XXXX in the interval. Both lungs are clear and expanded. Heart and mediastinum normal.</td>\n",
              "      <td>No active disease.</td>\n",
              "      <td>abnormal</td>\n",
              "    </tr>\n",
              "  </tbody>\n",
              "</table>\n",
              "</div>"
            ],
            "text/plain": [
              "                                                                                                                                                                                                                                                                                                                                                                                                                                                                                                                                                                  findings  ...     label\n",
              "1510                                                                                                                                                                                                                                                                                                                                                                                                                                                                                                                                                                        ...  abnormal\n",
              "1932                                                                                                                                                                                                                                                                                                                                            Low lung volumes with bibasilar subsegmental atelectasis. No focal consolidations, pleural effusions, or pneumothoraces. Cardiomediastinal silhouette is within normal limits. Degenerative changes of the thoracic spine.  ...  abnormal\n",
              "2446                                         The XXXX examination consists of frontal and lateral radiographs of the chest. The cardiac silhouette is moderately enlarged with a cardiothoracic ratio of 16.2/24.7. Diffuse coarse interstitial opacity seen throughout the lungs with perihilar and lower lobe predominance. There is right greater than left bibasilar consolidation. There are small pleural effusions, right larger than left. No evidence of pneumothorax. Dense atherosclerotic calcification seen involving the thoracic and upper abdominal aorta.  ...  abnormal\n",
              "883   Chest. Right hemidiaphragm remains elevated. Consolidation and atelectasis are present in the right lung base. Left lung is clear. No pleural air collections. Shoulder and clavicle. Fractures present in the right scapula the base of the glenoid process. It is attached to the coracoid process and a portion of the spine. The humeral head is located within the glenoid articular surface. Cutaneous air is present. Fracture is present in the posterior portion of the right 3rd rib. The acromioclavicular joint and coracoclavicular joints are widened.  ...  abnormal\n",
              "663                                                                                                                                                                                                                                                                                                                                                                                                                                                   The heart and lungs have XXXX XXXX in the interval. Both lungs are clear and expanded. Heart and mediastinum normal.  ...  abnormal\n",
              "\n",
              "[5 rows x 3 columns]"
            ]
          },
          "metadata": {
            "tags": []
          },
          "execution_count": 6
        }
      ]
    },
    {
      "cell_type": "markdown",
      "metadata": {
        "id": "qq2-xd-YyrpC",
        "colab_type": "text"
      },
      "source": [
        "Here are some of the things you may have noticed about the data, as you reviewed it:\n",
        "- Some reports only have an Impression (i.e. no separate Findings section)\n",
        "- Many reports contain blocks of \"XXXX\" text. This is due to the fact that these reports were anonymized prior to releasing them as an open data set. These blocks likely represent _named entities_ or dates.\n",
        "- As expected, there is wide variation in the length of these chest radiograph reports.\n",
        "\n",
        "<hr>\n",
        "\n",
        "Next, let's count how many of each label we have.\n"
      ]
    },
    {
      "cell_type": "code",
      "metadata": {
        "id": "nqY-EC3opnBW",
        "colab_type": "code",
        "colab": {
          "base_uri": "https://localhost:8080/",
          "height": 356
        },
        "outputId": "899b62c5-b6f0-4ad4-dd06-94aecaae7a2c"
      },
      "source": [
        "#@title **Label counts: # of Normals & Abnormals**\n",
        "label_counts = reports_df.label.value_counts()\n",
        "print('Abnormal:', label_counts['abnormal'])\n",
        "print('Normal:', label_counts['normal'])\n",
        "print()\n",
        "label_counts.plot.bar();"
      ],
      "execution_count": 7,
      "outputs": [
        {
          "output_type": "stream",
          "text": [
            "Abnormal: 2564\n",
            "Normal: 1391\n",
            "\n"
          ],
          "name": "stdout"
        },
        {
          "output_type": "display_data",
          "data": {
            "image/png": "[encoded data removed]",
            "text/plain": [
              "<Figure size 432x288 with 1 Axes>"
            ]
          },
          "metadata": {
            "tags": [],
            "needs_background": "light"
          }
        }
      ]
    },
    {
      "cell_type": "markdown",
      "metadata": {
        "id": "fGQenIsg0uqe",
        "colab_type": "text"
      },
      "source": [
        "As we see in the bar graph above, there are almost twice as many abnormal reports as there are normal reports. This will be important to remember as we partition our data into training, validation, and test sets.\n",
        "\n",
        "In fact, we'll go ahead and split off (\"hold out\") the test set right now to ensure our model is not exposed to it until the very end. \n",
        "\n",
        "We'll set it up such that the our test set is 15% of our full data set and keep the relative percentage of labels the same as in our full dataset."
      ]
    },
    {
      "cell_type": "code",
      "metadata": {
        "id": "NCMPqjqvs1Mc",
        "colab_type": "code",
        "colab": {
          "base_uri": "https://localhost:8080/",
          "height": 304
        },
        "outputId": "18bb8346-2b60-4566-d865-d44672f2c441"
      },
      "source": [
        "#@title **Test set label counts**\n",
        "from sklearn.model_selection import train_test_split\n",
        "\n",
        "train_val, test = train_test_split(reports_df, test_size=0.15, stratify=reports_df.label.values)\n",
        "test_counts = test.label.value_counts()\n",
        "test_counts.plot.bar();"
      ],
      "execution_count": 9,
      "outputs": [
        {
          "output_type": "display_data",
          "data": {
            "image/png": "[encoded data removed]",
            "text/plain": [
              "<Figure size 432x288 with 1 Axes>"
            ]
          },
          "metadata": {
            "tags": [],
            "needs_background": "light"
          }
        }
      ]
    },
    {
      "cell_type": "markdown",
      "metadata": {
        "id": "HI7CMLEg6VjL",
        "colab_type": "text"
      },
      "source": [
        "# Language Modeling\n",
        "\n",
        "The types of algorithms we use in NLP work with with numbers, not text. Therefore, we need a way to convert text into numbers.\n",
        "\n",
        "## Tokenization\n",
        "\n",
        "_Tokenization_ is the process by which we split text into chunks or _tokens_. An individual token could be a sentence or phrase, a word, a part of a word, or a single character. Most often, we choose to tokenize at the word or sub-word level.\n",
        "\n",
        "Each token is assigned a sequential integer value and the collection of token-integer pairs is called our _vocabulary_.\n",
        "\n",
        "## Embedding\n",
        "\n",
        "While these integers map one-to-one onto our tokens, their numeric value is otherwise meaningless. To embed more information into the numeric representation of our tokens, we employ a process called _language modeling_. We can either use a pre-trained language model for this _embedding_ or we can fine-tune a language model to better model our \"radiology language\". This latter process is called _transfer learning_."
      ]
    },
    {
      "cell_type": "code",
      "metadata": {
        "id": "oBodPuEb5XMK",
        "colab_type": "code",
        "colab": {}
      },
      "source": [
        "#@title **Word vs. Sub-word Tokenization**\n",
        "\n",
        "from fastai.text.all import *\n",
        "\n",
        "# Pick back up here..."
      ],
      "execution_count": null,
      "outputs": []
    }
  ]
}