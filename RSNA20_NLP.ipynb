{
  "nbformat": 4,
  "nbformat_minor": 0,
  "metadata": {
    "colab": {
      "name": "RSNA20_NLP.ipynb",
      "provenance": [],
      "collapsed_sections": [],
      "toc_visible": true,
      "authorship_tag": "ABX9TyOJYi1DAnURvYXDOHzyV+g2",
      "include_colab_link": true
    },
    "kernelspec": {
      "name": "python3",
      "display_name": "Python 3"
    },
    "accelerator": "GPU"
  },
  "cells": [
    {
      "cell_type": "markdown",
      "metadata": {
        "id": "view-in-github",
        "colab_type": "text"
      },
      "source": [
        "<a href=\"https://colab.research.google.com/github/wfwiggins/RSNA-NLP-2020/blob/master/RSNA20_NLP.ipynb\" target=\"_parent\"><img src=\"https://colab.research.google.com/assets/colab-badge.svg\" alt=\"Open In Colab\"/></a>"
      ]
    },
    {
      "cell_type": "markdown",
      "metadata": {
        "id": "kIjz0KY4kSQV"
      },
      "source": [
        "# **RSNA 2020: Hands-on AI for Non-Coders**\n",
        "\n",
        "## **Basics of Information Extraction from Radiology Reports**\n",
        "\n",
        "In this demonstration, we will utilize techniques of _natural language processing_ (NLP) to train a classifier, which will analyze the text of radiology reports for chest radiographs to predict whether a report is **normal** or **abnormal**."
      ]
    },
    {
      "cell_type": "markdown",
      "metadata": {
        "id": "CIrzuLMzr3Ey"
      },
      "source": [
        "# System Setup & Downloading the Data\n",
        "\n",
        "- The first step will install the necessary libraries, then the system will restart. This _WILL_ generate an error message, which can safely be ignored 😉.\n",
        "- In the second step, we will download the [NLM Open-i \"Indiana University Chest X-ray Reports\" dataset](https://openi.nlm.nih.gov/faq#collection)."
      ]
    },
    {
      "cell_type": "code",
      "metadata": {
        "id": "MIA9a7rckKil",
        "cellView": "both"
      },
      "source": [
        "#@title **Installing libraries & restarting...**\n",
        "\n",
        "import os\n",
        "\n",
        "!pip install fastai --upgrade >/dev/null\n",
        "!pip install xmltodict >/dev/null\n",
        "\n",
        "os.kill(os.getpid(), 9)"
      ],
      "execution_count": null,
      "outputs": []
    },
    {
      "cell_type": "code",
      "metadata": {
        "id": "klDik57Vm9Cg",
        "cellView": "both",
        "outputId": "3bb1ccc5-0e2d-41f8-922b-5657014e5b83",
        "colab": {
          "base_uri": "https://localhost:8080/",
          "height": 34
        }
      },
      "source": [
        "#@title **Downloading the data...**\n",
        "\n",
        "!curl -s https://openi.nlm.nih.gov/imgs/collections/NLMCXR_reports.tgz | tar xvz >/dev/null\n",
        "\n",
        "print('Success!')"
      ],
      "execution_count": 1,
      "outputs": [
        {
          "output_type": "stream",
          "text": [
            "Success!\n"
          ],
          "name": "stdout"
        }
      ]
    },
    {
      "cell_type": "markdown",
      "metadata": {
        "id": "SMmKrqN5tM83"
      },
      "source": [
        "# Reformatting the Data\n",
        "\n",
        "Each of the reports is stored in _extensible markup language_ (XML) format. In order to work with the report text data more easily, we will extract the data and put it into a `pandas.DataFrame`, which is a tabular data structure.\n",
        "\n",
        "The XML metadata contains [MeSH terms](https://www.ncbi.nlm.nih.gov/mesh/) for each report. We will use these to create the _label_ for each report in our dataset. These labels will serve as the targets for training our classifier to predict whether the report is **normal** or **abnormal**."
      ]
    },
    {
      "cell_type": "code",
      "metadata": {
        "id": "Gemrv76EoQVX",
        "cellView": "both",
        "outputId": "b23b7bd6-7e49-4197-9cd0-65842819ee84",
        "colab": {
          "base_uri": "https://localhost:8080/",
          "height": 1000
        }
      },
      "source": [
        "#@title **Extracting the data...**\n",
        "\n",
        "import glob\n",
        "import xmltodict\n",
        "from fastai.basics import *\n",
        "\n",
        "def xml_parse(f):\n",
        "    with open(f) as xml:\n",
        "        report_dict = xmltodict.parse(xml.read())\n",
        "    xml.close()\n",
        "    return report_dict\n",
        "\n",
        "def get_label(report):\n",
        "    label = L(report['eCitation']['MeSH']['major'])\n",
        "    return 'normal' if label[0].lower() == 'normal' else 'abnormal'\n",
        "\n",
        "def get_text(report):\n",
        "    text_dict = {}\n",
        "    text = report['eCitation']['MedlineCitation']['Article']['Abstract']['AbstractText']\n",
        "    findings = text[2]['#text'] if '#text' in text[2] else ''\n",
        "    text_dict['findings'] = findings\n",
        "    impression = text[3]['#text'] if '#text' in text[3] else ''\n",
        "    text_dict['impression'] = impression\n",
        "    text_dict['text'] = ' '.join([findings, impression])\n",
        "    return text_dict\n",
        "\n",
        "def process_report(report):\n",
        "    label = get_label(report)\n",
        "    report_dict = get_text(report)\n",
        "    report_dict['label'] = label\n",
        "    return report_dict\n",
        "\n",
        "fps = L(glob.glob('/content/ecgen-radiology/*'))\n",
        "reports = fps.map(xml_parse)\n",
        "reports_df = pd.DataFrame(reports.map(process_report))\n",
        "reports_df"
      ],
      "execution_count": 1,
      "outputs": [
        {
          "output_type": "execute_result",
          "data": {
            "text/html": [
              "<div>\n",
              "<style scoped>\n",
              "    .dataframe tbody tr th:only-of-type {\n",
              "        vertical-align: middle;\n",
              "    }\n",
              "\n",
              "    .dataframe tbody tr th {\n",
              "        vertical-align: top;\n",
              "    }\n",
              "\n",
              "    .dataframe thead th {\n",
              "        text-align: right;\n",
              "    }\n",
              "</style>\n",
              "<table border=\"1\" class=\"dataframe\">\n",
              "  <thead>\n",
              "    <tr style=\"text-align: right;\">\n",
              "      <th></th>\n",
              "      <th>findings</th>\n",
              "      <th>impression</th>\n",
              "      <th>text</th>\n",
              "      <th>label</th>\n",
              "    </tr>\n",
              "  </thead>\n",
              "  <tbody>\n",
              "    <tr>\n",
              "      <th>0</th>\n",
              "      <td></td>\n",
              "      <td>Heart size is upper normal. Tortuous and calcified aorta. No edema. Bandlike left base and lingular opacities XXXX scarring or atelectasis. No lobar consolidation, pleural effusion or pneumothorax.</td>\n",
              "      <td>Heart size is upper normal. Tortuous and calcified aorta. No edema. Bandlike left base and lingular opacities XXXX scarring or atelectasis. No lobar consolidation, pleural effusion or pneumothorax.</td>\n",
              "      <td>abnormal</td>\n",
              "    </tr>\n",
              "    <tr>\n",
              "      <th>1</th>\n",
              "      <td>The cardiac contours are normal. XXXX scarring left base. The lungs are clear. Thoracic spondylosis.</td>\n",
              "      <td>No acute preoperative process.</td>\n",
              "      <td>The cardiac contours are normal. XXXX scarring left base. The lungs are clear. Thoracic spondylosis. No acute preoperative process.</td>\n",
              "      <td>abnormal</td>\n",
              "    </tr>\n",
              "    <tr>\n",
              "      <th>2</th>\n",
              "      <td>There is mild cardiomegaly. The transverse XXXX is calcified. There is a moderate hiatal hernia. The lungs are clear without focal infiltrate. No pleural effusion or pneumothorax. Degenerative changes of the thoracic spine are noted.</td>\n",
              "      <td>1. Mild cardiomegaly and moderate hiatal hernia.</td>\n",
              "      <td>There is mild cardiomegaly. The transverse XXXX is calcified. There is a moderate hiatal hernia. The lungs are clear without focal infiltrate. No pleural effusion or pneumothorax. Degenerative changes of the thoracic spine are noted. 1. Mild cardiomegaly and moderate hiatal hernia.</td>\n",
              "      <td>abnormal</td>\n",
              "    </tr>\n",
              "    <tr>\n",
              "      <th>3</th>\n",
              "      <td>The heart, pulmonary XXXX and mediastinum are within normal limits. There is no pleural effusion or pneumothorax. There is no focal air space opacity to suggest a pneumonia. There is an 8mm nodule identified within the left lateral midlung partially overlying the posterior left 7th rib. There are mild degenerative changes of the spine.</td>\n",
              "      <td>Left midlung pulmonary nodule. Comparison to a previous XXXX would be most helpful alternatively a noncontrast chest CT could be performed in the nonemergent setting for further characterization. No acute disease.</td>\n",
              "      <td>The heart, pulmonary XXXX and mediastinum are within normal limits. There is no pleural effusion or pneumothorax. There is no focal air space opacity to suggest a pneumonia. There is an 8mm nodule identified within the left lateral midlung partially overlying the posterior left 7th rib. There are mild degenerative changes of the spine. Left midlung pulmonary nodule. Comparison to a previous XXXX would be most helpful alternatively a noncontrast chest CT could be performed in the nonemergent setting for further characterization. No acute disease.</td>\n",
              "      <td>abnormal</td>\n",
              "    </tr>\n",
              "    <tr>\n",
              "      <th>4</th>\n",
              "      <td>The cardiomediastinal silhouette is normal in size and contour. No focal consolidation, pneumothorax or large pleural effusion. Normal XXXX.</td>\n",
              "      <td>Negative for acute abnormality.</td>\n",
              "      <td>The cardiomediastinal silhouette is normal in size and contour. No focal consolidation, pneumothorax or large pleural effusion. Normal XXXX. Negative for acute abnormality.</td>\n",
              "      <td>normal</td>\n",
              "    </tr>\n",
              "    <tr>\n",
              "      <th>...</th>\n",
              "      <td>...</td>\n",
              "      <td>...</td>\n",
              "      <td>...</td>\n",
              "      <td>...</td>\n",
              "    </tr>\n",
              "    <tr>\n",
              "      <th>3950</th>\n",
              "      <td>Compared to prior chest radiograph from XXXX, there has been removal of right-sided tunneled dialysis catheter. The cardiomediastinal silhouette is stable and within normal limits for size and contour. Mildly increased atherosclerotic calcifications of the thoracic aorta. 1.0 cm nodular opacity in the left midlung is stable compared to prior examination from XXXX. No XXXX nodules, focal consolidation, or pneumothorax identified. There are XXXX bilateral pleural effusions posteriorly. There is mild central pulmonary vascular congestion without XXXX pulmonary edema. No acute bony abnormality.</td>\n",
              "      <td>Central pulmonary vascular congestion without XXXX edema, consolidation. XXXX bilateral pleural effusions.</td>\n",
              "      <td>Compared to prior chest radiograph from XXXX, there has been removal of right-sided tunneled dialysis catheter. The cardiomediastinal silhouette is stable and within normal limits for size and contour. Mildly increased atherosclerotic calcifications of the thoracic aorta. 1.0 cm nodular opacity in the left midlung is stable compared to prior examination from XXXX. No XXXX nodules, focal consolidation, or pneumothorax identified. There are XXXX bilateral pleural effusions posteriorly. There is mild central pulmonary vascular congestion without XXXX pulmonary edema. No acute bony abnormality...</td>\n",
              "      <td>abnormal</td>\n",
              "    </tr>\n",
              "    <tr>\n",
              "      <th>3951</th>\n",
              "      <td>No focal consolidation, pneumothorax, or pleural effusion. Cardiomediastinal silhouette unremarkable. Stable bilateral calcified granulomas/lymph XXXX. A bullet is present in the posterior soft tissues of the left chest wall, stable compared to prior examination.</td>\n",
              "      <td>No acute cardiopulmonary abnormality..</td>\n",
              "      <td>No focal consolidation, pneumothorax, or pleural effusion. Cardiomediastinal silhouette unremarkable. Stable bilateral calcified granulomas/lymph XXXX. A bullet is present in the posterior soft tissues of the left chest wall, stable compared to prior examination. No acute cardiopulmonary abnormality..</td>\n",
              "      <td>abnormal</td>\n",
              "    </tr>\n",
              "    <tr>\n",
              "      <th>3952</th>\n",
              "      <td></td>\n",
              "      <td>Heart size normal. Lungs are clear.</td>\n",
              "      <td>Heart size normal. Lungs are clear.</td>\n",
              "      <td>normal</td>\n",
              "    </tr>\n",
              "    <tr>\n",
              "      <th>3953</th>\n",
              "      <td>The heart is normal size. The mediastinum is unremarkable. There is no pleural effusion, pneumothorax, or focal airspace disease. Calcific granulomas are present in the right upper lobe. The XXXX are unremarkable.</td>\n",
              "      <td>No acute cardiopulmonary abnormality.</td>\n",
              "      <td>The heart is normal size. The mediastinum is unremarkable. There is no pleural effusion, pneumothorax, or focal airspace disease. Calcific granulomas are present in the right upper lobe. The XXXX are unremarkable. No acute cardiopulmonary abnormality.</td>\n",
              "      <td>abnormal</td>\n",
              "    </tr>\n",
              "    <tr>\n",
              "      <th>3954</th>\n",
              "      <td>There is stable prominence of the pulmonary interstitium. XXXX and fluid containing density seen adjacent to the heart is stable, most consistent with a moderate sized hiatal hernia. There is stable tortuosity and/or ectasia of the thoracic aorta, with calcification of the aortic XXXX. No pleural effusion, focal airspace disease or pneumothorax. Stable exaggerated kyphosis of the thoracic spine, stable anterior wedge deformities of at XXXX 2 thoracic vertebral bodies at the apex of the kyphotic curvature. Diffuse osteopenia.</td>\n",
              "      <td>1. No acute pulmonary disease. 2. Stable moderate hiatal hernia.</td>\n",
              "      <td>There is stable prominence of the pulmonary interstitium. XXXX and fluid containing density seen adjacent to the heart is stable, most consistent with a moderate sized hiatal hernia. There is stable tortuosity and/or ectasia of the thoracic aorta, with calcification of the aortic XXXX. No pleural effusion, focal airspace disease or pneumothorax. Stable exaggerated kyphosis of the thoracic spine, stable anterior wedge deformities of at XXXX 2 thoracic vertebral bodies at the apex of the kyphotic curvature. Diffuse osteopenia. 1. No acute pulmonary disease. 2. Stable moderate hiatal hernia.</td>\n",
              "      <td>abnormal</td>\n",
              "    </tr>\n",
              "  </tbody>\n",
              "</table>\n",
              "<p>3955 rows × 4 columns</p>\n",
              "</div>"
            ],
            "text/plain": [
              "                                                                                                                                                                                                                                                                                                                                                                                                                                                                                                                                                                                                                   findings  ...     label\n",
              "0                                                                                                                                                                                                                                                                                                                                                                                                                                                                                                                                                                                                                            ...  abnormal\n",
              "1                                                                                                                                                                                                                                                                                                                                                                                                                                                                                                                      The cardiac contours are normal. XXXX scarring left base. The lungs are clear. Thoracic spondylosis.  ...  abnormal\n",
              "2                                                                                                                                                                                                                                                                                                                                                                                 There is mild cardiomegaly. The transverse XXXX is calcified. There is a moderate hiatal hernia. The lungs are clear without focal infiltrate. No pleural effusion or pneumothorax. Degenerative changes of the thoracic spine are noted.  ...  abnormal\n",
              "3                                                                                                                                                                                                                                                                         The heart, pulmonary XXXX and mediastinum are within normal limits. There is no pleural effusion or pneumothorax. There is no focal air space opacity to suggest a pneumonia. There is an 8mm nodule identified within the left lateral midlung partially overlying the posterior left 7th rib. There are mild degenerative changes of the spine.  ...  abnormal\n",
              "4                                                                                                                                                                                                                                                                                                                                                                                                                                                                              The cardiomediastinal silhouette is normal in size and contour. No focal consolidation, pneumothorax or large pleural effusion. Normal XXXX.  ...    normal\n",
              "...                                                                                                                                                                                                                                                                                                                                                                                                                                                                                                                                                                                                                     ...  ...       ...\n",
              "3950  Compared to prior chest radiograph from XXXX, there has been removal of right-sided tunneled dialysis catheter. The cardiomediastinal silhouette is stable and within normal limits for size and contour. Mildly increased atherosclerotic calcifications of the thoracic aorta. 1.0 cm nodular opacity in the left midlung is stable compared to prior examination from XXXX. No XXXX nodules, focal consolidation, or pneumothorax identified. There are XXXX bilateral pleural effusions posteriorly. There is mild central pulmonary vascular congestion without XXXX pulmonary edema. No acute bony abnormality.  ...  abnormal\n",
              "3951                                                                                                                                                                                                                                                                                                                                                No focal consolidation, pneumothorax, or pleural effusion. Cardiomediastinal silhouette unremarkable. Stable bilateral calcified granulomas/lymph XXXX. A bullet is present in the posterior soft tissues of the left chest wall, stable compared to prior examination.  ...  abnormal\n",
              "3952                                                                                                                                                                                                                                                                                                                                                                                                                                                                                                                                                                                                                         ...    normal\n",
              "3953                                                                                                                                                                                                                                                                                                                                                                                                  The heart is normal size. The mediastinum is unremarkable. There is no pleural effusion, pneumothorax, or focal airspace disease. Calcific granulomas are present in the right upper lobe. The XXXX are unremarkable.  ...  abnormal\n",
              "3954                                                                     There is stable prominence of the pulmonary interstitium. XXXX and fluid containing density seen adjacent to the heart is stable, most consistent with a moderate sized hiatal hernia. There is stable tortuosity and/or ectasia of the thoracic aorta, with calcification of the aortic XXXX. No pleural effusion, focal airspace disease or pneumothorax. Stable exaggerated kyphosis of the thoracic spine, stable anterior wedge deformities of at XXXX 2 thoracic vertebral bodies at the apex of the kyphotic curvature. Diffuse osteopenia.  ...  abnormal\n",
              "\n",
              "[3955 rows x 4 columns]"
            ]
          },
          "metadata": {
            "tags": []
          },
          "execution_count": 1
        }
      ]
    },
    {
      "cell_type": "markdown",
      "metadata": {
        "id": "4sANCvWZy2_5"
      },
      "source": [
        "# Exploring the data\n",
        "\n",
        "As you'll see in the table above, there are some reports where the \"Impression\" states something along the lines of \"No acute cardiopulmonary abnormality\" but the label is \"abnormal\". This is usually due to a chronic incidental finding or artifact that is mentioned in the \"Findings\", but isn't included in the \"Impression\".\n",
        "\n",
        "> We'll revisit this point later when we're deciding which text from the report we want to use to train our classifier.\n",
        "\n",
        "For now, let's look through a little more of the data and see how many normals and abnormals we have to work with."
      ]
    },
    {
      "cell_type": "code",
      "metadata": {
        "id": "HJQupI3dyCTB",
        "outputId": "7fcaae76-0aab-41a7-8e8e-33a0fb1eac73",
        "colab": {
          "base_uri": "https://localhost:8080/",
          "height": 544
        }
      },
      "source": [
        "#@title **Run this cell several times to view random samples of the data**\n",
        "\n",
        "reports_df.sample(5)"
      ],
      "execution_count": 2,
      "outputs": [
        {
          "output_type": "execute_result",
          "data": {
            "text/html": [
              "<div>\n",
              "<style scoped>\n",
              "    .dataframe tbody tr th:only-of-type {\n",
              "        vertical-align: middle;\n",
              "    }\n",
              "\n",
              "    .dataframe tbody tr th {\n",
              "        vertical-align: top;\n",
              "    }\n",
              "\n",
              "    .dataframe thead th {\n",
              "        text-align: right;\n",
              "    }\n",
              "</style>\n",
              "<table border=\"1\" class=\"dataframe\">\n",
              "  <thead>\n",
              "    <tr style=\"text-align: right;\">\n",
              "      <th></th>\n",
              "      <th>findings</th>\n",
              "      <th>impression</th>\n",
              "      <th>text</th>\n",
              "      <th>label</th>\n",
              "    </tr>\n",
              "  </thead>\n",
              "  <tbody>\n",
              "    <tr>\n",
              "      <th>3069</th>\n",
              "      <td>Heart size and pulmonary vascularity appear within normal limits. The lungs are free of focal airspace disease. No pleural effusion or pneumothorax is seen.</td>\n",
              "      <td>1. No evidence of active disease.</td>\n",
              "      <td>Heart size and pulmonary vascularity appear within normal limits. The lungs are free of focal airspace disease. No pleural effusion or pneumothorax is seen. 1. No evidence of active disease.</td>\n",
              "      <td>normal</td>\n",
              "    </tr>\n",
              "    <tr>\n",
              "      <th>2287</th>\n",
              "      <td>Borderline enlarged heart. Pulmonary vasculature appears within normal limits. No focal pulmonary opacity, pleural effusion or pneumothorax. No acute bony abnormality. Possible right shoulder calcific tendinitis. Calcifications of the abdominal aorta are seen.</td>\n",
              "      <td>1. Borderline enlarged heart without acute abnormality.</td>\n",
              "      <td>Borderline enlarged heart. Pulmonary vasculature appears within normal limits. No focal pulmonary opacity, pleural effusion or pneumothorax. No acute bony abnormality. Possible right shoulder calcific tendinitis. Calcifications of the abdominal aorta are seen. 1. Borderline enlarged heart without acute abnormality.</td>\n",
              "      <td>abnormal</td>\n",
              "    </tr>\n",
              "    <tr>\n",
              "      <th>3049</th>\n",
              "      <td>The heart is normal in size. There is bihilar prominence. The lungs are clear.</td>\n",
              "      <td>Bihilar prominence may be secondary mild lymphoid enlargement. Followup chest x-XXXX versus further imaging XXXX may be indicated. Correlation with prior films would be helpful if available.</td>\n",
              "      <td>The heart is normal in size. There is bihilar prominence. The lungs are clear. Bihilar prominence may be secondary mild lymphoid enlargement. Followup chest x-XXXX versus further imaging XXXX may be indicated. Correlation with prior films would be helpful if available.</td>\n",
              "      <td>abnormal</td>\n",
              "    </tr>\n",
              "    <tr>\n",
              "      <th>3646</th>\n",
              "      <td>Right mid lung nodule stable XXXX; etiology not determined. This is noncalcified, and is stable since a CT examination from XXXX and is XXXX benign etiology. The lungs are well inflated and without focal consolidation. The cardiomediastinal silhouette appears unremarkable. Costophrenic XXXX clear. Visualized spine vertebrae appear normal in XXXX and alignment. Overlying leads.</td>\n",
              "      <td>Stable radiographic view of chest.</td>\n",
              "      <td>Right mid lung nodule stable XXXX; etiology not determined. This is noncalcified, and is stable since a CT examination from XXXX and is XXXX benign etiology. The lungs are well inflated and without focal consolidation. The cardiomediastinal silhouette appears unremarkable. Costophrenic XXXX clear. Visualized spine vertebrae appear normal in XXXX and alignment. Overlying leads. Stable radiographic view of chest.</td>\n",
              "      <td>abnormal</td>\n",
              "    </tr>\n",
              "    <tr>\n",
              "      <th>3954</th>\n",
              "      <td>There is stable prominence of the pulmonary interstitium. XXXX and fluid containing density seen adjacent to the heart is stable, most consistent with a moderate sized hiatal hernia. There is stable tortuosity and/or ectasia of the thoracic aorta, with calcification of the aortic XXXX. No pleural effusion, focal airspace disease or pneumothorax. Stable exaggerated kyphosis of the thoracic spine, stable anterior wedge deformities of at XXXX 2 thoracic vertebral bodies at the apex of the kyphotic curvature. Diffuse osteopenia.</td>\n",
              "      <td>1. No acute pulmonary disease. 2. Stable moderate hiatal hernia.</td>\n",
              "      <td>There is stable prominence of the pulmonary interstitium. XXXX and fluid containing density seen adjacent to the heart is stable, most consistent with a moderate sized hiatal hernia. There is stable tortuosity and/or ectasia of the thoracic aorta, with calcification of the aortic XXXX. No pleural effusion, focal airspace disease or pneumothorax. Stable exaggerated kyphosis of the thoracic spine, stable anterior wedge deformities of at XXXX 2 thoracic vertebral bodies at the apex of the kyphotic curvature. Diffuse osteopenia. 1. No acute pulmonary disease. 2. Stable moderate hiatal hernia.</td>\n",
              "      <td>abnormal</td>\n",
              "    </tr>\n",
              "  </tbody>\n",
              "</table>\n",
              "</div>"
            ],
            "text/plain": [
              "                                                                                                                                                                                                                                                                                                                                                                                                                                                                                                                                                findings  ...     label\n",
              "3069                                                                                                                                                                                                                                                                                                                                                                                        Heart size and pulmonary vascularity appear within normal limits. The lungs are free of focal airspace disease. No pleural effusion or pneumothorax is seen.  ...    normal\n",
              "2287                                                                                                                                                                                                                                                                                Borderline enlarged heart. Pulmonary vasculature appears within normal limits. No focal pulmonary opacity, pleural effusion or pneumothorax. No acute bony abnormality. Possible right shoulder calcific tendinitis. Calcifications of the abdominal aorta are seen.  ...  abnormal\n",
              "3049                                                                                                                                                                                                                                                                                                                                                                                                                                                                      The heart is normal in size. There is bihilar prominence. The lungs are clear.  ...  abnormal\n",
              "3646                                                                                                                                                         Right mid lung nodule stable XXXX; etiology not determined. This is noncalcified, and is stable since a CT examination from XXXX and is XXXX benign etiology. The lungs are well inflated and without focal consolidation. The cardiomediastinal silhouette appears unremarkable. Costophrenic XXXX clear. Visualized spine vertebrae appear normal in XXXX and alignment. Overlying leads.  ...  abnormal\n",
              "3954  There is stable prominence of the pulmonary interstitium. XXXX and fluid containing density seen adjacent to the heart is stable, most consistent with a moderate sized hiatal hernia. There is stable tortuosity and/or ectasia of the thoracic aorta, with calcification of the aortic XXXX. No pleural effusion, focal airspace disease or pneumothorax. Stable exaggerated kyphosis of the thoracic spine, stable anterior wedge deformities of at XXXX 2 thoracic vertebral bodies at the apex of the kyphotic curvature. Diffuse osteopenia.  ...  abnormal\n",
              "\n",
              "[5 rows x 4 columns]"
            ]
          },
          "metadata": {
            "tags": []
          },
          "execution_count": 2
        }
      ]
    },
    {
      "cell_type": "markdown",
      "metadata": {
        "id": "qq2-xd-YyrpC"
      },
      "source": [
        "Here are some of the things you may have noticed about the data, as you reviewed it:\n",
        "- Some reports only have an Impression (i.e. no separate Findings section)\n",
        "- Many reports contain blocks of \"XXXX\" text. This is due to the fact that these reports were anonymized prior to releasing them as an open data set. These blocks likely represent _named entities_ or dates.\n",
        "- As expected, there is wide variation in the length of these chest radiograph reports.\n",
        "\n",
        "<hr>\n",
        "\n",
        "Next, let's count how many of each label we have.\n"
      ]
    },
    {
      "cell_type": "code",
      "metadata": {
        "id": "nqY-EC3opnBW",
        "outputId": "2f597117-04d9-4f1e-fa70-2fbe530f3b66",
        "colab": {
          "base_uri": "https://localhost:8080/",
          "height": 354
        }
      },
      "source": [
        "#@title **Label counts: # of Normals & Abnormals**\n",
        "label_counts = reports_df.label.value_counts()\n",
        "print('Abnormal:', label_counts['abnormal'])\n",
        "print('Normal:', label_counts['normal'])\n",
        "print()\n",
        "label_counts.plot.bar();"
      ],
      "execution_count": 3,
      "outputs": [
        {
          "output_type": "stream",
          "text": [
            "Abnormal: 2564\n",
            "Normal: 1391\n",
            "\n"
          ],
          "name": "stdout"
        },
        {
          "output_type": "display_data",
          "data": {
            "image/png": "[encoded data removed]",
            "text/plain": [
              "<Figure size 432x288 with 1 Axes>"
            ]
          },
          "metadata": {
            "tags": [],
            "needs_background": "light"
          }
        }
      ]
    },
    {
      "cell_type": "markdown",
      "metadata": {
        "id": "fGQenIsg0uqe"
      },
      "source": [
        "As we see in the bar graph above, there are almost twice as many abnormal reports as there are normal reports. This will be important to remember as we partition our data into training, validation, and test sets.\n",
        "\n",
        "In fact, we'll go ahead and split off (\"hold out\") the test set right now to ensure our model is not exposed to it until the very end. \n",
        "\n",
        "We'll set it up such that the our test set is 15% of our full data set and keep the relative percentage of labels the same as in our full dataset."
      ]
    },
    {
      "cell_type": "code",
      "metadata": {
        "id": "NCMPqjqvs1Mc",
        "outputId": "35294020-362c-4c25-d6a2-2907a3ac5688",
        "colab": {
          "base_uri": "https://localhost:8080/",
          "height": 304
        }
      },
      "source": [
        "#@title **Test set label counts**\n",
        "from sklearn.model_selection import train_test_split\n",
        "\n",
        "np.random.seed(42)\n",
        "\n",
        "train_val, test = train_test_split(reports_df, test_size=0.15, stratify=reports_df.label.values)\n",
        "train_val.reset_index(inplace=True)\n",
        "test.reset_index(inplace=True)\n",
        "test_counts = test.label.value_counts()\n",
        "test_counts.plot.bar();"
      ],
      "execution_count": 4,
      "outputs": [
        {
          "output_type": "display_data",
          "data": {
            "image/png": "[encoded data removed]",
            "text/plain": [
              "<Figure size 432x288 with 1 Axes>"
            ]
          },
          "metadata": {
            "tags": [],
            "needs_background": "light"
          }
        }
      ]
    },
    {
      "cell_type": "markdown",
      "metadata": {
        "id": "HI7CMLEg6VjL"
      },
      "source": [
        "# Language Modeling\n",
        "\n",
        "The types of algorithms we use in NLP work with with numbers, not text. Therefore, we need a way to convert text into numbers.\n",
        "\n",
        "## Tokenization\n",
        "\n",
        "_Tokenization_ is the process by which we split text into chunks or _tokens_. An individual token could be a sentence or phrase, a word, a part of a word, or a single character. Most often, we choose to tokenize at the word or sub-word level.\n",
        "\n",
        "Each token is assigned a sequential integer value and the collection of token-integer pairs is called our _vocabulary_.\n",
        "\n",
        "## Embedding\n",
        "\n",
        "While these integers map one-to-one onto our tokens, their numeric value is otherwise meaningless. To embed more information into the numeric representation of our tokens, we employ a process called _language modeling_. We can either use a pre-trained language model for this _embedding_ or we can fine-tune a language model to better model our \"radiology language\". This latter process is called _transfer learning_."
      ]
    },
    {
      "cell_type": "code",
      "metadata": {
        "id": "oBodPuEb5XMK",
        "outputId": "e97a0a02-6e11-406f-c286-e55626cbc17b",
        "colab": {
          "base_uri": "https://localhost:8080/",
          "height": 122
        }
      },
      "source": [
        "#@title **Word Tokenization**\n",
        "\n",
        "from fastai.text.all import *\n",
        "\n",
        "spacy = WordTokenizer()\n",
        "text = train_val.loc[0, 'text']\n",
        "print('Original text:')\n",
        "print(text)\n",
        "print()\n",
        "tkns = first(spacy([text]))\n",
        "print('After word tokenization (only showing first 10 tokens):')\n",
        "print(coll_repr(tkns))"
      ],
      "execution_count": 5,
      "outputs": [
        {
          "output_type": "stream",
          "text": [
            "Original text:\n",
            "Heart size within normal limits. Mild hyperinflation of the lungs. Mild pectus excavatum deformity. Stable left mid lung calcified granuloma. No focal airspace disease. No pneumothorax or effusions. Changes of chronic lung disease with no acute cardiopulmonary finding.\n",
            "\n",
            "After word tokenization (only showing first 10 tokens):\n",
            "(#45) ['Heart','size','within','normal','limits','.','Mild','hyperinflation','of','the'...]\n"
          ],
          "name": "stdout"
        }
      ]
    },
    {
      "cell_type": "code",
      "metadata": {
        "id": "AzhXiIreGk7T",
        "outputId": "927cc5d5-8f66-4b16-c76f-a7ffb411d9b5",
        "colab": {
          "base_uri": "https://localhost:8080/",
          "height": 34
        }
      },
      "source": [
        "#@title **fast.ai Tokenization**\n",
        "\n",
        "tkn = Tokenizer(spacy)\n",
        "toks = tkn(text)\n",
        "print(coll_repr(toks, 15))"
      ],
      "execution_count": 7,
      "outputs": [
        {
          "output_type": "stream",
          "text": [
            "(#53) ['xxbos','xxmaj','heart','size','within','normal','limits','.','xxmaj','mild','hyperinflation','of','the','lungs','.'...]\n"
          ],
          "name": "stdout"
        }
      ]
    },
    {
      "cell_type": "markdown",
      "metadata": {
        "id": "1QrDY1dqKw_1"
      },
      "source": [
        "## Added features from fast.ai\n",
        "\n",
        "You'll notice some odd-appearing tokens in the above output. These are special tokens that indicate certain things about the text.\n",
        "- `'xxbos'` indicates the beginning of the text _stream_\n",
        "- `'xxmaj'` indicates that the following character was capitalized before fast.ai lowered it\n",
        "\n",
        "These special tokens enrich the data while reducing the vocab by eliminating redundant upper and lower case variants of individual words."
      ]
    },
    {
      "cell_type": "markdown",
      "metadata": {
        "id": "FqTTlDBHM7Z3"
      },
      "source": [
        "## Numericalization\n",
        "\n",
        "Now that we've converted our text to tokens, the next step in embedding is to convert each unique token to a number.\n",
        "\n",
        "For language modeling, we can do this on all of the text that we intend to use for training and validation. So we'll combine the **Findings** and **Impression** for each of our reports and tokenize the text to define our _vocabulary_. Each token in the vocabulary will be identified by a unique number."
      ]
    },
    {
      "cell_type": "code",
      "metadata": {
        "id": "9jB19pgwKUWU",
        "outputId": "a3f847c0-7a9b-43f6-b30e-b7f3fb6914cb",
        "colab": {
          "base_uri": "https://localhost:8080/",
          "height": 35
        }
      },
      "source": [
        "#@title **Computing vocabulary...**\n",
        "\n",
        "txts = L(train_val['text'].to_list())\n",
        "toks = txts.map(tkn)\n",
        "num = Numericalize()\n",
        "num.setup(toks)\n",
        "coll_repr(num.vocab, 20)"
      ],
      "execution_count": 8,
      "outputs": [
        {
          "output_type": "execute_result",
          "data": {
            "application/vnd.google.colaboratory.intrinsic+json": {
              "type": "string"
            },
            "text/plain": [
              "\"(#1192) ['xxunk','xxpad','xxbos','xxeos','xxfld','xxrep','xxwrep','xxup','xxmaj','.','no','the','is','are','normal',',','4','x','and','of'...]\""
            ]
          },
          "metadata": {
            "tags": []
          },
          "execution_count": 8
        }
      ]
    },
    {
      "cell_type": "markdown",
      "metadata": {
        "id": "mrete-DVQzpT"
      },
      "source": [
        "As you can see above, we have 1,168 tokens in our vocabulary. The special tokens from `fast.ai` appear first, followed by every other token in order of decreasing frequency. By default, `fast.ai` only includes tokens that appear at least 3 times in the _corpus_ (collection of texts). "
      ]
    },
    {
      "cell_type": "code",
      "metadata": {
        "id": "apVezMTKOtd1",
        "outputId": "ba1d636a-e355-4b99-abc0-d0e8ed26d77a",
        "colab": {
          "base_uri": "https://localhost:8080/",
          "height": 51
        }
      },
      "source": [
        "#@title **Numericalizing tokens...**\n",
        "\n",
        "nums = num(toks[0][:14])\n",
        "print(nums)\n",
        "print(' '.join(num.vocab[i] for i in nums))"
      ],
      "execution_count": 9,
      "outputs": [
        {
          "output_type": "stream",
          "text": [
            "TensorText([  2,   8,  26,  28,  33,  14,  36,   9,   8,  56, 386,  19,  11,  27])\n",
            "xxbos xxmaj heart size within normal limits . xxmaj mild hyperinflation of the lungs\n"
          ],
          "name": "stdout"
        }
      ]
    },
    {
      "cell_type": "markdown",
      "metadata": {
        "id": "Ln-1OfouTxvH"
      },
      "source": [
        "Here, we see a subset of the numericalized tokens (top) with their corresponding word tokens (bottom) from the first report in our _corpus_. "
      ]
    },
    {
      "cell_type": "markdown",
      "metadata": {
        "id": "PTH79qDqW4Zw"
      },
      "source": [
        "## Language Model Transfer Learning\n",
        "\n",
        "By default, `fastai.text` uses a language model pre-trained on the WikiText-103 corpus, which is a frequently used benchmark for NLP models, similar to ImageNet for image classification models.\n",
        "\n",
        "In their 2018 ACL paper \"[Universal Language Model Fine-Tuning for Text Classification](https://arxiv.org/abs/1801.06146)\", Jeremy Howard and Sebastian Ruder proposed the ULM-FiT approach of fine-tuning the language model on the corpus on which we will train our text classification model.\n",
        "\n",
        "Here, we will fine-tune the language model in two stages."
      ]
    },
    {
      "cell_type": "code",
      "metadata": {
        "id": "MJAoDjvwS9X0",
        "outputId": "3ff431bc-9777-4f98-8b28-e1137de8af46",
        "colab": {
          "base_uri": "https://localhost:8080/",
          "height": 80
        }
      },
      "source": [
        "#@title **Fine-tuning the language model (part 1)...**\n",
        "\n",
        "dls_lm = TextDataLoaders.from_df(train_val, valid_pct=0.3, seed=42, text_col='text', is_lm=True)\n",
        "learn = language_model_learner(dls_lm, AWD_LSTM, metrics=[accuracy, Perplexity()]).to_fp16()\n",
        "learn.fit_one_cycle(1, 2e-2)"
      ],
      "execution_count": 10,
      "outputs": [
        {
          "output_type": "display_data",
          "data": {
            "text/html": [
              ""
            ],
            "text/plain": [
              "<IPython.core.display.HTML object>"
            ]
          },
          "metadata": {
            "tags": []
          }
        },
        {
          "output_type": "display_data",
          "data": {
            "text/html": [
              ""
            ],
            "text/plain": [
              "<IPython.core.display.HTML object>"
            ]
          },
          "metadata": {
            "tags": []
          }
        },
        {
          "output_type": "display_data",
          "data": {
            "text/html": [
              "<table border=\"1\" class=\"dataframe\">\n",
              "  <thead>\n",
              "    <tr style=\"text-align: left;\">\n",
              "      <th>epoch</th>\n",
              "      <th>train_loss</th>\n",
              "      <th>valid_loss</th>\n",
              "      <th>accuracy</th>\n",
              "      <th>perplexity</th>\n",
              "      <th>time</th>\n",
              "    </tr>\n",
              "  </thead>\n",
              "  <tbody>\n",
              "    <tr>\n",
              "      <td>0</td>\n",
              "      <td>3.634121</td>\n",
              "      <td>2.347184</td>\n",
              "      <td>0.512827</td>\n",
              "      <td>10.456086</td>\n",
              "      <td>00:21</td>\n",
              "    </tr>\n",
              "  </tbody>\n",
              "</table>"
            ],
            "text/plain": [
              "<IPython.core.display.HTML object>"
            ]
          },
          "metadata": {
            "tags": []
          }
        }
      ]
    },
    {
      "cell_type": "code",
      "metadata": {
        "id": "WzMPzJjWbWLx",
        "outputId": "43748574-ceb7-480d-debf-7c65fd796aaf",
        "colab": {
          "base_uri": "https://localhost:8080/",
          "height": 359
        }
      },
      "source": [
        "#@title **Fine-tuning the language model (part 2)...**\n",
        "\n",
        "learn.unfreeze()\n",
        "learn.fit_one_cycle(10, 2e-3)"
      ],
      "execution_count": 11,
      "outputs": [
        {
          "output_type": "display_data",
          "data": {
            "text/html": [
              "<table border=\"1\" class=\"dataframe\">\n",
              "  <thead>\n",
              "    <tr style=\"text-align: left;\">\n",
              "      <th>epoch</th>\n",
              "      <th>train_loss</th>\n",
              "      <th>valid_loss</th>\n",
              "      <th>accuracy</th>\n",
              "      <th>perplexity</th>\n",
              "      <th>time</th>\n",
              "    </tr>\n",
              "  </thead>\n",
              "  <tbody>\n",
              "    <tr>\n",
              "      <td>0</td>\n",
              "      <td>2.535172</td>\n",
              "      <td>2.110401</td>\n",
              "      <td>0.552122</td>\n",
              "      <td>8.251551</td>\n",
              "      <td>00:25</td>\n",
              "    </tr>\n",
              "    <tr>\n",
              "      <td>1</td>\n",
              "      <td>2.337193</td>\n",
              "      <td>1.888229</td>\n",
              "      <td>0.586144</td>\n",
              "      <td>6.607656</td>\n",
              "      <td>00:24</td>\n",
              "    </tr>\n",
              "    <tr>\n",
              "      <td>2</td>\n",
              "      <td>2.152862</td>\n",
              "      <td>1.749690</td>\n",
              "      <td>0.616491</td>\n",
              "      <td>5.752821</td>\n",
              "      <td>00:24</td>\n",
              "    </tr>\n",
              "    <tr>\n",
              "      <td>3</td>\n",
              "      <td>1.964617</td>\n",
              "      <td>1.648735</td>\n",
              "      <td>0.636992</td>\n",
              "      <td>5.200397</td>\n",
              "      <td>00:24</td>\n",
              "    </tr>\n",
              "    <tr>\n",
              "      <td>4</td>\n",
              "      <td>1.832675</td>\n",
              "      <td>1.570411</td>\n",
              "      <td>0.651443</td>\n",
              "      <td>4.808625</td>\n",
              "      <td>00:24</td>\n",
              "    </tr>\n",
              "    <tr>\n",
              "      <td>5</td>\n",
              "      <td>1.719344</td>\n",
              "      <td>1.527669</td>\n",
              "      <td>0.662616</td>\n",
              "      <td>4.607426</td>\n",
              "      <td>00:24</td>\n",
              "    </tr>\n",
              "    <tr>\n",
              "      <td>6</td>\n",
              "      <td>1.628574</td>\n",
              "      <td>1.505854</td>\n",
              "      <td>0.667852</td>\n",
              "      <td>4.508002</td>\n",
              "      <td>00:24</td>\n",
              "    </tr>\n",
              "    <tr>\n",
              "      <td>7</td>\n",
              "      <td>1.556053</td>\n",
              "      <td>1.494013</td>\n",
              "      <td>0.670273</td>\n",
              "      <td>4.454939</td>\n",
              "      <td>00:24</td>\n",
              "    </tr>\n",
              "    <tr>\n",
              "      <td>8</td>\n",
              "      <td>1.494783</td>\n",
              "      <td>1.487383</td>\n",
              "      <td>0.671396</td>\n",
              "      <td>4.425500</td>\n",
              "      <td>00:24</td>\n",
              "    </tr>\n",
              "    <tr>\n",
              "      <td>9</td>\n",
              "      <td>1.458480</td>\n",
              "      <td>1.485661</td>\n",
              "      <td>0.671883</td>\n",
              "      <td>4.417885</td>\n",
              "      <td>00:24</td>\n",
              "    </tr>\n",
              "  </tbody>\n",
              "</table>"
            ],
            "text/plain": [
              "<IPython.core.display.HTML object>"
            ]
          },
          "metadata": {
            "tags": []
          }
        }
      ]
    },
    {
      "cell_type": "code",
      "metadata": {
        "id": "A3TeFPXNerD2"
      },
      "source": [
        "#@title **Saving the fine-tuned language model...**\n",
        "\n",
        "learn.save('fine-tuned')\n",
        "learn.save_encoder('fine-tuned-enc')"
      ],
      "execution_count": 12,
      "outputs": []
    },
    {
      "cell_type": "markdown",
      "metadata": {
        "id": "5n9v8V--I89P"
      },
      "source": [
        "# Language Model Text Generation\n",
        "\n",
        "Just for fun, let's see how well our language model does at generating text before we move on."
      ]
    },
    {
      "cell_type": "code",
      "metadata": {
        "id": "ZgadleOofVP3",
        "outputId": "7952e343-da2b-42b4-8192-1cce6db02da7",
        "colab": {
          "base_uri": "https://localhost:8080/",
          "height": 34
        }
      },
      "source": [
        "#@title **Download fine-tuned language model**\n",
        "#@markdown If you've skipped the previous section on fine-tuning the language model, run this cell to download the fine-tuned models from GitHub before proceeding.\n",
        "\n",
        "!wget -q https://github.com/wfwiggins/RSNA-NLP-2020/blob/master/models.zip?raw=true\n",
        "!mkdir -p /content/models\n",
        "!unzip -o models.zip?raw=true -d /content/models >/dev/null\n",
        "!rm models.zip?raw=true\n",
        "\n",
        "print('Downloading...')\n",
        "print('Success!')"
      ],
      "execution_count": 11,
      "outputs": [
        {
          "output_type": "stream",
          "text": [
            "Success!\n"
          ],
          "name": "stdout"
        }
      ]
    },
    {
      "cell_type": "code",
      "metadata": {
        "id": "_W9x5gRKISQ0",
        "outputId": "a516d1f3-f550-4d64-c901-74ecb0b6c18b",
        "colab": {
          "base_uri": "https://localhost:8080/",
          "height": 85
        }
      },
      "source": [
        "#@title **Text Generator**\n",
        "#@markdown Enter ~3-5 words to give our language model something to work with, then select other options and run the cell.\n",
        "\n",
        "text = 'Normal heart size'  #@param {type: \"string\"}\n",
        "words_per_sentence = 20     #@param {type: \"integer\"}\n",
        "num_sentences = 2        #@param {type: \"integer\"}\n",
        "\n",
        "print('Generating predictions...')\n",
        "learn = learn.load('fine-tuned')\n",
        "preds = [learn.predict(text, words_per_sentence, temperature=0.75) for _ in range(num_sentences)]\n",
        "print()\n",
        "print(\"\\n\".join(preds))"
      ],
      "execution_count": 13,
      "outputs": [
        {
          "output_type": "stream",
          "text": [
            "Generating predictions...\n"
          ],
          "name": "stdout"
        },
        {
          "output_type": "display_data",
          "data": {
            "text/html": [
              ""
            ],
            "text/plain": [
              "<IPython.core.display.HTML object>"
            ]
          },
          "metadata": {
            "tags": []
          }
        },
        {
          "output_type": "display_data",
          "data": {
            "text/html": [
              ""
            ],
            "text/plain": [
              "<IPython.core.display.HTML object>"
            ]
          },
          "metadata": {
            "tags": []
          }
        },
        {
          "output_type": "stream",
          "text": [
            "\n",
            "Normal heart size . Normal mediastinal contours . No pneumothorax , pleural effusion or focal airspace consolidation . Dislocations of\n",
            "Normal heart size and mediastinal contours . Right hemidiaphragm elevation . No airspace disease . No pleural effusion or pneumothorax\n"
          ],
          "name": "stdout"
        }
      ]
    },
    {
      "cell_type": "markdown",
      "metadata": {
        "id": "9mzzwIBTQRSh"
      },
      "source": [
        "Looks like our generated text is pretty realistic, so there's hope that our language model embeddings will help us to train an accurate report classifier."
      ]
    },
    {
      "cell_type": "markdown",
      "metadata": {
        "id": "hQgjglXrQmBK"
      },
      "source": [
        "# Report Classifier Training\n",
        "\n",
        "In the steps that follow, we will train a second model as a text classifier, using embeddings from our fine-tuned language model. We will then test the classifier on our held-out test set to see how it performs on data it hasn't seen yet."
      ]
    },
    {
      "cell_type": "code",
      "metadata": {
        "id": "dGez3xTLQk4K",
        "outputId": "0564fb23-95e5-41f9-9b66-ab5b6624b3a5",
        "colab": {
          "base_uri": "https://localhost:8080/",
          "height": 295
        }
      },
      "source": [
        "#@title **Setting up the Training Experiment**\n",
        "#@markdown Select options for training, then run the next few cells to train and test your model.\n",
        "#@markdown Once you've viewed the results, you can come back and run this cell again under different conditions to see how each selection affects model performance.\n",
        "\n",
        "training_target = 'text'    #@param [\"text\", \"findings\", \"impression\"]\n",
        "validation_pct = 0.3        #@param {type:\"slider\", min:0.1, max:0.4, step:0.05}\n",
        "fine_tuned_LM = True        #@param {type:\"boolean\"}\n",
        "\n",
        "dls = TextDataLoaders.from_df(train_val, valid_pct=validation_pct, seed=42, text_col=training_target, label_col='label')\n",
        "dls.show_batch(max_n=3)"
      ],
      "execution_count": 14,
      "outputs": [
        {
          "output_type": "display_data",
          "data": {
            "text/html": [
              ""
            ],
            "text/plain": [
              "<IPython.core.display.HTML object>"
            ]
          },
          "metadata": {
            "tags": []
          }
        },
        {
          "output_type": "display_data",
          "data": {
            "text/html": [
              "<table border=\"1\" class=\"dataframe\">\n",
              "  <thead>\n",
              "    <tr style=\"text-align: right;\">\n",
              "      <th></th>\n",
              "      <th>text</th>\n",
              "      <th>category</th>\n",
              "    </tr>\n",
              "  </thead>\n",
              "  <tbody>\n",
              "    <tr>\n",
              "      <th>0</th>\n",
              "      <td>xxbos xxmaj chest : 2 images . xxmaj heart size is normal . xxmaj mediastinal contours are maintained . xxmaj there is a mild pectus excavatum deformity . xxmaj the lungs are clear of focal infiltrate . xxmaj there is no evidence for pleural effusion or pneumothorax . xxmaj no convincing acute bony findings . xxmaj right shoulder : 3 images . xxmaj there has been xxrep 4 x and screw fixation of the xxunk right clavicle . xxmaj the lateral most screw is fractured . xxmaj this is age - indeterminate as no prior studies are available for comparison . xxmaj otherwise , the surgical xxrep 4 x appears intact . xxmaj the humeral head is seen within the glenoid , without evidence for dislocation . xxmaj no bony fractures are seen . xxmaj the visualized right ribs appear intact . xxmaj right clavicle : 2 images . xxmaj</td>\n",
              "      <td>abnormal</td>\n",
              "    </tr>\n",
              "    <tr>\n",
              "      <th>1</th>\n",
              "      <td>xxbos xxmaj the heart is mildly enlarged . xxmaj the lungs are hypoinflated with mildly elevated left hemidiaphragm . xxmaj there is patchy opacity in the left lung base which may be secondary to atelectasis and / or possible infiltrate . xxmaj increased markings are noted throughout and were present on prior xxup ct . xxmaj the study is limited secondary to moderate xxrep 4 x motion . xxmaj underlying emphysematous changes are identified . xxmaj hypoinflation with elevated left hemidiaphragm and possible left basilar infiltrate versus atelectasis . xxmaj followup evaluation is suggested in 2 to 4 weeks . xxup xxunk : xxmaj exam : xxup chest xxunk xxup frontal / xxup lateral xxmaj xxunk : xxrep 4 x , xxrep 4 x xxrep 4 x xxup xxunk xxmaj comparison : xxup ct chest xxrep 4 x xxmaj history : xxmaj xxunk of xxunk xxup findings : xxmaj the</td>\n",
              "      <td>abnormal</td>\n",
              "    </tr>\n",
              "    <tr>\n",
              "      <th>2</th>\n",
              "      <td>xxbos xxmaj lungs are hyperinflated with interstitial changes of severe emphysema . xxmaj there is an ill - defined pleural parenchymal opacity in the left upper lobe . xxmaj this may represent scarring but is incompletely evaluated on the outside study , without xxunk and xxunk xxunk . xxmaj there is mild xxrep 4 x scarring and / or atelectasis in the lung bases . xxmaj lungs otherwise grossly clear . xxmaj there is no pneumothorax or pleural effusion . xxmaj heart size is normal . xxmaj there are mild degenerative endplate changes in the thoracic spine . xxmaj there is generalized osteopenia . 1 . xxmaj severe emphysema . 2 . xxmaj irregular , pleural - parenchymal opacity in left upper lobe . xxmaj this may irregular pleural - parenchymal scarring , however , recommend comparison with more remote outside imaging , if available to determine xxunk - xxunk</td>\n",
              "      <td>abnormal</td>\n",
              "    </tr>\n",
              "  </tbody>\n",
              "</table>"
            ],
            "text/plain": [
              "<IPython.core.display.HTML object>"
            ]
          },
          "metadata": {
            "tags": []
          }
        }
      ]
    },
    {
      "cell_type": "markdown",
      "metadata": {
        "id": "ORbdBqOOVzrM"
      },
      "source": [
        "## Iterative Training Process\n",
        "\n",
        "So that we don't propagate too much error through the network during training, we will train the final layers first, then iteratively _unfreeze_ (i.e. make trainable) a few preceding layers and train a little more before repeating this process."
      ]
    },
    {
      "cell_type": "code",
      "metadata": {
        "id": "nGid1qqwUxGh",
        "outputId": "bb7111a9-6311-4a98-e5d2-45c68bf77ac8",
        "colab": {
          "base_uri": "https://localhost:8080/",
          "height": 80
        }
      },
      "source": [
        "#@title Training the final layers a little...\n",
        "\n",
        "learn = text_classifier_learner(dls, AWD_LSTM, drop_mult=0.5, metrics=accuracy).to_fp16()\n",
        "if fine_tuned_LM: learn.load_encoder('fine-tuned-enc')\n",
        "learn.fit_one_cycle(1, 2e-2)"
      ],
      "execution_count": 16,
      "outputs": [
        {
          "output_type": "display_data",
          "data": {
            "text/html": [
              "<table border=\"1\" class=\"dataframe\">\n",
              "  <thead>\n",
              "    <tr style=\"text-align: left;\">\n",
              "      <th>epoch</th>\n",
              "      <th>train_loss</th>\n",
              "      <th>valid_loss</th>\n",
              "      <th>accuracy</th>\n",
              "      <th>time</th>\n",
              "    </tr>\n",
              "  </thead>\n",
              "  <tbody>\n",
              "    <tr>\n",
              "      <td>0</td>\n",
              "      <td>0.735402</td>\n",
              "      <td>0.357298</td>\n",
              "      <td>0.885913</td>\n",
              "      <td>00:09</td>\n",
              "    </tr>\n",
              "  </tbody>\n",
              "</table>"
            ],
            "text/plain": [
              "<IPython.core.display.HTML object>"
            ]
          },
          "metadata": {
            "tags": []
          }
        }
      ]
    },
    {
      "cell_type": "code",
      "metadata": {
        "id": "lpv9ZvHLWgjs",
        "outputId": "53103f37-ee70-4199-db7f-f7923a302e76",
        "colab": {
          "base_uri": "https://localhost:8080/",
          "height": 80
        }
      },
      "source": [
        "#@title Unfreezing and training a little more...\n",
        "\n",
        "learn.freeze_to(-2)\n",
        "learn.fit_one_cycle(1, slice(1e-2/(2.6**4),1e-2))"
      ],
      "execution_count": 17,
      "outputs": [
        {
          "output_type": "display_data",
          "data": {
            "text/html": [
              "<table border=\"1\" class=\"dataframe\">\n",
              "  <thead>\n",
              "    <tr style=\"text-align: left;\">\n",
              "      <th>epoch</th>\n",
              "      <th>train_loss</th>\n",
              "      <th>valid_loss</th>\n",
              "      <th>accuracy</th>\n",
              "      <th>time</th>\n",
              "    </tr>\n",
              "  </thead>\n",
              "  <tbody>\n",
              "    <tr>\n",
              "      <td>0</td>\n",
              "      <td>0.570562</td>\n",
              "      <td>0.224237</td>\n",
              "      <td>0.934524</td>\n",
              "      <td>00:11</td>\n",
              "    </tr>\n",
              "  </tbody>\n",
              "</table>"
            ],
            "text/plain": [
              "<IPython.core.display.HTML object>"
            ]
          },
          "metadata": {
            "tags": []
          }
        }
      ]
    },
    {
      "cell_type": "code",
      "metadata": {
        "id": "GQPJMdTSWzjE",
        "outputId": "b573351c-4253-4b1f-d02c-decd063bbb1e",
        "colab": {
          "base_uri": "https://localhost:8080/",
          "height": 80
        }
      },
      "source": [
        "#@title Unfreezing and training a little more, again...\n",
        "\n",
        "learn.freeze_to(-3)\n",
        "learn.fit_one_cycle(1, slice(5e-3/(2.6**4),5e-3))"
      ],
      "execution_count": 18,
      "outputs": [
        {
          "output_type": "display_data",
          "data": {
            "text/html": [
              "<table border=\"1\" class=\"dataframe\">\n",
              "  <thead>\n",
              "    <tr style=\"text-align: left;\">\n",
              "      <th>epoch</th>\n",
              "      <th>train_loss</th>\n",
              "      <th>valid_loss</th>\n",
              "      <th>accuracy</th>\n",
              "      <th>time</th>\n",
              "    </tr>\n",
              "  </thead>\n",
              "  <tbody>\n",
              "    <tr>\n",
              "      <td>0</td>\n",
              "      <td>0.447646</td>\n",
              "      <td>0.210532</td>\n",
              "      <td>0.931548</td>\n",
              "      <td>00:16</td>\n",
              "    </tr>\n",
              "  </tbody>\n",
              "</table>"
            ],
            "text/plain": [
              "<IPython.core.display.HTML object>"
            ]
          },
          "metadata": {
            "tags": []
          }
        }
      ]
    },
    {
      "cell_type": "code",
      "metadata": {
        "id": "yD3TJi2WXApk",
        "outputId": "2c6d931c-ec13-4f4d-ea03-e1d539bb3c5d",
        "colab": {
          "base_uri": "https://localhost:8080/",
          "height": 111
        }
      },
      "source": [
        "#@title Now let's unfreeze the whole model and finish training.\n",
        "\n",
        "learn.unfreeze()\n",
        "learn.fit_one_cycle(2, slice(1e-3/(2.6**4),1e-3))"
      ],
      "execution_count": 19,
      "outputs": [
        {
          "output_type": "display_data",
          "data": {
            "text/html": [
              "<table border=\"1\" class=\"dataframe\">\n",
              "  <thead>\n",
              "    <tr style=\"text-align: left;\">\n",
              "      <th>epoch</th>\n",
              "      <th>train_loss</th>\n",
              "      <th>valid_loss</th>\n",
              "      <th>accuracy</th>\n",
              "      <th>time</th>\n",
              "    </tr>\n",
              "  </thead>\n",
              "  <tbody>\n",
              "    <tr>\n",
              "      <td>0</td>\n",
              "      <td>0.355540</td>\n",
              "      <td>0.158592</td>\n",
              "      <td>0.948413</td>\n",
              "      <td>00:21</td>\n",
              "    </tr>\n",
              "    <tr>\n",
              "      <td>1</td>\n",
              "      <td>0.316223</td>\n",
              "      <td>0.165113</td>\n",
              "      <td>0.947421</td>\n",
              "      <td>00:20</td>\n",
              "    </tr>\n",
              "  </tbody>\n",
              "</table>"
            ],
            "text/plain": [
              "<IPython.core.display.HTML object>"
            ]
          },
          "metadata": {
            "tags": []
          }
        }
      ]
    },
    {
      "cell_type": "code",
      "metadata": {
        "id": "6J6anshXXXcM"
      },
      "source": [
        ""
      ],
      "execution_count": null,
      "outputs": []
    }
  ]
}