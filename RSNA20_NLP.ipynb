{
  "nbformat": 4,
  "nbformat_minor": 0,
  "metadata": {
    "colab": {
      "name": "RSNA20_NLP.ipynb",
      "provenance": [],
      "collapsed_sections": [],
      "toc_visible": true,
      "authorship_tag": "ABX9TyOYzST1BaRJPrCvqeOmuIfL",
      "include_colab_link": true
    },
    "kernelspec": {
      "name": "python3",
      "display_name": "Python 3"
    },
    "accelerator": "GPU"
  },
  "cells": [
    {
      "cell_type": "markdown",
      "metadata": {
        "id": "view-in-github",
        "colab_type": "text"
      },
      "source": [
        "<a href=\"https://colab.research.google.com/github/wfwiggins/RSNA-NLP-2020/blob/master/RSNA20_NLP.ipynb\" target=\"_parent\"><img src=\"https://colab.research.google.com/assets/colab-badge.svg\" alt=\"Open In Colab\"/></a>"
      ]
    },
    {
      "cell_type": "markdown",
      "metadata": {
        "id": "kIjz0KY4kSQV"
      },
      "source": [
        "# **RSNA 2020: Hands-on AI for Non-Coders**\n",
        "\n",
        "## **Basics of Information Extraction from Radiology Reports**\n",
        "\n",
        "In this demonstration, we will utilize techniques of _natural language processing_ (NLP) to train a classifier, which will analyze the text of radiology reports for chest radiographs to predict whether a report is **normal** or **abnormal**.\n",
        "\n",
        "### Code\n",
        "We will utilize the [fast.ai v2 library](https://docs.fast.ai/), written primarily by Jeremy Howard and Sylvain Gugger (with help from many others). It is written in the [Python programming language](https://www.python.org/) and built on top of the [PyTorch deep learning library](https://www.pytorch.org/).\n",
        "\n",
        "The demonstration in this notebook relies heavily on examples from the `fast.ai` book, _Deep Learning for Coders with fastai and PyTorch: AI Applications without a PhD_ by Jeremy Howard and Sylvain Gugger, which was written entirely in Jupyter notebooks, which are [freely available for download on GitHub](https://github.com/fastai/fastbook). A print copy of the book can be purchased from Amazon.\n",
        "\n",
        "### Data\n",
        "\n",
        "The data is obtained from the National Library of Medicine's Open-i service. We utilize the radiology reports from the [Indiana University Chest X-ray Dataset](https://openi.nlm.nih.gov/faq#collection) for this demonstration.\n",
        "\n",
        "> _Reference:_ Demner-Fushman D, Kohli MD, Rosenman MB, Shooshan SE, Rodriguez L, Antani S, Thoma GR, McDonald CJ. Preparing a collection of radiology examinations for distribution and retrieval. J Am Med Inform Assoc. 2016 Mar;23(2):304-10. doi: 10.1093/jamia/ocv080. Epub 2015 Jul 1. \n",
        "\n",
        "### Developers\n",
        "- Walter F. Wiggins, MD, PhD - Duke University Hospital, Durham, NC, USA\n",
        "- Felipe Kitamura, MD - UNIFESP, Sao Paulo, Brasil\n",
        "- Igor Santos, MD - UNIFESP, Sao Paulo, Brasil\n",
        "- Luciano M. Prevedello, MD, MPH - Ohio State University, Columbus, OH, USA"
      ]
    },
    {
      "cell_type": "markdown",
      "metadata": {
        "id": "CIrzuLMzr3Ey"
      },
      "source": [
        "# System Setup & Downloading the Data\n",
        "\n",
        "**_FIRST_: Make sure you have the runtime type set to \"GPU\".**\n",
        "\n",
        "<img src=\"https://github.com/wfwiggins/RSNA-NLP-2020/blob/master/images/set_runtime_gpu.gif?raw=true\">\n",
        "\n",
        "When you run the following cell, three things will happen:\n",
        "1. The necessary code libraries will be installed.\n",
        "2. Next, the [NLM Open-i \"Indiana University Chest X-ray Reports\" dataset](https://openi.nlm.nih.gov/faq#collection) will be downloaded.\n",
        "3. Finally, the system will restart. This _WILL_ generate an error message, which can safely be ignored 😉."
      ]
    },
    {
      "cell_type": "code",
      "metadata": {
        "id": "MIA9a7rckKil",
        "cellView": "form"
      },
      "source": [
        "#@title **Setting up the runtime environment...**\n",
        "\n",
        "import os\n",
        "\n",
        "# Install libraries\n",
        "!pip install fastai --upgrade >/dev/null\n",
        "!pip install xmltodict >/dev/null\n",
        "\n",
        "# Download the data\n",
        "!curl -s https://openi.nlm.nih.gov/imgs/collections/NLMCXR_reports.tgz | tar xvz >/dev/null\n",
        "\n",
        "# Restart the runtime\n",
        "os.kill(os.getpid(), 9)"
      ],
      "execution_count": null,
      "outputs": []
    },
    {
      "cell_type": "markdown",
      "metadata": {
        "id": "SMmKrqN5tM83"
      },
      "source": [
        "# Reformatting the Data\n",
        "\n",
        "Each of the reports is stored in _extensible markup language_ (XML) format. In order to work with the report text data more easily, we will extract the data and put it into a `pandas.DataFrame`, which is a tabular data structure.\n",
        "\n",
        "The XML metadata contains [MeSH terms](https://www.ncbi.nlm.nih.gov/mesh/) for each report. We will use these to create the _label_ for each report in our dataset. These labels will serve as the targets for training our classifier to predict whether the report is **normal** or **abnormal**."
      ]
    },
    {
      "cell_type": "code",
      "metadata": {
        "id": "Gemrv76EoQVX",
        "cellView": "form",
        "outputId": "0ee415fe-9dc4-4ddc-d743-7e203b993b30",
        "colab": {
          "base_uri": "https://localhost:8080/",
          "height": 524
        }
      },
      "source": [
        "#@title **Extracting the data...**\n",
        "\n",
        "#@markdown After the relevant data is extracted from the XML files, the total number of reports and the first 5 rows of our data table will show up below.\n",
        "\n",
        "import glob\n",
        "import xmltodict\n",
        "from fastai.basics import *\n",
        "from fastai.text.all import *\n",
        "\n",
        "def xml_parse(f):\n",
        "    with open(f) as xml:\n",
        "        report_dict = xmltodict.parse(xml.read())\n",
        "    xml.close()\n",
        "    return report_dict\n",
        "\n",
        "def get_label(report):\n",
        "    label = L(report['eCitation']['MeSH']['major'])\n",
        "    return 'normal' if label[0].lower() == 'normal' else 'abnormal'\n",
        "\n",
        "def get_text(report):\n",
        "    text_dict = {}\n",
        "    text_dict['id'] = report['eCitation']['IUXRId']['@id']\n",
        "    text = report['eCitation']['MedlineCitation']['Article']['Abstract']['AbstractText']\n",
        "    findings = text[2]['#text'] if '#text' in text[2] else ''\n",
        "    text_dict['findings'] = findings\n",
        "    impression = text[3]['#text'] if '#text' in text[3] else ''\n",
        "    text_dict['impression'] = impression\n",
        "    text_dict['full-text'] = ' '.join([findings, impression])\n",
        "    return text_dict\n",
        "\n",
        "def process_report(report):\n",
        "    label = get_label(report)\n",
        "    report_dict = get_text(report)\n",
        "    report_dict['label'] = label\n",
        "    return report_dict\n",
        "\n",
        "fps = L(glob.glob('/content/ecgen-radiology/*'))\n",
        "reports = fps.map(xml_parse)\n",
        "reports_df = pd.DataFrame(reports.map(process_report)).set_index('id').sort_index()\n",
        "print('# of reports:', reports_df.shape[0])\n",
        "print()\n",
        "reports_df.head()"
      ],
      "execution_count": 1,
      "outputs": [
        {
          "output_type": "stream",
          "text": [
            "# of reports: 3955\n",
            "\n"
          ],
          "name": "stdout"
        },
        {
          "output_type": "execute_result",
          "data": {
            "text/html": [
              "<div>\n",
              "<style scoped>\n",
              "    .dataframe tbody tr th:only-of-type {\n",
              "        vertical-align: middle;\n",
              "    }\n",
              "\n",
              "    .dataframe tbody tr th {\n",
              "        vertical-align: top;\n",
              "    }\n",
              "\n",
              "    .dataframe thead th {\n",
              "        text-align: right;\n",
              "    }\n",
              "</style>\n",
              "<table border=\"1\" class=\"dataframe\">\n",
              "  <thead>\n",
              "    <tr style=\"text-align: right;\">\n",
              "      <th></th>\n",
              "      <th>findings</th>\n",
              "      <th>impression</th>\n",
              "      <th>full-text</th>\n",
              "      <th>label</th>\n",
              "    </tr>\n",
              "    <tr>\n",
              "      <th>id</th>\n",
              "      <th></th>\n",
              "      <th></th>\n",
              "      <th></th>\n",
              "      <th></th>\n",
              "    </tr>\n",
              "  </thead>\n",
              "  <tbody>\n",
              "    <tr>\n",
              "      <th>1</th>\n",
              "      <td>The cardiac silhouette and mediastinum size are within normal limits. There is no pulmonary edema. There is no focal consolidation. There are no XXXX of a pleural effusion. There is no evidence of pneumothorax.</td>\n",
              "      <td>Normal chest x-XXXX.</td>\n",
              "      <td>The cardiac silhouette and mediastinum size are within normal limits. There is no pulmonary edema. There is no focal consolidation. There are no XXXX of a pleural effusion. There is no evidence of pneumothorax. Normal chest x-XXXX.</td>\n",
              "      <td>normal</td>\n",
              "    </tr>\n",
              "    <tr>\n",
              "      <th>10</th>\n",
              "      <td>The cardiomediastinal silhouette is within normal limits for size and contour. The lungs are normally inflated without evidence of focal airspace disease, pleural effusion, or pneumothorax. Stable calcified granuloma within the right upper lung. No acute bone abnormality..</td>\n",
              "      <td>No acute cardiopulmonary process.</td>\n",
              "      <td>The cardiomediastinal silhouette is within normal limits for size and contour. The lungs are normally inflated without evidence of focal airspace disease, pleural effusion, or pneumothorax. Stable calcified granuloma within the right upper lung. No acute bone abnormality.. No acute cardiopulmonary process.</td>\n",
              "      <td>abnormal</td>\n",
              "    </tr>\n",
              "    <tr>\n",
              "      <th>100</th>\n",
              "      <td>Both lungs are clear and expanded. Heart and mediastinum normal.</td>\n",
              "      <td>No active disease.</td>\n",
              "      <td>Both lungs are clear and expanded. Heart and mediastinum normal. No active disease.</td>\n",
              "      <td>normal</td>\n",
              "    </tr>\n",
              "    <tr>\n",
              "      <th>1000</th>\n",
              "      <td>There is XXXX increased opacity within the right upper lobe with possible mass and associated area of atelectasis or focal consolidation. The cardiac silhouette is within normal limits. XXXX opacity in the left midlung overlying the posterior left 5th rib may represent focal airspace disease. No pleural effusion or pneumothorax. No acute bone abnormality.</td>\n",
              "      <td>1. Increased opacity in the right upper lobe with XXXX associated atelectasis may represent focal consolidation or mass lesion with atelectasis. Recommend chest CT for further evaluation. 2. XXXX opacity overlying the left 5th rib may represent focal airspace disease.</td>\n",
              "      <td>There is XXXX increased opacity within the right upper lobe with possible mass and associated area of atelectasis or focal consolidation. The cardiac silhouette is within normal limits. XXXX opacity in the left midlung overlying the posterior left 5th rib may represent focal airspace disease. No pleural effusion or pneumothorax. No acute bone abnormality. 1. Increased opacity in the right upper lobe with XXXX associated atelectasis may represent focal consolidation or mass lesion with atelectasis. Recommend chest CT for further evaluation. 2. XXXX opacity overlying the left 5th rib may rep...</td>\n",
              "      <td>abnormal</td>\n",
              "    </tr>\n",
              "    <tr>\n",
              "      <th>1001</th>\n",
              "      <td>Interstitial markings are diffusely prominent throughout both lungs. Heart size is normal. Pulmonary XXXX normal.</td>\n",
              "      <td>Diffuse fibrosis. No visible focal acute disease.</td>\n",
              "      <td>Interstitial markings are diffusely prominent throughout both lungs. Heart size is normal. Pulmonary XXXX normal. Diffuse fibrosis. No visible focal acute disease.</td>\n",
              "      <td>abnormal</td>\n",
              "    </tr>\n",
              "  </tbody>\n",
              "</table>\n",
              "</div>"
            ],
            "text/plain": [
              "                                                                                                                                                                                                                                                                                                                                                                   findings  ...     label\n",
              "id                                                                                                                                                                                                                                                                                                                                                                           ...          \n",
              "1                                                                                                                                                        The cardiac silhouette and mediastinum size are within normal limits. There is no pulmonary edema. There is no focal consolidation. There are no XXXX of a pleural effusion. There is no evidence of pneumothorax.  ...    normal\n",
              "10                                                                                        The cardiomediastinal silhouette is within normal limits for size and contour. The lungs are normally inflated without evidence of focal airspace disease, pleural effusion, or pneumothorax. Stable calcified granuloma within the right upper lung. No acute bone abnormality..  ...  abnormal\n",
              "100                                                                                                                                                                                                                                                                                                        Both lungs are clear and expanded. Heart and mediastinum normal.  ...    normal\n",
              "1000  There is XXXX increased opacity within the right upper lobe with possible mass and associated area of atelectasis or focal consolidation. The cardiac silhouette is within normal limits. XXXX opacity in the left midlung overlying the posterior left 5th rib may represent focal airspace disease. No pleural effusion or pneumothorax. No acute bone abnormality.  ...  abnormal\n",
              "1001                                                                                                                                                                                                                                                      Interstitial markings are diffusely prominent throughout both lungs. Heart size is normal. Pulmonary XXXX normal.  ...  abnormal\n",
              "\n",
              "[5 rows x 4 columns]"
            ]
          },
          "metadata": {
            "tags": []
          },
          "execution_count": 1
        }
      ]
    },
    {
      "cell_type": "markdown",
      "metadata": {
        "id": "4sANCvWZy2_5"
      },
      "source": [
        "# Exploring the data\n",
        "\n",
        "Let's look through a little more of the data to get a feel for what we're working with and how we might want to design the subsequent model training experiments.\n",
        "\n",
        "We'll then take a look at how many normals and abnormals we have to work with."
      ]
    },
    {
      "cell_type": "code",
      "metadata": {
        "id": "HJQupI3dyCTB",
        "cellView": "form",
        "outputId": "4e90e0f3-6832-49ab-8f01-00f6cb3ccfdb",
        "colab": {
          "base_uri": "https://localhost:8080/",
          "height": 524
        }
      },
      "source": [
        "#@title **Run this cell several times to view random samples of the data**\n",
        "\n",
        "reports_df.sample(5)"
      ],
      "execution_count": 2,
      "outputs": [
        {
          "output_type": "execute_result",
          "data": {
            "text/html": [
              "<div>\n",
              "<style scoped>\n",
              "    .dataframe tbody tr th:only-of-type {\n",
              "        vertical-align: middle;\n",
              "    }\n",
              "\n",
              "    .dataframe tbody tr th {\n",
              "        vertical-align: top;\n",
              "    }\n",
              "\n",
              "    .dataframe thead th {\n",
              "        text-align: right;\n",
              "    }\n",
              "</style>\n",
              "<table border=\"1\" class=\"dataframe\">\n",
              "  <thead>\n",
              "    <tr style=\"text-align: right;\">\n",
              "      <th></th>\n",
              "      <th>findings</th>\n",
              "      <th>impression</th>\n",
              "      <th>full-text</th>\n",
              "      <th>label</th>\n",
              "    </tr>\n",
              "    <tr>\n",
              "      <th>id</th>\n",
              "      <th></th>\n",
              "      <th></th>\n",
              "      <th></th>\n",
              "      <th></th>\n",
              "    </tr>\n",
              "  </thead>\n",
              "  <tbody>\n",
              "    <tr>\n",
              "      <th>1110</th>\n",
              "      <td>Cardiomediastinal contours within normal limits. Pulmonary vascularity is normal. There are scattered calcified testes bilaterally, consistent with prior granulomatous infection, stable. No XXXX focal airspace consolidation. No pleural effusion, no pneumothorax. Bony structures unremarkable.</td>\n",
              "      <td>No acute cardiopulmonary abnormality. Prior granulomatous infection.</td>\n",
              "      <td>Cardiomediastinal contours within normal limits. Pulmonary vascularity is normal. There are scattered calcified testes bilaterally, consistent with prior granulomatous infection, stable. No XXXX focal airspace consolidation. No pleural effusion, no pneumothorax. Bony structures unremarkable. No acute cardiopulmonary abnormality. Prior granulomatous infection.</td>\n",
              "      <td>abnormal</td>\n",
              "    </tr>\n",
              "    <tr>\n",
              "      <th>3247</th>\n",
              "      <td></td>\n",
              "      <td>Heart size normal. Lungs are clear. No nodules or masses. No effusions or fibrosis</td>\n",
              "      <td>Heart size normal. Lungs are clear. No nodules or masses. No effusions or fibrosis</td>\n",
              "      <td>normal</td>\n",
              "    </tr>\n",
              "    <tr>\n",
              "      <th>2265</th>\n",
              "      <td></td>\n",
              "      <td>Hyperinflated lungs as before compatible with emphysema. Left apical chronic inflammatory and fibrotic changes with apical hilar retraction, unchanged since prior XXXX. XXXX opacities and chronic inflammatory change right midlung as before. Stable mediastinal contour without overt evidence of adenopathy. No acute airspace disease or CHF. No XXXX acute abnormalities since the previous chest radiograph.</td>\n",
              "      <td>Hyperinflated lungs as before compatible with emphysema. Left apical chronic inflammatory and fibrotic changes with apical hilar retraction, unchanged since prior XXXX. XXXX opacities and chronic inflammatory change right midlung as before. Stable mediastinal contour without overt evidence of adenopathy. No acute airspace disease or CHF. No XXXX acute abnormalities since the previous chest radiograph.</td>\n",
              "      <td>abnormal</td>\n",
              "    </tr>\n",
              "    <tr>\n",
              "      <th>3378</th>\n",
              "      <td>There is a moderate right-sided pneumothorax measuring approximately 3.3 cm in the right apex. There is a minimally displaced right lateral 8th rib fracture and probable nondisplaced right lateral 7th rib fracture. Cardiomediastinal silhouette is within normal limits. Left lung is clear.</td>\n",
              "      <td>1. Moderate right-sided pneumothorax measuring approximately 3.3 cm in the right apex. 2. Minimally displaced right lateral 8th rib fracture probable nondisplaced right lateral 7th rib fracture.</td>\n",
              "      <td>There is a moderate right-sided pneumothorax measuring approximately 3.3 cm in the right apex. There is a minimally displaced right lateral 8th rib fracture and probable nondisplaced right lateral 7th rib fracture. Cardiomediastinal silhouette is within normal limits. Left lung is clear. 1. Moderate right-sided pneumothorax measuring approximately 3.3 cm in the right apex. 2. Minimally displaced right lateral 8th rib fracture probable nondisplaced right lateral 7th rib fracture.</td>\n",
              "      <td>abnormal</td>\n",
              "    </tr>\n",
              "    <tr>\n",
              "      <th>1266</th>\n",
              "      <td>The lungs are clear. There are calcified granulomas. Heart size is normal. No pneumothorax.</td>\n",
              "      <td>No acute cardiopulmonary abnormality.</td>\n",
              "      <td>The lungs are clear. There are calcified granulomas. Heart size is normal. No pneumothorax. No acute cardiopulmonary abnormality.</td>\n",
              "      <td>abnormal</td>\n",
              "    </tr>\n",
              "  </tbody>\n",
              "</table>\n",
              "</div>"
            ],
            "text/plain": [
              "                                                                                                                                                                                                                                                                                                  findings  ...     label\n",
              "id                                                                                                                                                                                                                                                                                                          ...          \n",
              "1110  Cardiomediastinal contours within normal limits. Pulmonary vascularity is normal. There are scattered calcified testes bilaterally, consistent with prior granulomatous infection, stable. No XXXX focal airspace consolidation. No pleural effusion, no pneumothorax. Bony structures unremarkable.  ...  abnormal\n",
              "3247                                                                                                                                                                                                                                                                                                        ...    normal\n",
              "2265                                                                                                                                                                                                                                                                                                        ...  abnormal\n",
              "3378      There is a moderate right-sided pneumothorax measuring approximately 3.3 cm in the right apex. There is a minimally displaced right lateral 8th rib fracture and probable nondisplaced right lateral 7th rib fracture. Cardiomediastinal silhouette is within normal limits. Left lung is clear.  ...  abnormal\n",
              "1266                                                                                                                                                                                                           The lungs are clear. There are calcified granulomas. Heart size is normal. No pneumothorax.  ...  abnormal\n",
              "\n",
              "[5 rows x 4 columns]"
            ]
          },
          "metadata": {
            "tags": []
          },
          "execution_count": 2
        }
      ]
    },
    {
      "cell_type": "markdown",
      "metadata": {
        "id": "qq2-xd-YyrpC"
      },
      "source": [
        "Here are some of the things you may have noticed about the data, as you reviewed it:\n",
        "- Some reports only have an Impression (i.e. no separate Findings section)\n",
        "- Many reports contain blocks of \"XXXX\" text. This is due to the fact that these reports were anonymized prior to releasing them as an open data set. These blocks likely represent _named entities_ or dates.\n",
        "- As expected, there is wide variation in the length of these chest radiograph reports.\n",
        "\n",
        "Importantly, there are some reports where the \"Impression\" states something along the lines of \"No acute cardiopulmonary abnormality\" but the label is \"abnormal\". It seems like this is usually due to a chronic incidental finding or artifact that is mentioned in the \"Findings\", but isn't included in the \"Impression\".\n",
        "\n",
        "> We'll revisit this point later when we're deciding which text from the report we want to use to train our classifier.\n",
        "\n",
        "Next, let's count how many of each label we have.\n"
      ]
    },
    {
      "cell_type": "code",
      "metadata": {
        "id": "nqY-EC3opnBW",
        "cellView": "form",
        "outputId": "489a5d1e-6683-4efd-de51-38068452b57b",
        "colab": {
          "base_uri": "https://localhost:8080/",
          "height": 354
        }
      },
      "source": [
        "#@title **Label counts: # of Normals & Abnormals**\n",
        "\n",
        "label_counts = reports_df.label.value_counts()\n",
        "print('Abnormal:', label_counts['abnormal'])\n",
        "print('Normal:', label_counts['normal'])\n",
        "print()\n",
        "label_counts.plot.bar();"
      ],
      "execution_count": 3,
      "outputs": [
        {
          "output_type": "stream",
          "text": [
            "Abnormal: 2564\n",
            "Normal: 1391\n",
            "\n"
          ],
          "name": "stdout"
        },
        {
          "output_type": "display_data",
          "data": {
            "image/png": "[encoded data removed]",
            "text/plain": [
              "<Figure size 432x288 with 1 Axes>"
            ]
          },
          "metadata": {
            "tags": [],
            "needs_background": "light"
          }
        }
      ]
    },
    {
      "cell_type": "markdown",
      "metadata": {
        "id": "fGQenIsg0uqe"
      },
      "source": [
        "As we see in the bar graph above, there are almost twice as many abnormal reports as there are normal reports. This will be important to remember as we partition our data into training, validation, and test sets.\n",
        "\n",
        "In fact, we'll go ahead and split off (\"hold out\") the test set right now to ensure our model is not exposed to it until the very end. \n",
        "\n",
        "We'll set it up such that the our test set is 15% of our full data set and keep the relative percentage of labels the same as in our full dataset."
      ]
    },
    {
      "cell_type": "code",
      "metadata": {
        "id": "NCMPqjqvs1Mc",
        "cellView": "form",
        "outputId": "fceefc18-c1d2-492c-bb3d-f9da339adc42",
        "colab": {
          "base_uri": "https://localhost:8080/",
          "height": 372
        }
      },
      "source": [
        "#@title **Test set label counts**\n",
        "\n",
        "from sklearn.model_selection import train_test_split\n",
        "\n",
        "np.random.seed(42)\n",
        "\n",
        "train_val, test_df = train_test_split(reports_df, test_size=0.15, stratify=reports_df.label.values)\n",
        "print('Test set size:', test_df.shape[0])\n",
        "test_counts = test_df.label.value_counts()\n",
        "print('Abnormal:', test_counts['abnormal'])\n",
        "print('Normal:', test_counts['normal'])\n",
        "print()\n",
        "test_counts.plot.bar();"
      ],
      "execution_count": 4,
      "outputs": [
        {
          "output_type": "stream",
          "text": [
            "Test set size: 594\n",
            "Abnormal: 385\n",
            "Normal: 209\n",
            "\n"
          ],
          "name": "stdout"
        },
        {
          "output_type": "display_data",
          "data": {
            "image/png": "[encoded data removed]",
            "text/plain": [
              "<Figure size 432x288 with 1 Axes>"
            ]
          },
          "metadata": {
            "tags": [],
            "needs_background": "light"
          }
        }
      ]
    },
    {
      "cell_type": "markdown",
      "metadata": {
        "id": "HI7CMLEg6VjL"
      },
      "source": [
        "# Language Modeling\n",
        "\n",
        "The types of algorithms we use in NLP work with with numbers, not text. Therefore, we need a way to convert text into numbers. We also want a way for those numbers to contain a little more information about the text they represent. Here, we'll describe the steps in preparing our text for _language modeling_.\n",
        "\n",
        "## Tokenization\n",
        "\n",
        "_Tokenization_ is the process by which we split text into chunks or _tokens_. An individual token could be a sentence or phrase, a word, a part of a word, or a single character. Most often, we choose to tokenize at the word or sub-word level.\n",
        "\n",
        "Each token is assigned a sequential integer value and the collection of token-integer pairs is called our _vocabulary_.\n"
      ]
    },
    {
      "cell_type": "code",
      "metadata": {
        "id": "oBodPuEb5XMK",
        "cellView": "form",
        "outputId": "4aeb0306-e65a-4288-82bb-2f7399bd35d2",
        "colab": {
          "base_uri": "https://localhost:8080/",
          "height": 122
        }
      },
      "source": [
        "#@title **Word Tokenization**\n",
        "\n",
        "spacy = WordTokenizer()\n",
        "text = train_val.iloc[0]['full-text']\n",
        "print('Original text:')\n",
        "print(text)\n",
        "print()\n",
        "tkns = first(spacy([text]))\n",
        "print('After word tokenization (only showing first 10 tokens):')\n",
        "print(coll_repr(tkns))"
      ],
      "execution_count": 5,
      "outputs": [
        {
          "output_type": "stream",
          "text": [
            "Original text:\n",
            "The XXXX examination consists of frontal and lateral radiographs of the chest. The cardiac silhouette is not enlarged. There has been apparent interval increase in low density convexity at the left cardiophrenic XXXX. Calcified granuloma is again seen in the right upper lobe. There is no consolidation, pleural effusion or pneumothorax. Increased size of density in the left cardiophrenic XXXX. Primary differential considerations include increased size of prominent epicardial fat, pericardial mass, pleural mass or cardiac aneurysm. CT chest with contrast is recommended. These findings and recommendations were discussed XXXX. XXXX by Dr. XXXX XXXX telephone at XXXX p.m. XXXX/XXXX. Dr. XXXX<XXXX>technologist receipt of the results.\n",
            "\n",
            "After word tokenization (only showing first 10 tokens):\n",
            "(#126) ['The','XXXX','examination','consists','of','frontal','and','lateral','radiographs','of'...]\n"
          ],
          "name": "stdout"
        }
      ]
    },
    {
      "cell_type": "markdown",
      "metadata": {
        "id": "1QrDY1dqKw_1"
      },
      "source": [
        "## Added features from fast.ai\n",
        "\n",
        "You'll notice some odd-appearing tokens in the output from the next cell. These are special tokens that indicate certain things about the text.\n",
        "- `'xxbos'` indicates the beginning of the text _stream_\n",
        "- `'xxmaj'` indicates that the following character was capitalized before fast.ai lowered it\n",
        "- `'xxrep'` followed by `'4', 'x'` means that `'x'` is repeated 4 times...the `XXXX` in the reports is a product of the _anonymization_ process that the team who generated the dataset used \n",
        "\n",
        "These special tokens enrich the data while reducing the vocab by eliminating redundant upper and lower case variants of individual words."
      ]
    },
    {
      "cell_type": "code",
      "metadata": {
        "id": "AzhXiIreGk7T",
        "cellView": "form",
        "outputId": "6edc4414-da32-49ca-c42b-2d4b47633c30",
        "colab": {
          "base_uri": "https://localhost:8080/",
          "height": 34
        }
      },
      "source": [
        "#@title **fast.ai Tokenization**\n",
        "\n",
        "tkn = Tokenizer(spacy)\n",
        "toks = tkn(text)\n",
        "print(coll_repr(toks, 15))"
      ],
      "execution_count": 6,
      "outputs": [
        {
          "output_type": "stream",
          "text": [
            "(#164) ['xxbos','xxmaj','the','xxrep','4','x','examination','consists','of','frontal','and','lateral','radiographs','of','the'...]\n"
          ],
          "name": "stdout"
        }
      ]
    },
    {
      "cell_type": "markdown",
      "metadata": {
        "id": "FqTTlDBHM7Z3"
      },
      "source": [
        "## Numericalization\n",
        "\n",
        "After converting text to tokens, the next step is to convert each unique token to a number.\n",
        "\n",
        "For language modeling, we should do this on all of the text that we might use for training and validation. So we'll carry this out on the combined **Findings** and **Impression** for each of our reports and tokenize the text to define our _vocabulary_. Each token in the vocabulary will be identified by a unique number."
      ]
    },
    {
      "cell_type": "code",
      "metadata": {
        "id": "9jB19pgwKUWU",
        "cellView": "form",
        "outputId": "e92fb35a-1e09-4958-998c-a195eb4051d8",
        "colab": {
          "base_uri": "https://localhost:8080/",
          "height": 35
        }
      },
      "source": [
        "#@title **Computing vocabulary...**\n",
        "\n",
        "txts = L(train_val['full-text'].to_list())\n",
        "toks = txts.map(tkn)\n",
        "num = Numericalize()\n",
        "num.setup(toks)\n",
        "coll_repr(num.vocab, 20)"
      ],
      "execution_count": 7,
      "outputs": [
        {
          "output_type": "execute_result",
          "data": {
            "application/vnd.google.colaboratory.intrinsic+json": {
              "type": "string"
            },
            "text/plain": [
              "\"(#1192) ['xxunk','xxpad','xxbos','xxeos','xxfld','xxrep','xxwrep','xxup','xxmaj','.','no','the','is','are','normal',',','4','x','of','and'...]\""
            ]
          },
          "metadata": {
            "tags": []
          },
          "execution_count": 7
        }
      ]
    },
    {
      "cell_type": "markdown",
      "metadata": {
        "id": "mrete-DVQzpT"
      },
      "source": [
        "As you can see above, we have 1,192 tokens in our vocabulary. The special tokens from `fast.ai` appear first, followed by every other token in order of decreasing frequency. By default, `fast.ai` only includes tokens that appear at least 3 times in the _corpus_ (collection of texts). "
      ]
    },
    {
      "cell_type": "code",
      "metadata": {
        "id": "apVezMTKOtd1",
        "cellView": "form",
        "outputId": "dbe0cafc-5ea3-4f9c-c436-b3b946075645",
        "colab": {
          "base_uri": "https://localhost:8080/",
          "height": 51
        }
      },
      "source": [
        "#@title **Numericalizing tokens...**\n",
        "\n",
        "nums = num(toks[0][:14])\n",
        "print(nums)\n",
        "print(' '.join(num.vocab[i] for i in nums))"
      ],
      "execution_count": 8,
      "outputs": [
        {
          "output_type": "stream",
          "text": [
            "TensorText([  2,   8,  11,   5,  16,  17, 162, 314,  18, 178,  19,  89, 261,  18])\n",
            "xxbos xxmaj the xxrep 4 x examination consists of frontal and lateral radiographs of\n"
          ],
          "name": "stdout"
        }
      ]
    },
    {
      "cell_type": "markdown",
      "metadata": {
        "id": "Ln-1OfouTxvH"
      },
      "source": [
        "Here, we see a subset of the numericalized tokens (top) with their corresponding word tokens (bottom) from the first report in our _corpus_.\n",
        "\n",
        "## Embedding\n",
        "\n",
        "While these integers map one-to-one onto our tokens, their numeric value is otherwise meaningless. To embed more information into the numeric representation of our tokens, we employ a process called _language modeling_. We can either use a pre-trained language model for this _embedding_ or we can fine-tune a language model to better model our \"radiology language\". This latter process is called _transfer learning_."
      ]
    },
    {
      "cell_type": "markdown",
      "metadata": {
        "id": "PTH79qDqW4Zw"
      },
      "source": [
        "## Language Model Transfer Learning\n",
        "\n",
        "> Given a string of tokenized text, a _language model_ is trained to predict the next token. \n",
        "\n",
        "By default, `fastai.text` uses a language model pre-trained on the WikiText-103 corpus, which is a frequently used benchmark for NLP models, similar to ImageNet for image classification models.\n",
        "\n",
        "In their 2018 ACL paper \"[Universal Language Model Fine-Tuning for Text Classification](https://arxiv.org/abs/1801.06146)\", Jeremy Howard and Sebastian Ruder proposed the ULM-FiT approach of fine-tuning the language model on the corpus on which a second text classification model is trained. In the paper, they demonstrated state-of-the-art performance on a commonly used text classification example using this method.\n",
        "\n",
        "Here, we will fine-tune the language model on our radiology report text in two stages.\n",
        "\n",
        "> **NOTE:** This portion of the notebook takes between 3 and 10 minutes to run. It's ok to skip this section for now and jump ahead to \"Report Classifier Training\"."
      ]
    },
    {
      "cell_type": "code",
      "metadata": {
        "id": "MJAoDjvwS9X0",
        "cellView": "form",
        "outputId": "2c1568f1-75d4-480b-939d-5b74cd2b7375",
        "colab": {
          "base_uri": "https://localhost:8080/",
          "height": 524
        }
      },
      "source": [
        "#@title **Fine-tuning the language model...**\n",
        "\n",
        "dls_lm = TextDataLoaders.from_df(train_val, valid_pct=0.3, seed=42, text_col='full-text', is_lm=True)\n",
        "learn_lm = language_model_learner(dls_lm, AWD_LSTM, metrics=[accuracy, Perplexity()]).to_fp16()\n",
        "\n",
        "# Train the final layers of the network\n",
        "learn_lm.fit_one_cycle(1, 2e-2)\n",
        "print(\"\\nPart 1/2 complete.\\n\")\n",
        "\n",
        "# Unfreeze and train some more\n",
        "learn_lm.unfreeze()\n",
        "learn_lm.fit_one_cycle(10, 2e-3)\n",
        "print(\"\\nPart 2/2 complete.\\n\")"
      ],
      "execution_count": 9,
      "outputs": [
        {
          "output_type": "display_data",
          "data": {
            "text/html": [
              ""
            ],
            "text/plain": [
              "<IPython.core.display.HTML object>"
            ]
          },
          "metadata": {
            "tags": []
          }
        },
        {
          "output_type": "display_data",
          "data": {
            "text/html": [
              "<table border=\"1\" class=\"dataframe\">\n",
              "  <thead>\n",
              "    <tr style=\"text-align: left;\">\n",
              "      <th>epoch</th>\n",
              "      <th>train_loss</th>\n",
              "      <th>valid_loss</th>\n",
              "      <th>accuracy</th>\n",
              "      <th>perplexity</th>\n",
              "      <th>time</th>\n",
              "    </tr>\n",
              "  </thead>\n",
              "  <tbody>\n",
              "    <tr>\n",
              "      <td>0</td>\n",
              "      <td>3.611969</td>\n",
              "      <td>2.280960</td>\n",
              "      <td>0.516965</td>\n",
              "      <td>9.786069</td>\n",
              "      <td>00:07</td>\n",
              "    </tr>\n",
              "  </tbody>\n",
              "</table>"
            ],
            "text/plain": [
              "<IPython.core.display.HTML object>"
            ]
          },
          "metadata": {
            "tags": []
          }
        },
        {
          "output_type": "stream",
          "text": [
            "\n",
            "Part 1/2 complete.\n",
            "\n"
          ],
          "name": "stdout"
        },
        {
          "output_type": "display_data",
          "data": {
            "text/html": [
              "<table border=\"1\" class=\"dataframe\">\n",
              "  <thead>\n",
              "    <tr style=\"text-align: left;\">\n",
              "      <th>epoch</th>\n",
              "      <th>train_loss</th>\n",
              "      <th>valid_loss</th>\n",
              "      <th>accuracy</th>\n",
              "      <th>perplexity</th>\n",
              "      <th>time</th>\n",
              "    </tr>\n",
              "  </thead>\n",
              "  <tbody>\n",
              "    <tr>\n",
              "      <td>0</td>\n",
              "      <td>2.570997</td>\n",
              "      <td>2.046517</td>\n",
              "      <td>0.559076</td>\n",
              "      <td>7.740893</td>\n",
              "      <td>00:07</td>\n",
              "    </tr>\n",
              "    <tr>\n",
              "      <td>1</td>\n",
              "      <td>2.387591</td>\n",
              "      <td>1.795447</td>\n",
              "      <td>0.602714</td>\n",
              "      <td>6.022168</td>\n",
              "      <td>00:07</td>\n",
              "    </tr>\n",
              "    <tr>\n",
              "      <td>2</td>\n",
              "      <td>2.182930</td>\n",
              "      <td>1.643015</td>\n",
              "      <td>0.632497</td>\n",
              "      <td>5.170735</td>\n",
              "      <td>00:07</td>\n",
              "    </tr>\n",
              "    <tr>\n",
              "      <td>3</td>\n",
              "      <td>1.998886</td>\n",
              "      <td>1.531268</td>\n",
              "      <td>0.655247</td>\n",
              "      <td>4.624034</td>\n",
              "      <td>00:07</td>\n",
              "    </tr>\n",
              "    <tr>\n",
              "      <td>4</td>\n",
              "      <td>1.883715</td>\n",
              "      <td>1.486161</td>\n",
              "      <td>0.664162</td>\n",
              "      <td>4.420094</td>\n",
              "      <td>00:07</td>\n",
              "    </tr>\n",
              "    <tr>\n",
              "      <td>5</td>\n",
              "      <td>1.769311</td>\n",
              "      <td>1.440580</td>\n",
              "      <td>0.671868</td>\n",
              "      <td>4.223145</td>\n",
              "      <td>00:07</td>\n",
              "    </tr>\n",
              "    <tr>\n",
              "      <td>6</td>\n",
              "      <td>1.663484</td>\n",
              "      <td>1.414984</td>\n",
              "      <td>0.680876</td>\n",
              "      <td>4.116421</td>\n",
              "      <td>00:07</td>\n",
              "    </tr>\n",
              "    <tr>\n",
              "      <td>7</td>\n",
              "      <td>1.578269</td>\n",
              "      <td>1.397484</td>\n",
              "      <td>0.682721</td>\n",
              "      <td>4.045010</td>\n",
              "      <td>00:07</td>\n",
              "    </tr>\n",
              "    <tr>\n",
              "      <td>8</td>\n",
              "      <td>1.519939</td>\n",
              "      <td>1.391564</td>\n",
              "      <td>0.685471</td>\n",
              "      <td>4.021136</td>\n",
              "      <td>00:07</td>\n",
              "    </tr>\n",
              "    <tr>\n",
              "      <td>9</td>\n",
              "      <td>1.480243</td>\n",
              "      <td>1.390303</td>\n",
              "      <td>0.685781</td>\n",
              "      <td>4.016066</td>\n",
              "      <td>00:07</td>\n",
              "    </tr>\n",
              "  </tbody>\n",
              "</table>"
            ],
            "text/plain": [
              "<IPython.core.display.HTML object>"
            ]
          },
          "metadata": {
            "tags": []
          }
        },
        {
          "output_type": "stream",
          "text": [
            "\n",
            "Part 2/2 complete.\n",
            "\n"
          ],
          "name": "stdout"
        }
      ]
    },
    {
      "cell_type": "code",
      "metadata": {
        "id": "A3TeFPXNerD2",
        "cellView": "form",
        "outputId": "2c2ea897-282d-48d9-e6c9-41cd8d4f80f7",
        "colab": {
          "base_uri": "https://localhost:8080/",
          "height": 34
        }
      },
      "source": [
        "#@title **Saving the embedding layers and vocab of our fine-tuned language model...**\n",
        "\n",
        "#@markdown We need to save this model state in a special format in order to use it for our Embedding layer in the text classification model.\n",
        "\n",
        "#@markdown We also want to use the same vocabulary that we used for the ULM-FiT procedure in our classification model.\n",
        "\n",
        "torch.save(learn_lm.dls.vocab, 'vocab.pkl')\n",
        "learn_lm.save_encoder('fine-tuned-enc')\n",
        "print('Saved.')"
      ],
      "execution_count": 10,
      "outputs": [
        {
          "output_type": "stream",
          "text": [
            "Saved.\n"
          ],
          "name": "stdout"
        }
      ]
    },
    {
      "cell_type": "markdown",
      "metadata": {
        "id": "hQgjglXrQmBK"
      },
      "source": [
        "# Report Classifier Training\n",
        "\n",
        "In the steps that follow, we will train a second model as a text classifier, using embeddings from our fine-tuned language model. We will then test the classifier on our held-out test set to see how it performs on data it hasn't seen yet."
      ]
    },
    {
      "cell_type": "code",
      "metadata": {
        "id": "BpySN4uawgCM",
        "cellView": "form",
        "outputId": "f6571169-a3c9-4ab9-8c63-95eccbc7386b",
        "colab": {
          "base_uri": "https://localhost:8080/",
          "height": 34
        }
      },
      "source": [
        "#@title **Download the vocab & embedding layers**\n",
        "\n",
        "#@markdown If you skipped the previous section where we fine-tuned the language model, run this cell to download the vocab and embedding layers from GitHub.\n",
        "\n",
        "!wget -q https://github.com/wfwiggins/RSNA-NLP-2020/blob/master/lm_data.zip?raw=true\n",
        "!unzip -o lm_data.zip?raw=true -d /content/ >/dev/null\n",
        "!rm lm_data.zip?raw=true\n",
        "\n",
        "print('Success!')"
      ],
      "execution_count": 11,
      "outputs": [
        {
          "output_type": "stream",
          "text": [
            "Success!\n"
          ],
          "name": "stdout"
        }
      ]
    },
    {
      "cell_type": "code",
      "metadata": {
        "id": "dGez3xTLQk4K",
        "cellView": "form",
        "outputId": "a63db136-9086-4730-fa59-e656c24eea29",
        "colab": {
          "base_uri": "https://localhost:8080/",
          "height": 312
        }
      },
      "source": [
        "#@title **Setting up the training experiment**\n",
        "\n",
        "#@markdown Select options for training, then run the next few cells to train and test your model.\n",
        "#@markdown Once you've viewed the results, you can come back and run this cell again under different conditions to see how each selection affects model performance.\n",
        "\n",
        "#@markdown After you run the cell, a sample batch of the training data will be displayed.\n",
        "\n",
        "training_target = 'full-text' #@param [\"full-text\", \"findings\", \"impression\"]\n",
        "validation_pct = 0.3 #@param {type:\"slider\", min:0.1, max:0.4, step:0.05}\n",
        "fine_tuned_LM = True #@param {type:\"boolean\"}\n",
        "\n",
        "lm_vocab = torch.load('vocab.pkl')\n",
        "dls_cls = TextDataLoaders.from_df(train_val, valid_pct=validation_pct, seed=42, text_col=training_target, label_col='label', text_vocab=lm_vocab)\n",
        "dls_cls.show_batch(max_n=3)"
      ],
      "execution_count": 12,
      "outputs": [
        {
          "output_type": "display_data",
          "data": {
            "text/html": [
              ""
            ],
            "text/plain": [
              "<IPython.core.display.HTML object>"
            ]
          },
          "metadata": {
            "tags": []
          }
        },
        {
          "output_type": "display_data",
          "data": {
            "text/html": [
              "<table border=\"1\" class=\"dataframe\">\n",
              "  <thead>\n",
              "    <tr style=\"text-align: right;\">\n",
              "      <th></th>\n",
              "      <th>text</th>\n",
              "      <th>category</th>\n",
              "    </tr>\n",
              "  </thead>\n",
              "  <tbody>\n",
              "    <tr>\n",
              "      <th>0</th>\n",
              "      <td>xxbos xxmaj chest xxmaj comparison : xxmaj there is a xxunk cm diameter masslike density over the lingula partial obscuration left cardiac xxrep 4 x . xxmaj there may be some ill - defined opacity in the right mid and lower lung zone . xxmaj no pleural effusion is seen . xxmaj the heart is borderline enlarged . xxmaj the aorta is dilated and tortuous . xxmaj arthritic changes of the spine are present . xxmaj pelvis and left hip xxmaj there is an xxunk and rotated fracture through the neck of the femur on the left . xxmaj no xxunk fracture is seen . xxmaj arthritic changes are present in the lower lumbar spine . xxmaj large amount of stool and xxrep 4 x obscures portions of the pelvis . xxmaj femur xxmaj the femoral images do not xxrep 4 x the area of the hip fracture . xxmaj</td>\n",
              "      <td>abnormal</td>\n",
              "    </tr>\n",
              "    <tr>\n",
              "      <th>1</th>\n",
              "      <td>xxbos xxmaj chest : 2 images . xxmaj heart size is normal . xxmaj mediastinal contours are maintained . xxmaj there is a mild pectus excavatum deformity . xxmaj the lungs are clear of focal infiltrate . xxmaj there is no evidence for pleural effusion or pneumothorax . xxmaj no convincing acute bony findings . xxmaj right shoulder : 3 images . xxmaj there has been xxrep 4 x and screw fixation of the xxunk right clavicle . xxmaj the lateral most screw is fractured . xxmaj this is age - indeterminate as no prior studies are available for comparison . xxmaj otherwise , the surgical xxrep 4 x appears intact . xxmaj the humeral head is seen within the glenoid , without evidence for dislocation . xxmaj no bony fractures are seen . xxmaj the visualized right ribs appear intact . xxmaj right clavicle : 2 images . xxmaj</td>\n",
              "      <td>abnormal</td>\n",
              "    </tr>\n",
              "    <tr>\n",
              "      <th>2</th>\n",
              "      <td>xxpad xxpad xxpad xxpad xxpad xxpad xxpad xxpad xxpad xxpad xxpad xxpad xxpad xxpad xxpad xxpad xxpad xxpad xxpad xxpad xxpad xxpad xxpad xxpad xxpad xxpad xxpad xxpad xxpad xxpad xxpad xxpad xxpad xxpad xxpad xxpad xxpad xxpad xxpad xxpad xxpad xxpad xxpad xxpad xxpad xxpad xxpad xxpad xxpad xxpad xxpad xxpad xxpad xxpad xxpad xxpad xxpad xxpad xxpad xxpad xxpad xxpad xxpad xxpad xxpad xxpad xxpad xxpad xxpad xxpad xxpad xxpad xxbos xxmaj the heart size and pulmonary vascularity appear within normal limits . xxmaj the lungs are free of focal airspace disease . xxmaj no pleural effusion or pneumothorax is seen . xxmaj osteopenia and xxrep 4 x deformities , degenerative changes and scoliosis are present in the thoracic spine . xxmaj calcified granuloma is present in the left upper lobe . xxmaj on xxrep 4 x xxunk of a xxrep 4 x scan xxrep 4 x xxrep</td>\n",
              "      <td>abnormal</td>\n",
              "    </tr>\n",
              "  </tbody>\n",
              "</table>"
            ],
            "text/plain": [
              "<IPython.core.display.HTML object>"
            ]
          },
          "metadata": {
            "tags": []
          }
        }
      ]
    },
    {
      "cell_type": "markdown",
      "metadata": {
        "id": "ORbdBqOOVzrM"
      },
      "source": [
        "## Iterative Training Process\n",
        "\n",
        "So that we don't propagate too much error through the network during training, we will train the final layers first, then iteratively _unfreeze_ (i.e. make trainable) a few preceding layers and train a little more before repeating this process."
      ]
    },
    {
      "cell_type": "code",
      "metadata": {
        "id": "nGid1qqwUxGh",
        "cellView": "form",
        "outputId": "efcd6f9d-8d25-4e74-b34f-fbd9c08c31cc",
        "colab": {
          "base_uri": "https://localhost:8080/",
          "height": 456
        }
      },
      "source": [
        "#@title **Training the model...**\n",
        "\n",
        "learn_cls = text_classifier_learner(dls_cls, AWD_LSTM, drop_mult=0.5, metrics=accuracy).to_fp16()\n",
        "if fine_tuned_LM: learn_cls.load_encoder('fine-tuned-enc')\n",
        "learn_cls.fit_one_cycle(1, 2e-2)\n",
        "print(\"\\nPart 1/4 complete.\\n\")\n",
        "\n",
        "# Unfreezing and training a little more...\n",
        "learn_cls.freeze_to(-2)\n",
        "learn_cls.fit_one_cycle(1, slice(1e-2/(2.6**4),1e-2))\n",
        "print(\"\\nPart 2/4 complete.\\n\")\n",
        "\n",
        "# Unfreezing and training a little more, again...\n",
        "learn_cls.freeze_to(-3)\n",
        "learn_cls.fit_one_cycle(1, slice(5e-3/(2.6**4),5e-3))\n",
        "print(\"\\nPart 3/4 complete.\\n\")\n",
        "\n",
        "# Now let's unfreeze the whole model and finish training.\n",
        "learn_cls.unfreeze()\n",
        "learn_cls.fit_one_cycle(1, slice(1e-3/(2.6**4),1e-3))\n",
        "print(\"\\nPart 4/4 complete.\")"
      ],
      "execution_count": 13,
      "outputs": [
        {
          "output_type": "display_data",
          "data": {
            "text/html": [
              "<table border=\"1\" class=\"dataframe\">\n",
              "  <thead>\n",
              "    <tr style=\"text-align: left;\">\n",
              "      <th>epoch</th>\n",
              "      <th>train_loss</th>\n",
              "      <th>valid_loss</th>\n",
              "      <th>accuracy</th>\n",
              "      <th>time</th>\n",
              "    </tr>\n",
              "  </thead>\n",
              "  <tbody>\n",
              "    <tr>\n",
              "      <td>0</td>\n",
              "      <td>0.724102</td>\n",
              "      <td>0.382608</td>\n",
              "      <td>0.910714</td>\n",
              "      <td>00:04</td>\n",
              "    </tr>\n",
              "  </tbody>\n",
              "</table>"
            ],
            "text/plain": [
              "<IPython.core.display.HTML object>"
            ]
          },
          "metadata": {
            "tags": []
          }
        },
        {
          "output_type": "stream",
          "text": [
            "\n",
            "Part 1/4 complete.\n",
            "\n"
          ],
          "name": "stdout"
        },
        {
          "output_type": "display_data",
          "data": {
            "text/html": [
              "<table border=\"1\" class=\"dataframe\">\n",
              "  <thead>\n",
              "    <tr style=\"text-align: left;\">\n",
              "      <th>epoch</th>\n",
              "      <th>train_loss</th>\n",
              "      <th>valid_loss</th>\n",
              "      <th>accuracy</th>\n",
              "      <th>time</th>\n",
              "    </tr>\n",
              "  </thead>\n",
              "  <tbody>\n",
              "    <tr>\n",
              "      <td>0</td>\n",
              "      <td>0.578776</td>\n",
              "      <td>0.256420</td>\n",
              "      <td>0.936508</td>\n",
              "      <td>00:05</td>\n",
              "    </tr>\n",
              "  </tbody>\n",
              "</table>"
            ],
            "text/plain": [
              "<IPython.core.display.HTML object>"
            ]
          },
          "metadata": {
            "tags": []
          }
        },
        {
          "output_type": "stream",
          "text": [
            "\n",
            "Part 2/4 complete.\n",
            "\n"
          ],
          "name": "stdout"
        },
        {
          "output_type": "display_data",
          "data": {
            "text/html": [
              "<table border=\"1\" class=\"dataframe\">\n",
              "  <thead>\n",
              "    <tr style=\"text-align: left;\">\n",
              "      <th>epoch</th>\n",
              "      <th>train_loss</th>\n",
              "      <th>valid_loss</th>\n",
              "      <th>accuracy</th>\n",
              "      <th>time</th>\n",
              "    </tr>\n",
              "  </thead>\n",
              "  <tbody>\n",
              "    <tr>\n",
              "      <td>0</td>\n",
              "      <td>0.432339</td>\n",
              "      <td>0.181429</td>\n",
              "      <td>0.946429</td>\n",
              "      <td>00:05</td>\n",
              "    </tr>\n",
              "  </tbody>\n",
              "</table>"
            ],
            "text/plain": [
              "<IPython.core.display.HTML object>"
            ]
          },
          "metadata": {
            "tags": []
          }
        },
        {
          "output_type": "stream",
          "text": [
            "\n",
            "Part 3/4 complete.\n",
            "\n"
          ],
          "name": "stdout"
        },
        {
          "output_type": "display_data",
          "data": {
            "text/html": [
              "<table border=\"1\" class=\"dataframe\">\n",
              "  <thead>\n",
              "    <tr style=\"text-align: left;\">\n",
              "      <th>epoch</th>\n",
              "      <th>train_loss</th>\n",
              "      <th>valid_loss</th>\n",
              "      <th>accuracy</th>\n",
              "      <th>time</th>\n",
              "    </tr>\n",
              "  </thead>\n",
              "  <tbody>\n",
              "    <tr>\n",
              "      <td>0</td>\n",
              "      <td>0.350530</td>\n",
              "      <td>0.142742</td>\n",
              "      <td>0.953373</td>\n",
              "      <td>00:05</td>\n",
              "    </tr>\n",
              "  </tbody>\n",
              "</table>"
            ],
            "text/plain": [
              "<IPython.core.display.HTML object>"
            ]
          },
          "metadata": {
            "tags": []
          }
        },
        {
          "output_type": "stream",
          "text": [
            "\n",
            "Part 4/4 complete.\n"
          ],
          "name": "stdout"
        }
      ]
    },
    {
      "cell_type": "markdown",
      "metadata": {
        "id": "I1A1RLCpZ4-F"
      },
      "source": [
        "## Testing the model\n",
        "\n",
        "Now that our model is trained, let's test it on our held-out test dataset."
      ]
    },
    {
      "cell_type": "code",
      "metadata": {
        "id": "0GfUgbFD07d0",
        "cellView": "form",
        "outputId": "d8904ca5-6e02-4d35-e8e6-97e88939088b",
        "colab": {
          "base_uri": "https://localhost:8080/",
          "height": 170
        }
      },
      "source": [
        "#@title **Evaluating model performance**\n",
        "\n",
        "#@markdown In this cell, we run our report classification model on the held-out test dataset.\n",
        "#@markdown A report will be generated with the following information:\n",
        "#@markdown - **precision**: a.k.a. positive predictive value = true_positives / all_predicted_positives\n",
        "#@markdown - **recall**: a.k.a. sensitivity = true_positives / all_actual_positives\n",
        "#@markdown - **f1-score**: the harmonic mean of precision and recall\n",
        "#@markdown - **accuracy**: number_correct / number_reports\n",
        "\n",
        "#@markdown > _Note:_ Support = number of reports used to derive the result in that row\n",
        "\n",
        "test_items = test_df[[training_target, 'label']].copy()\n",
        "test_items.columns = ['text', 'label']\n",
        "dl_test = learn_cls.dls.test_dl(test_items, with_labels=True)\n",
        "interp = ClassificationInterpretation.from_learner(learn_cls, dl=dl_test)\n",
        "interp.print_classification_report()"
      ],
      "execution_count": 14,
      "outputs": [
        {
          "output_type": "display_data",
          "data": {
            "text/html": [
              ""
            ],
            "text/plain": [
              "<IPython.core.display.HTML object>"
            ]
          },
          "metadata": {
            "tags": []
          }
        },
        {
          "output_type": "stream",
          "text": [
            "              precision    recall  f1-score   support\n",
            "\n",
            "    abnormal       0.95      0.96      0.96       385\n",
            "      normal       0.93      0.91      0.92       209\n",
            "\n",
            "    accuracy                           0.94       594\n",
            "   macro avg       0.94      0.94      0.94       594\n",
            "weighted avg       0.94      0.94      0.94       594\n",
            "\n"
          ],
          "name": "stdout"
        }
      ]
    },
    {
      "cell_type": "code",
      "metadata": {
        "id": "ahD2tbSPENCx",
        "cellView": "form",
        "outputId": "fcdb2b36-cc7d-4123-8894-1a08e82bc765",
        "colab": {
          "base_uri": "https://localhost:8080/",
          "height": 311
        }
      },
      "source": [
        "#@title **The confusion matrix**\n",
        "\n",
        "#@markdown The _confusion matrix_ is a graphical representation of how the model performed.\n",
        "#@markdown In our case, it is a 2x2 table comparing model predictions to the actual label for each class (i.e. \"normal\" and \"abnormal\").\n",
        "\n",
        "interp.plot_confusion_matrix()"
      ],
      "execution_count": 15,
      "outputs": [
        {
          "output_type": "display_data",
          "data": {
            "image/png": "[encoded data removed]",
            "text/plain": [
              "<Figure size 432x288 with 1 Axes>"
            ]
          },
          "metadata": {
            "tags": [],
            "needs_background": "light"
          }
        }
      ]
    },
    {
      "cell_type": "code",
      "metadata": {
        "id": "DobcZhKzZDKq",
        "cellView": "form",
        "outputId": "8935909f-e3bb-4d94-fe7c-192f432b8913",
        "colab": {
          "base_uri": "https://localhost:8080/",
          "height": 295
        }
      },
      "source": [
        "#@title **Analyzing the failures or \"top losses\"**\n",
        "\n",
        "#@markdown The _loss function_ gives us a numerical value telling us how far off the model's prediction is from the actual class.\n",
        "#@markdown The higher the loss, the more confused our model is.\n",
        "\n",
        "#@markdown Analyzing the top losses can help you understand why your model fails when it fails.\n",
        "#@markdown Here, we plot the top 3 losses for our test dataset.\n",
        "\n",
        "interp.plot_top_losses(3)"
      ],
      "execution_count": 16,
      "outputs": [
        {
          "output_type": "display_data",
          "data": {
            "text/html": [
              "<table border=\"1\" class=\"dataframe\">\n",
              "  <thead>\n",
              "    <tr style=\"text-align: right;\">\n",
              "      <th></th>\n",
              "      <th>input</th>\n",
              "      <th>target</th>\n",
              "      <th>predicted</th>\n",
              "      <th>probability</th>\n",
              "      <th>loss</th>\n",
              "    </tr>\n",
              "  </thead>\n",
              "  <tbody>\n",
              "    <tr>\n",
              "      <th>0</th>\n",
              "      <td>xxbos xxmaj heart xxrep 4 x , mediastinum , xxrep 4 x , bony structures and lung xxrep 4 x are unremarkable . xxmaj no radiographic evidence of acute cardiopulmonary disease xxpad xxpad xxpad xxpad xxpad xxpad xxpad xxpad xxpad xxpad xxpad xxpad xxpad xxpad xxpad xxpad xxpad xxpad xxpad xxpad xxpad xxpad xxpad xxpad xxpad xxpad xxpad xxpad xxpad xxpad xxpad xxpad xxpad xxpad xxpad xxpad xxpad xxpad xxpad xxpad xxpad xxpad xxpad xxpad xxpad xxpad xxpad xxpad xxpad xxpad xxpad xxpad xxpad xxpad xxpad xxpad</td>\n",
              "      <td>abnormal</td>\n",
              "      <td>normal</td>\n",
              "      <td>0.9499022960662842</td>\n",
              "      <td>2.993778944015503</td>\n",
              "    </tr>\n",
              "    <tr>\n",
              "      <th>1</th>\n",
              "      <td>xxbos xxmaj the heart size and pulmonary vascularity appear within normal limits . xxmaj lungs are free of focal airspace disease . xxmaj no pleural effusion or pneumothorax is seen . xxmaj no discrete nodules or adenopathy are noted . xxmaj degenerative changes are present in the spine . xxmaj no evidence of active disease . xxpad xxpad xxpad xxpad xxpad xxpad xxpad xxpad xxpad xxpad xxpad xxpad xxpad xxpad xxpad xxpad xxpad xxpad xxpad xxpad xxpad xxpad xxpad xxpad xxpad xxpad xxpad xxpad xxpad xxpad xxpad</td>\n",
              "      <td>normal</td>\n",
              "      <td>abnormal</td>\n",
              "      <td>0.9496226906776428</td>\n",
              "      <td>2.9882140159606934</td>\n",
              "    </tr>\n",
              "    <tr>\n",
              "      <th>2</th>\n",
              "      <td>xxbos xxmaj the heart , pulmonary xxrep 4 x and mediastinum are within normal limits . xxmaj there is no pleural effusion or pneumothorax . xxmaj there is no focal air space opacity to suggest a pneumonia . xxmaj there is no pulmonary nodule identified . xxmaj there is a left humerus prosthesis xxunk demonstrated . xxmaj no acute cardiopulmonary disease . xxmaj no evidence for metastatic disease by radiographic evaluation . xxpad xxpad xxpad xxpad xxpad xxpad xxpad xxpad xxpad xxpad xxpad xxpad xxpad xxpad xxpad</td>\n",
              "      <td>normal</td>\n",
              "      <td>abnormal</td>\n",
              "      <td>0.9465966820716858</td>\n",
              "      <td>2.929882287979126</td>\n",
              "    </tr>\n",
              "  </tbody>\n",
              "</table>"
            ],
            "text/plain": [
              "<IPython.core.display.HTML object>"
            ]
          },
          "metadata": {
            "tags": []
          }
        }
      ]
    },
    {
      "cell_type": "markdown",
      "metadata": {
        "id": "5n9v8V--I89P"
      },
      "source": [
        "# **BONUS:** Language Model Text Generation\n",
        "\n",
        "Just for fun, let's see how well our language model does at generating text. \n",
        ">**_NOTE_**: If you haven't trained the language model yet, you'll need to go back and do so now in order to proceed. Unfortunately, the language model is too big to save on GitHub..."
      ]
    },
    {
      "cell_type": "code",
      "metadata": {
        "id": "_W9x5gRKISQ0",
        "cellView": "form",
        "outputId": "e9199cff-8423-411d-ccaf-2878d3d44602",
        "colab": {
          "base_uri": "https://localhost:8080/",
          "height": 85
        }
      },
      "source": [
        "#@title **Text Generator**\n",
        "\n",
        "#@markdown Enter ~3-5 words to give our language model something to work with, then select other options and run the cell.\n",
        "\n",
        "#@markdown Unchecking `ULMFiT` will generate predictions without our fine-tuned model.\n",
        "\n",
        "text = 'Normal heart size' #@param {type: \"string\"}\n",
        "words_per_sentence = 18 #@param {type: \"integer\"}\n",
        "num_sentences = 2 #@param {type: \"integer\"}\n",
        "ULMFiT = True #@param {type: \"boolean\"}\n",
        "\n",
        "print('Generating predictions...')\n",
        "if ULMFiT:\n",
        "    preds = [learn_lm.predict(text, words_per_sentence, temperature=0.75) for _ in range(num_sentences)]\n",
        "else:\n",
        "    learn_lm_new = language_model_learner(dls_lm, AWD_LSTM)\n",
        "    preds = [learn_lm_new.predict(text, words_per_sentence, temperature=0.75) for _ in range(num_sentences)]\n",
        "print()\n",
        "for i, pred in enumerate(preds): print(f'Sentence {i + 1}: {pred}')"
      ],
      "execution_count": 19,
      "outputs": [
        {
          "output_type": "stream",
          "text": [
            "Generating predictions...\n"
          ],
          "name": "stdout"
        },
        {
          "output_type": "display_data",
          "data": {
            "text/html": [
              ""
            ],
            "text/plain": [
              "<IPython.core.display.HTML object>"
            ]
          },
          "metadata": {
            "tags": []
          }
        },
        {
          "output_type": "display_data",
          "data": {
            "text/html": [
              ""
            ],
            "text/plain": [
              "<IPython.core.display.HTML object>"
            ]
          },
          "metadata": {
            "tags": []
          }
        },
        {
          "output_type": "stream",
          "text": [
            "\n",
            "Sentence 1: Normal heart size . Stable increased mediastinal contour . Normal pulmonary vascularity . No focal airspace consolidation .\n",
            "Sentence 2: Normal heart size and mediastinal contours . No focal airspace consolidation . No pleural effusion . No pneumothorax\n"
          ],
          "name": "stdout"
        }
      ]
    },
    {
      "cell_type": "markdown",
      "metadata": {
        "id": "9mzzwIBTQRSh"
      },
      "source": [
        "Looks like our generated text is pretty realistic! Try it again without the pre-trained model and you'll really see how the ULM-FiT approach contributes to a better text classification model."
      ]
    },
    {
      "cell_type": "code",
      "metadata": {
        "id": "gpPthCoZ0Q3P"
      },
      "source": [
        ""
      ],
      "execution_count": 17,
      "outputs": []
    }
  ]
}