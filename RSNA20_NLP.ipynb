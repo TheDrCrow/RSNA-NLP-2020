{
  "nbformat": 4,
  "nbformat_minor": 0,
  "metadata": {
    "colab": {
      "name": "RSNA20_NLP.ipynb",
      "provenance": [],
      "collapsed_sections": [],
      "toc_visible": true,
      "authorship_tag": "ABX9TyOfvI/UOEN5iLI7Qs6fzNfS",
      "include_colab_link": true
    },
    "kernelspec": {
      "name": "python3",
      "display_name": "Python 3"
    },
    "accelerator": "GPU"
  },
  "cells": [
    {
      "cell_type": "markdown",
      "metadata": {
        "id": "view-in-github",
        "colab_type": "text"
      },
      "source": [
        "<a href=\"https://colab.research.google.com/github/wfwiggins/RSNA-NLP-2020/blob/master/RSNA20_NLP.ipynb\" target=\"_parent\"><img src=\"https://colab.research.google.com/assets/colab-badge.svg\" alt=\"Open In Colab\"/></a>"
      ]
    },
    {
      "cell_type": "markdown",
      "metadata": {
        "id": "kIjz0KY4kSQV"
      },
      "source": [
        "# **RSNA 2020: Hands-on AI for Non-Coders**\n",
        "\n",
        "## **Basics of Information Extraction from Radiology Reports**\n",
        "\n",
        "In this demonstration, we will utilize techniques of _natural language processing_ (NLP) to train a classifier, which will analyze the text of radiology reports for chest radiographs to predict whether a report is **normal** or **abnormal**."
      ]
    },
    {
      "cell_type": "markdown",
      "metadata": {
        "id": "CIrzuLMzr3Ey"
      },
      "source": [
        "# System Setup & Downloading the Data\n",
        "\n",
        "- The first step will install the necessary libraries, then the system will restart. This _WILL_ generate an error message, which can safely be ignored 😉.\n",
        "- In the second step, we will download the [NLM Open-i \"Indiana University Chest X-ray Reports\" dataset](https://openi.nlm.nih.gov/faq#collection)."
      ]
    },
    {
      "cell_type": "code",
      "metadata": {
        "id": "MIA9a7rckKil",
        "cellView": "both"
      },
      "source": [
        "#@title **Installing libraries & restarting...**\n",
        "\n",
        "import os\n",
        "\n",
        "!pip install fastai --upgrade >/dev/null\n",
        "!pip install xmltodict >/dev/null\n",
        "\n",
        "os.kill(os.getpid(), 9)"
      ],
      "execution_count": null,
      "outputs": []
    },
    {
      "cell_type": "code",
      "metadata": {
        "id": "klDik57Vm9Cg",
        "cellView": "both",
        "outputId": "e2f0108d-7c0c-4bae-99af-3f0da284abf6",
        "colab": {
          "base_uri": "https://localhost:8080/",
          "height": 34
        }
      },
      "source": [
        "#@title **Downloading the data...**\n",
        "\n",
        "!curl -s https://openi.nlm.nih.gov/imgs/collections/NLMCXR_reports.tgz | tar xvz >/dev/null\n",
        "\n",
        "print('Success!')"
      ],
      "execution_count": 1,
      "outputs": [
        {
          "output_type": "stream",
          "text": [
            "Success!\n"
          ],
          "name": "stdout"
        }
      ]
    },
    {
      "cell_type": "markdown",
      "metadata": {
        "id": "SMmKrqN5tM83"
      },
      "source": [
        "# Reformatting the Data\n",
        "\n",
        "Each of the reports is stored in _extensible markup language_ (XML) format. In order to work with the report text data more easily, we will extract the data and put it into a `pandas.DataFrame`, which is a tabular data structure.\n",
        "\n",
        "The XML metadata contains [MeSH terms](https://www.ncbi.nlm.nih.gov/mesh/) for each report. We will use these to create the _label_ for each report in our dataset. These labels will serve as the targets for training our classifier to predict whether the report is **normal** or **abnormal**."
      ]
    },
    {
      "cell_type": "code",
      "metadata": {
        "id": "Gemrv76EoQVX",
        "cellView": "both",
        "outputId": "a3971488-d756-44be-a7bc-6f4733caa773",
        "colab": {
          "base_uri": "https://localhost:8080/",
          "height": 1000
        }
      },
      "source": [
        "#@title **Extracting the data...**\n",
        "\n",
        "import glob\n",
        "import xmltodict\n",
        "from fastai.basics import *\n",
        "\n",
        "def xml_parse(f):\n",
        "    with open(f) as xml:\n",
        "        report_dict = xmltodict.parse(xml.read())\n",
        "    xml.close()\n",
        "    return report_dict\n",
        "\n",
        "def get_label(report):\n",
        "    label = L(report['eCitation']['MeSH']['major'])\n",
        "    return 'normal' if label[0].lower() == 'normal' else 'abnormal'\n",
        "\n",
        "def get_text(report):\n",
        "    text_dict = {}\n",
        "    text = report['eCitation']['MedlineCitation']['Article']['Abstract']['AbstractText']\n",
        "    findings = text[2]['#text'] if '#text' in text[2] else ''\n",
        "    text_dict['findings'] = findings\n",
        "    impression = text[3]['#text'] if '#text' in text[3] else ''\n",
        "    text_dict['impression'] = impression\n",
        "    text_dict['text'] = ' '.join([findings, impression])\n",
        "    return text_dict\n",
        "\n",
        "def process_report(report):\n",
        "    label = get_label(report)\n",
        "    report_dict = get_text(report)\n",
        "    report_dict['label'] = label\n",
        "    return report_dict\n",
        "\n",
        "fps = L(glob.glob('/content/ecgen-radiology/*'))\n",
        "reports = fps.map(xml_parse)\n",
        "reports_df = pd.DataFrame(reports.map(process_report))\n",
        "reports_df"
      ],
      "execution_count": 2,
      "outputs": [
        {
          "output_type": "execute_result",
          "data": {
            "text/html": [
              "<div>\n",
              "<style scoped>\n",
              "    .dataframe tbody tr th:only-of-type {\n",
              "        vertical-align: middle;\n",
              "    }\n",
              "\n",
              "    .dataframe tbody tr th {\n",
              "        vertical-align: top;\n",
              "    }\n",
              "\n",
              "    .dataframe thead th {\n",
              "        text-align: right;\n",
              "    }\n",
              "</style>\n",
              "<table border=\"1\" class=\"dataframe\">\n",
              "  <thead>\n",
              "    <tr style=\"text-align: right;\">\n",
              "      <th></th>\n",
              "      <th>findings</th>\n",
              "      <th>impression</th>\n",
              "      <th>text</th>\n",
              "      <th>label</th>\n",
              "    </tr>\n",
              "  </thead>\n",
              "  <tbody>\n",
              "    <tr>\n",
              "      <th>0</th>\n",
              "      <td>No focal lung consolidation. Heart size and pulmonary vascularity are within normal limits. No pneumothorax or pleural effusion. Osseous structures are grossly intact.</td>\n",
              "      <td>No acute cardiopulmonary process.</td>\n",
              "      <td>No focal lung consolidation. Heart size and pulmonary vascularity are within normal limits. No pneumothorax or pleural effusion. Osseous structures are grossly intact. No acute cardiopulmonary process.</td>\n",
              "      <td>normal</td>\n",
              "    </tr>\n",
              "    <tr>\n",
              "      <th>1</th>\n",
              "      <td>The heart, pulmonary XXXX and mediastinum are within normal limits. There is no pleural effusion or pneumothorax. There is no focal air space opacity to suggest a pneumonia. There is persistent stable appearing right apical scarring. There is persistent left basilar scarring. There are minimal degenerative changes of the spine.</td>\n",
              "      <td>Chronic lung disease without superimposed acute disease identified.</td>\n",
              "      <td>The heart, pulmonary XXXX and mediastinum are within normal limits. There is no pleural effusion or pneumothorax. There is no focal air space opacity to suggest a pneumonia. There is persistent stable appearing right apical scarring. There is persistent left basilar scarring. There are minimal degenerative changes of the spine. Chronic lung disease without superimposed acute disease identified.</td>\n",
              "      <td>abnormal</td>\n",
              "    </tr>\n",
              "    <tr>\n",
              "      <th>2</th>\n",
              "      <td>XXXX XXXX and lateral views of the chest were obtained XXXX/XXXX. The lung volumes are low normal. The lungs are clear and there are no pleural effusions. The mediastinum and pulmonary XXXX are normal. The bony elements are not remarkable.</td>\n",
              "      <td>No acute cardiopulmonary abnormalities are seen. END OF REPORT.</td>\n",
              "      <td>XXXX XXXX and lateral views of the chest were obtained XXXX/XXXX. The lung volumes are low normal. The lungs are clear and there are no pleural effusions. The mediastinum and pulmonary XXXX are normal. The bony elements are not remarkable. No acute cardiopulmonary abnormalities are seen. END OF REPORT.</td>\n",
              "      <td>normal</td>\n",
              "    </tr>\n",
              "    <tr>\n",
              "      <th>3</th>\n",
              "      <td></td>\n",
              "      <td>Right apical scarring as before. Right midlung granuloma. No suspicious appearing nodules identified. Well-expanded and clear lungs. Mediastinal contour within normal limits. No acute cardiopulmonary abnormality identified.</td>\n",
              "      <td>Right apical scarring as before. Right midlung granuloma. No suspicious appearing nodules identified. Well-expanded and clear lungs. Mediastinal contour within normal limits. No acute cardiopulmonary abnormality identified.</td>\n",
              "      <td>abnormal</td>\n",
              "    </tr>\n",
              "    <tr>\n",
              "      <th>4</th>\n",
              "      <td>No pneumothorax or pleural effusion. Normal cardiac contour. Clear lungs bilaterally.</td>\n",
              "      <td>1. No acute cardiopulmonary abnormalities.</td>\n",
              "      <td>No pneumothorax or pleural effusion. Normal cardiac contour. Clear lungs bilaterally. 1. No acute cardiopulmonary abnormalities.</td>\n",
              "      <td>normal</td>\n",
              "    </tr>\n",
              "    <tr>\n",
              "      <th>...</th>\n",
              "      <td>...</td>\n",
              "      <td>...</td>\n",
              "      <td>...</td>\n",
              "      <td>...</td>\n",
              "    </tr>\n",
              "    <tr>\n",
              "      <th>3950</th>\n",
              "      <td>Again seen are platelike horizontal opacities in both lung bases through this is consistent with scarring or subsegmental atelectasis. There are T-spine osteophytes. The cardiomediastinal silhouette and pulmonary vasculature are within normal limits. There is no pneumothorax or pleural effusion. There there is no lobar pneumonia. There are calcified right hilar granuloma. There are degenerative changes of the XXXX. There is a curvilinear density within and along the right costophrenic sulcus which most XXXX represents a skinfold. There is a unchanged fracture with callus at the left 9th la...</td>\n",
              "      <td>Unchanged platelike bibasilar opacities most XXXX representing scarring or subsegmental atelectasis. No acute cardiopulmonary abnormality.</td>\n",
              "      <td>Again seen are platelike horizontal opacities in both lung bases through this is consistent with scarring or subsegmental atelectasis. There are T-spine osteophytes. The cardiomediastinal silhouette and pulmonary vasculature are within normal limits. There is no pneumothorax or pleural effusion. There there is no lobar pneumonia. There are calcified right hilar granuloma. There are degenerative changes of the XXXX. There is a curvilinear density within and along the right costophrenic sulcus which most XXXX represents a skinfold. There is a unchanged fracture with callus at the left 9th la...</td>\n",
              "      <td>abnormal</td>\n",
              "    </tr>\n",
              "    <tr>\n",
              "      <th>3951</th>\n",
              "      <td>Heart size and pulmonary vascularity appear within normal limits. Right PICC line is in XXXX. The tip has moved into the left innominate vein. There has been interval development of several ill-defined focal opacities in the left and right mid lung zones. No pneumothorax or pleural effusion is seen.</td>\n",
              "      <td>1. Malpositioned right PICC line tip. Now located in left innominate vein. 2. XXXX ill-defined focal opacities. These may represent small areas of pneumonia.</td>\n",
              "      <td>Heart size and pulmonary vascularity appear within normal limits. Right PICC line is in XXXX. The tip has moved into the left innominate vein. There has been interval development of several ill-defined focal opacities in the left and right mid lung zones. No pneumothorax or pleural effusion is seen. 1. Malpositioned right PICC line tip. Now located in left innominate vein. 2. XXXX ill-defined focal opacities. These may represent small areas of pneumonia.</td>\n",
              "      <td>abnormal</td>\n",
              "    </tr>\n",
              "    <tr>\n",
              "      <th>3952</th>\n",
              "      <td>There is mild blunting of the costophrenic XXXX. There is right basilar airspace disease. There is no pneumothorax. The cardiac mediastinal silhouettes are normal. Pulmonary XXXX are slightly prominent. Calcified hilar lymph XXXX. No acute bony abnormalities.</td>\n",
              "      <td>Right basilar infiltrate or atelectasis, and XXXX bilateral pleural effusions.</td>\n",
              "      <td>There is mild blunting of the costophrenic XXXX. There is right basilar airspace disease. There is no pneumothorax. The cardiac mediastinal silhouettes are normal. Pulmonary XXXX are slightly prominent. Calcified hilar lymph XXXX. No acute bony abnormalities. Right basilar infiltrate or atelectasis, and XXXX bilateral pleural effusions.</td>\n",
              "      <td>abnormal</td>\n",
              "    </tr>\n",
              "    <tr>\n",
              "      <th>3953</th>\n",
              "      <td>Lungs are overall hyperexpanded with flattening of the diaphragms. No focal consolidation. No pleural effusions or pneumothoraces. Heart and mediastinum of normal size and contour. Degenerative changes in the thoracic spine.</td>\n",
              "      <td>Hyperexpanded but clear lungs.</td>\n",
              "      <td>Lungs are overall hyperexpanded with flattening of the diaphragms. No focal consolidation. No pleural effusions or pneumothoraces. Heart and mediastinum of normal size and contour. Degenerative changes in the thoracic spine. Hyperexpanded but clear lungs.</td>\n",
              "      <td>abnormal</td>\n",
              "    </tr>\n",
              "    <tr>\n",
              "      <th>3954</th>\n",
              "      <td>The heart size and pulmonary vascular appear within normal limits. The lungs appear hyperexpanded consistent with emphysema. Calcified lymph XXXX and granuloma are noted. No acute appearing focal airspace disease is seen. No pleural effusion or pneumothorax is noted.</td>\n",
              "      <td>1. Hyperexpanded lungs consistent with emphysema. No evidence of active disease.</td>\n",
              "      <td>The heart size and pulmonary vascular appear within normal limits. The lungs appear hyperexpanded consistent with emphysema. Calcified lymph XXXX and granuloma are noted. No acute appearing focal airspace disease is seen. No pleural effusion or pneumothorax is noted. 1. Hyperexpanded lungs consistent with emphysema. No evidence of active disease.</td>\n",
              "      <td>abnormal</td>\n",
              "    </tr>\n",
              "  </tbody>\n",
              "</table>\n",
              "<p>3955 rows × 4 columns</p>\n",
              "</div>"
            ],
            "text/plain": [
              "                                                                                                                                                                                                                                                                                                                                                                                                                                                                                                                                                                                                                     findings  ...     label\n",
              "0                                                                                                                                                                                                                                                                                                                                                                                                                                                     No focal lung consolidation. Heart size and pulmonary vascularity are within normal limits. No pneumothorax or pleural effusion. Osseous structures are grossly intact.  ...    normal\n",
              "1                                                                                                                                                                                                                                                                                   The heart, pulmonary XXXX and mediastinum are within normal limits. There is no pleural effusion or pneumothorax. There is no focal air space opacity to suggest a pneumonia. There is persistent stable appearing right apical scarring. There is persistent left basilar scarring. There are minimal degenerative changes of the spine.  ...  abnormal\n",
              "2                                                                                                                                                                                                                                                                                                                                                                             XXXX XXXX and lateral views of the chest were obtained XXXX/XXXX. The lung volumes are low normal. The lungs are clear and there are no pleural effusions. The mediastinum and pulmonary XXXX are normal. The bony elements are not remarkable.  ...    normal\n",
              "3                                                                                                                                                                                                                                                                                                                                                                                                                                                                                                                                                                                                                              ...  abnormal\n",
              "4                                                                                                                                                                                                                                                                                                                                                                                                                                                                                                                                       No pneumothorax or pleural effusion. Normal cardiac contour. Clear lungs bilaterally.  ...    normal\n",
              "...                                                                                                                                                                                                                                                                                                                                                                                                                                                                                                                                                                                                                       ...  ...       ...\n",
              "3950  Again seen are platelike horizontal opacities in both lung bases through this is consistent with scarring or subsegmental atelectasis. There are T-spine osteophytes. The cardiomediastinal silhouette and pulmonary vasculature are within normal limits. There is no pneumothorax or pleural effusion. There there is no lobar pneumonia. There are calcified right hilar granuloma. There are degenerative changes of the XXXX. There is a curvilinear density within and along the right costophrenic sulcus which most XXXX represents a skinfold. There is a unchanged fracture with callus at the left 9th la...  ...  abnormal\n",
              "3951                                                                                                                                                                                                                                                                                                             Heart size and pulmonary vascularity appear within normal limits. Right PICC line is in XXXX. The tip has moved into the left innominate vein. There has been interval development of several ill-defined focal opacities in the left and right mid lung zones. No pneumothorax or pleural effusion is seen.  ...  abnormal\n",
              "3952                                                                                                                                                                                                                                                                                                                                                      There is mild blunting of the costophrenic XXXX. There is right basilar airspace disease. There is no pneumothorax. The cardiac mediastinal silhouettes are normal. Pulmonary XXXX are slightly prominent. Calcified hilar lymph XXXX. No acute bony abnormalities.  ...  abnormal\n",
              "3953                                                                                                                                                                                                                                                                                                                                                                                         Lungs are overall hyperexpanded with flattening of the diaphragms. No focal consolidation. No pleural effusions or pneumothoraces. Heart and mediastinum of normal size and contour. Degenerative changes in the thoracic spine.  ...  abnormal\n",
              "3954                                                                                                                                                                                                                                                                                                                                              The heart size and pulmonary vascular appear within normal limits. The lungs appear hyperexpanded consistent with emphysema. Calcified lymph XXXX and granuloma are noted. No acute appearing focal airspace disease is seen. No pleural effusion or pneumothorax is noted.  ...  abnormal\n",
              "\n",
              "[3955 rows x 4 columns]"
            ]
          },
          "metadata": {
            "tags": []
          },
          "execution_count": 2
        }
      ]
    },
    {
      "cell_type": "markdown",
      "metadata": {
        "id": "4sANCvWZy2_5"
      },
      "source": [
        "# Exploring the data\n",
        "\n",
        "As you'll see in the table above, there are some reports where the \"Impression\" states something along the lines of \"No acute cardiopulmonary abnormality\" but the label is \"abnormal\". This is usually due to a chronic incidental finding or artifact that is mentioned in the \"Findings\", but isn't included in the \"Impression\".\n",
        "\n",
        "> We'll revisit this point later when we're deciding which text from the report we want to use to train our classifier.\n",
        "\n",
        "For now, let's look through a little more of the data and see how many normals and abnormals we have to work with."
      ]
    },
    {
      "cell_type": "code",
      "metadata": {
        "id": "HJQupI3dyCTB",
        "outputId": "5eeade89-13ab-42f6-aebb-17913952257a",
        "colab": {
          "base_uri": "https://localhost:8080/",
          "height": 432
        }
      },
      "source": [
        "#@title **Run this cell several times to view random samples of the data**\n",
        "\n",
        "reports_df.sample(5)"
      ],
      "execution_count": 3,
      "outputs": [
        {
          "output_type": "execute_result",
          "data": {
            "text/html": [
              "<div>\n",
              "<style scoped>\n",
              "    .dataframe tbody tr th:only-of-type {\n",
              "        vertical-align: middle;\n",
              "    }\n",
              "\n",
              "    .dataframe tbody tr th {\n",
              "        vertical-align: top;\n",
              "    }\n",
              "\n",
              "    .dataframe thead th {\n",
              "        text-align: right;\n",
              "    }\n",
              "</style>\n",
              "<table border=\"1\" class=\"dataframe\">\n",
              "  <thead>\n",
              "    <tr style=\"text-align: right;\">\n",
              "      <th></th>\n",
              "      <th>findings</th>\n",
              "      <th>impression</th>\n",
              "      <th>text</th>\n",
              "      <th>label</th>\n",
              "    </tr>\n",
              "  </thead>\n",
              "  <tbody>\n",
              "    <tr>\n",
              "      <th>1036</th>\n",
              "      <td>The lungs are clear bilaterally. Specifically, no evidence of focal consolidation, pneumothorax, or pleural effusion.. Cardio mediastinal silhouette is unremarkable. Visualized osseous structures of the thorax are without acute abnormality.</td>\n",
              "      <td>No acute cardiopulmonary abnormality..</td>\n",
              "      <td>The lungs are clear bilaterally. Specifically, no evidence of focal consolidation, pneumothorax, or pleural effusion.. Cardio mediastinal silhouette is unremarkable. Visualized osseous structures of the thorax are without acute abnormality. No acute cardiopulmonary abnormality..</td>\n",
              "      <td>normal</td>\n",
              "    </tr>\n",
              "    <tr>\n",
              "      <th>500</th>\n",
              "      <td></td>\n",
              "      <td></td>\n",
              "      <td></td>\n",
              "      <td>normal</td>\n",
              "    </tr>\n",
              "    <tr>\n",
              "      <th>960</th>\n",
              "      <td>Heart size and vascularity normal. These contour normal. Lungs clear. No pleural effusions or pneumothoraces.</td>\n",
              "      <td>Normal chest.</td>\n",
              "      <td>Heart size and vascularity normal. These contour normal. Lungs clear. No pleural effusions or pneumothoraces. Normal chest.</td>\n",
              "      <td>normal</td>\n",
              "    </tr>\n",
              "    <tr>\n",
              "      <th>2376</th>\n",
              "      <td>There are scattered XXXX opacities in the left lower lobe. Cardiac silhouette is within normal limits. There is prominence of the right and left hilum XXXX representing enlargement of the central pulmonary arteries. No pneumothorax or pleural effusion. No acute bone abnormality.</td>\n",
              "      <td>1. Left lower lobe opacities XXXX representing pneumonia. 2. Enlargement of the central pulmonary arteries raising the question of pulmonary hypertension.</td>\n",
              "      <td>There are scattered XXXX opacities in the left lower lobe. Cardiac silhouette is within normal limits. There is prominence of the right and left hilum XXXX representing enlargement of the central pulmonary arteries. No pneumothorax or pleural effusion. No acute bone abnormality. 1. Left lower lobe opacities XXXX representing pneumonia. 2. Enlargement of the central pulmonary arteries raising the question of pulmonary hypertension.</td>\n",
              "      <td>abnormal</td>\n",
              "    </tr>\n",
              "    <tr>\n",
              "      <th>3774</th>\n",
              "      <td>Coronary artery stents visualized. The cardiomediastinal silhouette is within normal limits for size and contour. The lungs are normally inflated without evidence of focal airspace disease, pleural effusion, or pneumothorax. No acute bone abnormality.</td>\n",
              "      <td>No acute cardiopulmonary process.</td>\n",
              "      <td>Coronary artery stents visualized. The cardiomediastinal silhouette is within normal limits for size and contour. The lungs are normally inflated without evidence of focal airspace disease, pleural effusion, or pneumothorax. No acute bone abnormality. No acute cardiopulmonary process.</td>\n",
              "      <td>abnormal</td>\n",
              "    </tr>\n",
              "  </tbody>\n",
              "</table>\n",
              "</div>"
            ],
            "text/plain": [
              "                                                                                                                                                                                                                                                                                     findings  ...     label\n",
              "1036                                         The lungs are clear bilaterally. Specifically, no evidence of focal consolidation, pneumothorax, or pleural effusion.. Cardio mediastinal silhouette is unremarkable. Visualized osseous structures of the thorax are without acute abnormality.  ...    normal\n",
              "500                                                                                                                                                                                                                                                                                            ...    normal\n",
              "960                                                                                                                                                                             Heart size and vascularity normal. These contour normal. Lungs clear. No pleural effusions or pneumothoraces.  ...    normal\n",
              "2376  There are scattered XXXX opacities in the left lower lobe. Cardiac silhouette is within normal limits. There is prominence of the right and left hilum XXXX representing enlargement of the central pulmonary arteries. No pneumothorax or pleural effusion. No acute bone abnormality.  ...  abnormal\n",
              "3774                              Coronary artery stents visualized. The cardiomediastinal silhouette is within normal limits for size and contour. The lungs are normally inflated without evidence of focal airspace disease, pleural effusion, or pneumothorax. No acute bone abnormality.  ...  abnormal\n",
              "\n",
              "[5 rows x 4 columns]"
            ]
          },
          "metadata": {
            "tags": []
          },
          "execution_count": 3
        }
      ]
    },
    {
      "cell_type": "markdown",
      "metadata": {
        "id": "qq2-xd-YyrpC"
      },
      "source": [
        "Here are some of the things you may have noticed about the data, as you reviewed it:\n",
        "- Some reports only have an Impression (i.e. no separate Findings section)\n",
        "- Many reports contain blocks of \"XXXX\" text. This is due to the fact that these reports were anonymized prior to releasing them as an open data set. These blocks likely represent _named entities_ or dates.\n",
        "- As expected, there is wide variation in the length of these chest radiograph reports.\n",
        "\n",
        "<hr>\n",
        "\n",
        "Next, let's count how many of each label we have.\n"
      ]
    },
    {
      "cell_type": "code",
      "metadata": {
        "id": "nqY-EC3opnBW",
        "outputId": "39e2ca34-9bc6-4b04-d96d-737a53c48654",
        "colab": {
          "base_uri": "https://localhost:8080/",
          "height": 355
        }
      },
      "source": [
        "#@title **Label counts: # of Normals & Abnormals**\n",
        "label_counts = reports_df.label.value_counts()\n",
        "print('Abnormal:', label_counts['abnormal'])\n",
        "print('Normal:', label_counts['normal'])\n",
        "print()\n",
        "label_counts.plot.bar();"
      ],
      "execution_count": 4,
      "outputs": [
        {
          "output_type": "stream",
          "text": [
            "Abnormal: 2564\n",
            "Normal: 1391\n",
            "\n"
          ],
          "name": "stdout"
        },
        {
          "output_type": "display_data",
          "data": {
            "image/png": "[encoded data removed]",
            "text/plain": [
              "<Figure size 432x288 with 1 Axes>"
            ]
          },
          "metadata": {
            "tags": [],
            "needs_background": "light"
          }
        }
      ]
    },
    {
      "cell_type": "markdown",
      "metadata": {
        "id": "fGQenIsg0uqe"
      },
      "source": [
        "As we see in the bar graph above, there are almost twice as many abnormal reports as there are normal reports. This will be important to remember as we partition our data into training, validation, and test sets.\n",
        "\n",
        "In fact, we'll go ahead and split off (\"hold out\") the test set right now to ensure our model is not exposed to it until the very end. \n",
        "\n",
        "We'll set it up such that the our test set is 15% of our full data set and keep the relative percentage of labels the same as in our full dataset."
      ]
    },
    {
      "cell_type": "code",
      "metadata": {
        "id": "NCMPqjqvs1Mc",
        "outputId": "e806df09-b8b8-4cab-ad95-02e25d72b971",
        "colab": {
          "base_uri": "https://localhost:8080/",
          "height": 304
        }
      },
      "source": [
        "#@title **Test set label counts**\n",
        "from sklearn.model_selection import train_test_split\n",
        "\n",
        "np.random.seed(42)\n",
        "\n",
        "train_val, test = train_test_split(reports_df, test_size=0.15, stratify=reports_df.label.values)\n",
        "train_val.reset_index(inplace=True)\n",
        "test.reset_index(inplace=True)\n",
        "test_counts = test.label.value_counts()\n",
        "test_counts.plot.bar();"
      ],
      "execution_count": 5,
      "outputs": [
        {
          "output_type": "display_data",
          "data": {
            "image/png": "[encoded data removed]",
            "text/plain": [
              "<Figure size 432x288 with 1 Axes>"
            ]
          },
          "metadata": {
            "tags": [],
            "needs_background": "light"
          }
        }
      ]
    },
    {
      "cell_type": "markdown",
      "metadata": {
        "id": "HI7CMLEg6VjL"
      },
      "source": [
        "# Language Modeling\n",
        "\n",
        "The types of algorithms we use in NLP work with with numbers, not text. Therefore, we need a way to convert text into numbers.\n",
        "\n",
        "## Tokenization\n",
        "\n",
        "_Tokenization_ is the process by which we split text into chunks or _tokens_. An individual token could be a sentence or phrase, a word, a part of a word, or a single character. Most often, we choose to tokenize at the word or sub-word level.\n",
        "\n",
        "Each token is assigned a sequential integer value and the collection of token-integer pairs is called our _vocabulary_.\n",
        "\n",
        "## Embedding\n",
        "\n",
        "While these integers map one-to-one onto our tokens, their numeric value is otherwise meaningless. To embed more information into the numeric representation of our tokens, we employ a process called _language modeling_. We can either use a pre-trained language model for this _embedding_ or we can fine-tune a language model to better model our \"radiology language\". This latter process is called _transfer learning_."
      ]
    },
    {
      "cell_type": "code",
      "metadata": {
        "id": "oBodPuEb5XMK",
        "outputId": "78cddddc-1694-4008-913b-f7f6b0745af2",
        "colab": {
          "base_uri": "https://localhost:8080/",
          "height": 124
        }
      },
      "source": [
        "#@title **Word Tokenization**\n",
        "\n",
        "from fastai.text.all import *\n",
        "\n",
        "spacy = WordTokenizer()\n",
        "text = train_val.loc[0, 'text']\n",
        "print('Original text:')\n",
        "print(text)\n",
        "print()\n",
        "tkns = first(spacy([text]))\n",
        "print('After word tokenization (only showing first 10 tokens):')\n",
        "print(coll_repr(tkns))"
      ],
      "execution_count": 6,
      "outputs": [
        {
          "output_type": "stream",
          "text": [
            "Original text:\n",
            "The heart size is normal. There is normal cardiomediastinal silhouette. Lungs are clear bilaterally. Thoracic spine shows anterior osteophyte formation. No acute cardiopulmonary abnormality.\n",
            "\n",
            "After word tokenization (only showing first 10 tokens):\n",
            "(#29) ['The','heart','size','is','normal','.','There','is','normal','cardiomediastinal'...]\n"
          ],
          "name": "stdout"
        }
      ]
    },
    {
      "cell_type": "code",
      "metadata": {
        "id": "AzhXiIreGk7T",
        "outputId": "ab55b384-a390-4ba0-ac65-2253ac1923ed",
        "colab": {
          "base_uri": "https://localhost:8080/",
          "height": 34
        }
      },
      "source": [
        "#@title **fast.ai Tokenization**\n",
        "\n",
        "tkn = Tokenizer(spacy)\n",
        "toks = tkn(text)\n",
        "print(coll_repr(toks, 15))"
      ],
      "execution_count": 7,
      "outputs": [
        {
          "output_type": "stream",
          "text": [
            "(#35) ['xxbos','xxmaj','the','heart','size','is','normal','.','xxmaj','there','is','normal','cardiomediastinal','silhouette','.'...]\n"
          ],
          "name": "stdout"
        }
      ]
    },
    {
      "cell_type": "markdown",
      "metadata": {
        "id": "1QrDY1dqKw_1"
      },
      "source": [
        "## Added features from fast.ai\n",
        "\n",
        "You'll notice some odd-appearing tokens in the above output. These are special tokens that indicate certain things about the text.\n",
        "- `'xxbos'` indicates the beginning of the text _stream_\n",
        "- `'xxmaj'` indicates that the following character was capitalized before fast.ai lowered it\n",
        "\n",
        "These special tokens enrich the data while reducing the vocab by eliminating redundant upper and lower case variants of individual words."
      ]
    },
    {
      "cell_type": "markdown",
      "metadata": {
        "id": "FqTTlDBHM7Z3"
      },
      "source": [
        "## Numericalization\n",
        "\n",
        "Now that we've converted our text to tokens, the next step in embedding is to convert each unique token to a number.\n",
        "\n",
        "For language modeling, we can do this on all of the text that we intend to use for training and validation. So we'll combine the **Findings** and **Impression** for each of our reports and tokenize the text to define our _vocabulary_. Each token in the vocabulary will be identified by a unique number."
      ]
    },
    {
      "cell_type": "code",
      "metadata": {
        "id": "9jB19pgwKUWU",
        "outputId": "a92d45d2-e22f-41a1-d13d-778ca61c645b",
        "colab": {
          "base_uri": "https://localhost:8080/",
          "height": 35
        }
      },
      "source": [
        "#@title **Computing vocabulary...**\n",
        "\n",
        "txts = L(train_val['text'].to_list())\n",
        "toks = txts.map(tkn)\n",
        "num = Numericalize()\n",
        "num.setup(toks)\n",
        "coll_repr(num.vocab, 20)"
      ],
      "execution_count": 8,
      "outputs": [
        {
          "output_type": "execute_result",
          "data": {
            "application/vnd.google.colaboratory.intrinsic+json": {
              "type": "string"
            },
            "text/plain": [
              "\"(#1168) ['xxunk','xxpad','xxbos','xxeos','xxfld','xxrep','xxwrep','xxup','xxmaj','.','no','the','is','are','normal',',','4','x','and','of'...]\""
            ]
          },
          "metadata": {
            "tags": []
          },
          "execution_count": 8
        }
      ]
    },
    {
      "cell_type": "markdown",
      "metadata": {
        "id": "mrete-DVQzpT"
      },
      "source": [
        "As you can see above, we have 1,168 tokens in our vocabulary. The special tokens from `fast.ai` appear first, followed by every other token in order of decreasing frequency. By default, `fast.ai` only includes tokens that appear at least 3 times in the _corpus_ (collection of texts). "
      ]
    },
    {
      "cell_type": "code",
      "metadata": {
        "id": "apVezMTKOtd1",
        "outputId": "3086de6b-47c8-49d2-f3f7-312ef62387d8",
        "colab": {
          "base_uri": "https://localhost:8080/",
          "height": 52
        }
      },
      "source": [
        "#@title **Numericalizing tokens...**\n",
        "\n",
        "nums = num(toks[0][:14])\n",
        "print(nums)\n",
        "print(' '.join(num.vocab[i] for i in nums))"
      ],
      "execution_count": 9,
      "outputs": [
        {
          "output_type": "stream",
          "text": [
            "TensorText([ 2,  8, 11, 24, 28, 12, 14,  9,  8, 25, 12, 14, 47, 42])\n",
            "xxbos xxmaj the heart size is normal . xxmaj there is normal cardiomediastinal silhouette\n"
          ],
          "name": "stdout"
        }
      ]
    },
    {
      "cell_type": "markdown",
      "metadata": {
        "id": "Ln-1OfouTxvH"
      },
      "source": [
        "Here, we see a subset of the numericalized tokens (top) with their corresponding word tokens (bottom) from the first report in our _corpus_. "
      ]
    },
    {
      "cell_type": "markdown",
      "metadata": {
        "id": "PTH79qDqW4Zw"
      },
      "source": [
        "## Language Model Transfer Learning\n",
        "\n",
        "By default, `fastai.text` uses a language model pre-trained on the WikiText-103 corpus, which is a frequently used benchmark for NLP models, similar to ImageNet for image classification models.\n",
        "\n",
        "In their 2018 ACL paper \"[Universal Language Model Fine-Tuning for Text Classification](https://arxiv.org/abs/1801.06146)\", Jeremy Howard and Sebastian Ruder proposed the ULM-FiT approach of fine-tuning the language model on the corpus on which we will train our text classification model.\n",
        "\n",
        "Here, we will fine-tune the language model in two stages."
      ]
    },
    {
      "cell_type": "code",
      "metadata": {
        "id": "MJAoDjvwS9X0",
        "outputId": "f8ea450f-c3f1-4465-e0e2-4e1277683afe",
        "colab": {
          "base_uri": "https://localhost:8080/",
          "height": 81
        }
      },
      "source": [
        "#@title **Fine-tuning the language model (part 1)...**\n",
        "\n",
        "dls_lm = TextDataLoaders.from_df(train_val, valid_pct=0.3, seed=42, text_col='text', is_lm=True)\n",
        "learn = language_model_learner(dls_lm, AWD_LSTM, metrics=[accuracy, Perplexity()]).to_fp16()\n",
        "learn.fit_one_cycle(1, 2e-2)"
      ],
      "execution_count": 10,
      "outputs": [
        {
          "output_type": "display_data",
          "data": {
            "text/html": [
              ""
            ],
            "text/plain": [
              "<IPython.core.display.HTML object>"
            ]
          },
          "metadata": {
            "tags": []
          }
        },
        {
          "output_type": "display_data",
          "data": {
            "text/html": [
              ""
            ],
            "text/plain": [
              "<IPython.core.display.HTML object>"
            ]
          },
          "metadata": {
            "tags": []
          }
        },
        {
          "output_type": "display_data",
          "data": {
            "text/html": [
              "<table border=\"1\" class=\"dataframe\">\n",
              "  <thead>\n",
              "    <tr style=\"text-align: left;\">\n",
              "      <th>epoch</th>\n",
              "      <th>train_loss</th>\n",
              "      <th>valid_loss</th>\n",
              "      <th>accuracy</th>\n",
              "      <th>perplexity</th>\n",
              "      <th>time</th>\n",
              "    </tr>\n",
              "  </thead>\n",
              "  <tbody>\n",
              "    <tr>\n",
              "      <td>0</td>\n",
              "      <td>3.630922</td>\n",
              "      <td>2.322998</td>\n",
              "      <td>0.516553</td>\n",
              "      <td>10.206223</td>\n",
              "      <td>00:20</td>\n",
              "    </tr>\n",
              "  </tbody>\n",
              "</table>"
            ],
            "text/plain": [
              "<IPython.core.display.HTML object>"
            ]
          },
          "metadata": {
            "tags": []
          }
        }
      ]
    },
    {
      "cell_type": "code",
      "metadata": {
        "id": "WzMPzJjWbWLx",
        "outputId": "6a5670a5-9fe1-493c-fa82-0719b25d01ec",
        "colab": {
          "base_uri": "https://localhost:8080/",
          "height": 363
        }
      },
      "source": [
        "#@title **Fine-tuning the language model (part 2)...**\n",
        "\n",
        "learn.unfreeze()\n",
        "learn.fit_one_cycle(10, 2e-3)"
      ],
      "execution_count": 12,
      "outputs": [
        {
          "output_type": "display_data",
          "data": {
            "text/html": [
              "<table border=\"1\" class=\"dataframe\">\n",
              "  <thead>\n",
              "    <tr style=\"text-align: left;\">\n",
              "      <th>epoch</th>\n",
              "      <th>train_loss</th>\n",
              "      <th>valid_loss</th>\n",
              "      <th>accuracy</th>\n",
              "      <th>perplexity</th>\n",
              "      <th>time</th>\n",
              "    </tr>\n",
              "  </thead>\n",
              "  <tbody>\n",
              "    <tr>\n",
              "      <td>0</td>\n",
              "      <td>2.556715</td>\n",
              "      <td>2.085403</td>\n",
              "      <td>0.554155</td>\n",
              "      <td>8.047837</td>\n",
              "      <td>00:24</td>\n",
              "    </tr>\n",
              "    <tr>\n",
              "      <td>1</td>\n",
              "      <td>2.361071</td>\n",
              "      <td>1.858963</td>\n",
              "      <td>0.591483</td>\n",
              "      <td>6.417082</td>\n",
              "      <td>00:24</td>\n",
              "    </tr>\n",
              "    <tr>\n",
              "      <td>2</td>\n",
              "      <td>2.173694</td>\n",
              "      <td>1.708058</td>\n",
              "      <td>0.620550</td>\n",
              "      <td>5.518234</td>\n",
              "      <td>00:24</td>\n",
              "    </tr>\n",
              "    <tr>\n",
              "      <td>3</td>\n",
              "      <td>1.993125</td>\n",
              "      <td>1.587987</td>\n",
              "      <td>0.643873</td>\n",
              "      <td>4.893888</td>\n",
              "      <td>00:24</td>\n",
              "    </tr>\n",
              "    <tr>\n",
              "      <td>4</td>\n",
              "      <td>1.855278</td>\n",
              "      <td>1.529404</td>\n",
              "      <td>0.655503</td>\n",
              "      <td>4.615426</td>\n",
              "      <td>00:24</td>\n",
              "    </tr>\n",
              "    <tr>\n",
              "      <td>5</td>\n",
              "      <td>1.741695</td>\n",
              "      <td>1.494283</td>\n",
              "      <td>0.666212</td>\n",
              "      <td>4.456140</td>\n",
              "      <td>00:24</td>\n",
              "    </tr>\n",
              "    <tr>\n",
              "      <td>6</td>\n",
              "      <td>1.645422</td>\n",
              "      <td>1.466133</td>\n",
              "      <td>0.671289</td>\n",
              "      <td>4.332448</td>\n",
              "      <td>00:24</td>\n",
              "    </tr>\n",
              "    <tr>\n",
              "      <td>7</td>\n",
              "      <td>1.571282</td>\n",
              "      <td>1.453746</td>\n",
              "      <td>0.673462</td>\n",
              "      <td>4.279114</td>\n",
              "      <td>00:24</td>\n",
              "    </tr>\n",
              "    <tr>\n",
              "      <td>8</td>\n",
              "      <td>1.506127</td>\n",
              "      <td>1.444926</td>\n",
              "      <td>0.676284</td>\n",
              "      <td>4.241539</td>\n",
              "      <td>00:24</td>\n",
              "    </tr>\n",
              "    <tr>\n",
              "      <td>9</td>\n",
              "      <td>1.469286</td>\n",
              "      <td>1.444167</td>\n",
              "      <td>0.676613</td>\n",
              "      <td>4.238319</td>\n",
              "      <td>00:24</td>\n",
              "    </tr>\n",
              "  </tbody>\n",
              "</table>"
            ],
            "text/plain": [
              "<IPython.core.display.HTML object>"
            ]
          },
          "metadata": {
            "tags": []
          }
        }
      ]
    },
    {
      "cell_type": "code",
      "metadata": {
        "id": "A3TeFPXNerD2"
      },
      "source": [
        "#@title **Saving the fine-tuned language model...**\n",
        "\n",
        "learn.save_encoder('fine-tuned')"
      ],
      "execution_count": 13,
      "outputs": []
    },
    {
      "cell_type": "code",
      "metadata": {
        "id": "ZgadleOofVP3",
        "outputId": "d53c2617-2971-4fbe-86b6-34b37d8c41f3",
        "colab": {
          "base_uri": "https://localhost:8080/",
          "height": 34
        }
      },
      "source": [
        "#@title **Downloading fine-tuned language model...**\n",
        "\n",
        "!wget -q https://github.com/wfwiggins/RSNA-NLP-2020/blob/master/models.zip?raw=true\n",
        "!mkdir -p models\n",
        "!unzip -o models.zip?raw=true -d models >/dev/null\n",
        "!rm models.zip?raw=true\n",
        "\n",
        "print('Success!')"
      ],
      "execution_count": 14,
      "outputs": [
        {
          "output_type": "stream",
          "text": [
            "Success!\n"
          ],
          "name": "stdout"
        }
      ]
    }
  ]
}